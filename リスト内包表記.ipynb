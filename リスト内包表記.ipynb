{
  "nbformat": 4,
  "nbformat_minor": 0,
  "metadata": {
    "colab": {
      "provenance": [],
      "collapsed_sections": [],
      "authorship_tag": "ABX9TyOHJhu1g7bnMOoYwwXKzygP",
      "include_colab_link": true
    },
    "kernelspec": {
      "name": "python3",
      "display_name": "Python 3"
    },
    "language_info": {
      "name": "python"
    }
  },
  "cells": [
    {
      "cell_type": "markdown",
      "metadata": {
        "id": "view-in-github",
        "colab_type": "text"
      },
      "source": [
        "<a href=\"https://colab.research.google.com/github/maskot1977/ComputerExercises2022/blob/main/%E3%83%AA%E3%82%B9%E3%83%88%E5%86%85%E5%8C%85%E8%A1%A8%E8%A8%98.ipynb\" target=\"_parent\"><img src=\"https://colab.research.google.com/assets/colab-badge.svg\" alt=\"Open In Colab\"/></a>"
      ]
    },
    {
      "cell_type": "markdown",
      "source": [
        "Python 独特の記法の１つとして、初学者を悩ませがちな「リスト内包表記」について、ちょっとだけ、順を追ってデモンストレーションしてみます。\n",
        "\n",
        "# 範囲をリストで列挙した for 文\n",
        "\n",
        "まずは、０から９までの１刻みの範囲をリストで明記して、それらを 1/10 倍したものをプリントしてみましょう。"
      ],
      "metadata": {
        "id": "RuIGXGjZcmtR"
      }
    },
    {
      "cell_type": "code",
      "execution_count": 10,
      "metadata": {
        "colab": {
          "base_uri": "https://localhost:8080/"
        },
        "id": "XMeHkOViYCxF",
        "outputId": "cd391c0d-c7af-42f3-e5e4-4f4ffb9d587e"
      },
      "outputs": [
        {
          "output_type": "stream",
          "name": "stdout",
          "text": [
            "0.0\n",
            "0.1\n",
            "0.2\n",
            "0.3\n",
            "0.4\n",
            "0.5\n",
            "0.6\n",
            "0.7\n",
            "0.8\n",
            "0.9\n"
          ]
        }
      ],
      "source": [
        "for x in [0, 1, 2, 3, 4, 5, 6, 7, 8, 9]:\n",
        "  print(x/10)"
      ]
    },
    {
      "cell_type": "markdown",
      "source": [
        "# range 文による範囲の指定\n",
        "\n",
        "同じことを range 文を使って、次のように実行できます。"
      ],
      "metadata": {
        "id": "x_La9G9hdO4N"
      }
    },
    {
      "cell_type": "code",
      "source": [
        "domain = range(10)"
      ],
      "metadata": {
        "id": "zbCsWWJpYoDG"
      },
      "execution_count": 11,
      "outputs": []
    },
    {
      "cell_type": "markdown",
      "source": [
        "この range 文で作った domain を for 文の繰り返しとして利用できます。"
      ],
      "metadata": {
        "id": "z6Vpo4EidoGy"
      }
    },
    {
      "cell_type": "code",
      "source": [
        "for x in domain:\n",
        "  print(x/10)"
      ],
      "metadata": {
        "colab": {
          "base_uri": "https://localhost:8080/"
        },
        "id": "tOsU6vhFY369",
        "outputId": "0d4b497f-b8c8-43bc-a76e-58b64195ea80"
      },
      "execution_count": 12,
      "outputs": [
        {
          "output_type": "stream",
          "name": "stdout",
          "text": [
            "0.0\n",
            "0.1\n",
            "0.2\n",
            "0.3\n",
            "0.4\n",
            "0.5\n",
            "0.6\n",
            "0.7\n",
            "0.8\n",
            "0.9\n"
          ]
        }
      ]
    },
    {
      "cell_type": "markdown",
      "source": [
        "# 計算結果をリストに格納する\n",
        "\n",
        "次は、同じ計算をした結果を X というリストに格納してみます。"
      ],
      "metadata": {
        "id": "rrQ8QUpGdfQL"
      }
    },
    {
      "cell_type": "code",
      "source": [
        "X = []\n",
        "for x in domain:\n",
        "  X.append(x/10)"
      ],
      "metadata": {
        "id": "1QmdylZBYPxu"
      },
      "execution_count": 13,
      "outputs": []
    },
    {
      "cell_type": "markdown",
      "source": [
        "この X に具体的にどんな数字が入ったか、確認してみましょう。"
      ],
      "metadata": {
        "id": "ByAUUCZ5dxyy"
      }
    },
    {
      "cell_type": "code",
      "source": [
        "X"
      ],
      "metadata": {
        "colab": {
          "base_uri": "https://localhost:8080/"
        },
        "id": "TA5luBjHYfC-",
        "outputId": "33483d6a-e78f-4efc-dec1-322dc67bb0b1"
      },
      "execution_count": 14,
      "outputs": [
        {
          "output_type": "execute_result",
          "data": {
            "text/plain": [
              "[0.0, 0.1, 0.2, 0.3, 0.4, 0.5, 0.6, 0.7, 0.8, 0.9]"
            ]
          },
          "metadata": {},
          "execution_count": 14
        }
      ]
    },
    {
      "cell_type": "markdown",
      "source": [
        "# リスト内包表記\n",
        "\n",
        "ここまで行った計算を、次の１行で一気に書けてしまうのが「リスト内包表記」という記法です。"
      ],
      "metadata": {
        "id": "UQLST2H0eAxl"
      }
    },
    {
      "cell_type": "code",
      "source": [
        "X = [x/10 for x in domain]"
      ],
      "metadata": {
        "id": "cU9H_cJ3Ywo5"
      },
      "execution_count": 15,
      "outputs": []
    },
    {
      "cell_type": "markdown",
      "source": [
        "いちおう中身を確認してみましょう。"
      ],
      "metadata": {
        "id": "r4vl_qAFeL-_"
      }
    },
    {
      "cell_type": "code",
      "source": [
        "X"
      ],
      "metadata": {
        "colab": {
          "base_uri": "https://localhost:8080/"
        },
        "id": "-2cbJ7NxZLY5",
        "outputId": "2d8ab74d-0147-43a1-8ce4-3813ec0c015a"
      },
      "execution_count": 16,
      "outputs": [
        {
          "output_type": "execute_result",
          "data": {
            "text/plain": [
              "[0.0, 0.1, 0.2, 0.3, 0.4, 0.5, 0.6, 0.7, 0.8, 0.9]"
            ]
          },
          "metadata": {},
          "execution_count": 16
        }
      ]
    },
    {
      "cell_type": "markdown",
      "source": [
        "# リスト内包表記の中に関数を入れる\n",
        "\n",
        "たとえば次のような単純な関数を定義します。"
      ],
      "metadata": {
        "id": "15nUJt1QeQva"
      }
    },
    {
      "cell_type": "code",
      "source": [
        "def f(x):\n",
        "  return x**2"
      ],
      "metadata": {
        "id": "it3jMj-vZOA1"
      },
      "execution_count": 17,
      "outputs": []
    },
    {
      "cell_type": "markdown",
      "source": [
        "これまでに作った X の中身の各々に対して、この関数を適用してみましょう。まずは、X の中身を列挙するための for 文です。"
      ],
      "metadata": {
        "id": "ERAqhwfaenuC"
      }
    },
    {
      "cell_type": "code",
      "source": [
        "for x in X:\n",
        "  print(x)"
      ],
      "metadata": {
        "colab": {
          "base_uri": "https://localhost:8080/"
        },
        "id": "OM6DeafocGMu",
        "outputId": "b2be6e45-098c-4006-8547-1b8a6f712833"
      },
      "execution_count": 18,
      "outputs": [
        {
          "output_type": "stream",
          "name": "stdout",
          "text": [
            "0.0\n",
            "0.1\n",
            "0.2\n",
            "0.3\n",
            "0.4\n",
            "0.5\n",
            "0.6\n",
            "0.7\n",
            "0.8\n",
            "0.9\n"
          ]
        }
      ]
    },
    {
      "cell_type": "markdown",
      "source": [
        "X の中の各々の成分に対して f(x) を適用すると"
      ],
      "metadata": {
        "id": "DsTM_RyRezdj"
      }
    },
    {
      "cell_type": "code",
      "source": [
        "for x in X:\n",
        "  print(f(x))"
      ],
      "metadata": {
        "colab": {
          "base_uri": "https://localhost:8080/"
        },
        "id": "s50sHpo2cLG2",
        "outputId": "def5f87e-5e4c-4dfe-ddbf-abe8782ea394"
      },
      "execution_count": 19,
      "outputs": [
        {
          "output_type": "stream",
          "name": "stdout",
          "text": [
            "0.0\n",
            "0.010000000000000002\n",
            "0.04000000000000001\n",
            "0.09\n",
            "0.16000000000000003\n",
            "0.25\n",
            "0.36\n",
            "0.48999999999999994\n",
            "0.6400000000000001\n",
            "0.81\n"
          ]
        }
      ]
    },
    {
      "cell_type": "markdown",
      "source": [
        "計算誤差が生じてしまうのですが、まあそこは今は気にしないでください。\n",
        "\n",
        "この計算結果を Y に格納してみます。"
      ],
      "metadata": {
        "id": "61IlRppHe4bK"
      }
    },
    {
      "cell_type": "code",
      "source": [
        "Y = []\n",
        "for x in X:\n",
        "  Y.append(f(x))"
      ],
      "metadata": {
        "id": "vFMVtkp8cPZ1"
      },
      "execution_count": 20,
      "outputs": []
    },
    {
      "cell_type": "markdown",
      "source": [
        "念のため Y の中身を確認してみましょう。"
      ],
      "metadata": {
        "id": "ONb-f2OVfEAV"
      }
    },
    {
      "cell_type": "code",
      "source": [
        "Y"
      ],
      "metadata": {
        "colab": {
          "base_uri": "https://localhost:8080/"
        },
        "id": "NS-7gkRWcVKZ",
        "outputId": "d447346e-2d51-42bd-aa9d-422b61f1ed03"
      },
      "execution_count": 21,
      "outputs": [
        {
          "output_type": "execute_result",
          "data": {
            "text/plain": [
              "[0.0,\n",
              " 0.010000000000000002,\n",
              " 0.04000000000000001,\n",
              " 0.09,\n",
              " 0.16000000000000003,\n",
              " 0.25,\n",
              " 0.36,\n",
              " 0.48999999999999994,\n",
              " 0.6400000000000001,\n",
              " 0.81]"
            ]
          },
          "metadata": {},
          "execution_count": 21
        }
      ]
    },
    {
      "cell_type": "markdown",
      "source": [
        "以上の計算を１行で計算してしまうのが、次の「リスト内包表記」です。"
      ],
      "metadata": {
        "id": "-iyKZ2dofMTA"
      }
    },
    {
      "cell_type": "code",
      "source": [
        "Y = [f(x) for x in X]"
      ],
      "metadata": {
        "id": "8SwqdL4rccle"
      },
      "execution_count": 23,
      "outputs": []
    },
    {
      "cell_type": "markdown",
      "source": [
        "いちおう中身を確認してみましょう。"
      ],
      "metadata": {
        "id": "Qj9QiBHUfSbj"
      }
    },
    {
      "cell_type": "code",
      "source": [
        "Y"
      ],
      "metadata": {
        "colab": {
          "base_uri": "https://localhost:8080/"
        },
        "id": "5hb9YbCPcfoY",
        "outputId": "8935c95a-84ec-43f5-cc28-624054ffd315"
      },
      "execution_count": 24,
      "outputs": [
        {
          "output_type": "execute_result",
          "data": {
            "text/plain": [
              "[0.0,\n",
              " 0.010000000000000002,\n",
              " 0.04000000000000001,\n",
              " 0.09,\n",
              " 0.16000000000000003,\n",
              " 0.25,\n",
              " 0.36,\n",
              " 0.48999999999999994,\n",
              " 0.6400000000000001,\n",
              " 0.81]"
            ]
          },
          "metadata": {},
          "execution_count": 24
        }
      ]
    }
  ]
}