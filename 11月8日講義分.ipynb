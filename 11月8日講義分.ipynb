{
  "nbformat": 4,
  "nbformat_minor": 0,
  "metadata": {
    "colab": {
      "provenance": [],
      "authorship_tag": "ABX9TyPuJ/Qgo4XDHdts7Z7emzK7",
      "include_colab_link": true
    },
    "kernelspec": {
      "name": "python3",
      "display_name": "Python 3"
    },
    "language_info": {
      "name": "python"
    }
  },
  "cells": [
    {
      "cell_type": "markdown",
      "metadata": {
        "id": "view-in-github",
        "colab_type": "text"
      },
      "source": [
        "<a href=\"https://colab.research.google.com/github/maskot1977/ComputerExercises2022/blob/LwjH5BQAAMoIyD8n/11%E6%9C%888%E6%97%A5%E8%AC%9B%E7%BE%A9%E5%88%86.ipynb\" target=\"_parent\"><img src=\"https://colab.research.google.com/assets/colab-badge.svg\" alt=\"Open In Colab\"/></a>"
      ]
    },
    {
      "cell_type": "markdown",
      "source": [
        "# 第３９章"
      ],
      "metadata": {
        "id": "AbKrXhTyVYh7"
      }
    },
    {
      "cell_type": "code",
      "execution_count": null,
      "metadata": {
        "id": "8OPuZg5TVUbw"
      },
      "outputs": [],
      "source": [
        "import math\n",
        "def f(x):\n",
        "    return math.exp(x) - 3 * x"
      ]
    },
    {
      "cell_type": "code",
      "source": [
        "import matplotlib.pyplot as plt\n",
        "\n",
        "X = [x / 100 for x in range(0, 100)]\n",
        "Y = [f(x) for x in X]\n",
        "plt.plot(X, Y)\n",
        "plt.grid()\n",
        "plt.show()"
      ],
      "metadata": {
        "colab": {
          "base_uri": "https://localhost:8080/",
          "height": 265
        },
        "id": "CUbQhCGcdSCi",
        "outputId": "ae856e94-6a17-49c4-8301-324dc92a8eb1"
      },
      "execution_count": null,
      "outputs": [
        {
          "output_type": "display_data",
          "data": {
            "text/plain": [
              "<Figure size 432x288 with 1 Axes>"
            ],
            "image/png": "[encoded data removed]"
          },
          "metadata": {
            "needs_background": "light"
          }
        }
      ]
    },
    {
      "cell_type": "code",
      "source": [
        "def chap39(f, a, b, e=0.00001):\n",
        "    if f(a) * f(b) > 0:\n",
        "        return False\n",
        "    \n",
        "    while abs(f(a) - f(b)) > e:\n",
        "        c = (a + b) / 2\n",
        "        if f(c) == 0:\n",
        "            return c\n",
        "        elif f(a) * f(c) > 0:\n",
        "            a = c\n",
        "        else:\n",
        "            b = c\n",
        "    \n",
        "    return (a + b) / 2    "
      ],
      "metadata": {
        "id": "9BpEEJuAcuus"
      },
      "execution_count": null,
      "outputs": []
    },
    {
      "cell_type": "code",
      "source": [
        "chap39(f, 0, 1)"
      ],
      "metadata": {
        "colab": {
          "base_uri": "https://localhost:8080/"
        },
        "id": "b8QQOQfLe93C",
        "outputId": "72956af1-a495-4470-d586-c77f2d8cf101"
      },
      "execution_count": null,
      "outputs": [
        {
          "output_type": "execute_result",
          "data": {
            "text/plain": [
              "0.6190605163574219"
            ]
          },
          "metadata": {},
          "execution_count": 5
        }
      ]
    },
    {
      "cell_type": "code",
      "source": [
        "import timeit\n",
        "\n",
        "for z in range(1, 8):\n",
        "    e = 10**(-z)\n",
        "    x = chap39(f, 0, 1, e=e)\n",
        "    t = timeit.timeit(lambda: chap39(f, 0, 1, e=e), number=10)\n",
        "    print(e, x, t)"
      ],
      "metadata": {
        "colab": {
          "base_uri": "https://localhost:8080/"
        },
        "id": "eaMnbWHzfsz_",
        "outputId": "08b7d03e-9ee7-4d39-a974-9bd75fe24a07"
      },
      "execution_count": null,
      "outputs": [
        {
          "output_type": "stream",
          "name": "stdout",
          "text": [
            "0.1 0.59375 0.00010288900000432477\n",
            "0.01 0.62109375 0.000159850000002848\n",
            "0.001 0.618896484375 0.0002308899999974301\n",
            "0.0001 0.619049072265625 0.00028178999998829113\n",
            "1e-05 0.6190605163574219 0.00037542999999118365\n",
            "1e-06 0.6190612316131592 0.0004194689999934553\n",
            "1e-07 0.6190612614154816 0.0005189589999901045\n"
          ]
        }
      ]
    },
    {
      "cell_type": "markdown",
      "source": [
        "# 第４０章"
      ],
      "metadata": {
        "id": "458Yx_cnfjeF"
      }
    },
    {
      "cell_type": "code",
      "source": [
        "import math\n",
        "def f(x):\n",
        "    return math.exp(x) - 3 * x\n",
        "\n",
        "def df(x):\n",
        "    return math.exp(x) - 3"
      ],
      "metadata": {
        "id": "8hvUr8oafE1E"
      },
      "execution_count": null,
      "outputs": []
    },
    {
      "cell_type": "code",
      "source": [
        "def chap40(f, df, x, e=0.00001):\n",
        "    if abs(f(x)) < e:\n",
        "        return x\n",
        "    else:\n",
        "        x2 = x - f(x) / df(x)\n",
        "        if abs(f(x2)) < e:\n",
        "            return x2\n",
        "        else:\n",
        "            return chap40(f, df, x2, e=e)"
      ],
      "metadata": {
        "id": "ogmzSVy7hMrA"
      },
      "execution_count": null,
      "outputs": []
    },
    {
      "cell_type": "code",
      "source": [
        "chap40(f, df, 0)"
      ],
      "metadata": {
        "colab": {
          "base_uri": "https://localhost:8080/"
        },
        "id": "IEXYc02uh6cY",
        "outputId": "a91dd071-5d2e-492b-f1ca-97bd12361cfd"
      },
      "execution_count": null,
      "outputs": [
        {
          "output_type": "execute_result",
          "data": {
            "text/plain": [
              "0.6190612833553127"
            ]
          },
          "metadata": {},
          "execution_count": 9
        }
      ]
    },
    {
      "cell_type": "markdown",
      "source": [
        "# 第４１章"
      ],
      "metadata": {
        "id": "JjNoBzoUjTkw"
      }
    },
    {
      "cell_type": "code",
      "source": [
        "def f(x):\n",
        "    return x / (x**2 + 1)"
      ],
      "metadata": {
        "id": "H8ApF1btiEaI"
      },
      "execution_count": null,
      "outputs": []
    },
    {
      "cell_type": "code",
      "source": [
        "import matplotlib.pyplot as plt\n",
        "\n",
        "X = [x / 100 for x in range(100, 200)]\n",
        "Y = [f(x) for x in X]\n",
        "plt.plot(X, Y)\n",
        "plt.grid()\n",
        "plt.show()"
      ],
      "metadata": {
        "colab": {
          "base_uri": "https://localhost:8080/",
          "height": 265
        },
        "id": "luKnZEVajiRh",
        "outputId": "c991e02d-41ff-47ae-e73e-d43c6304b1b5"
      },
      "execution_count": null,
      "outputs": [
        {
          "output_type": "display_data",
          "data": {
            "text/plain": [
              "<Figure size 432x288 with 1 Axes>"
            ],
            "image/png": "[encoded data removed]"
          },
          "metadata": {
            "needs_background": "light"
          }
        }
      ]
    },
    {
      "cell_type": "code",
      "source": [
        "def chap41(f, x_0=1, x_n=2, h=0.01):\n",
        "    sum_ = 0\n",
        "    n = int((x_n - x_0) / h)\n",
        "    for i in range(1, n + 1):\n",
        "        x_i = x_0 + h * i\n",
        "        sum_ += f(x_i) * h\n",
        "    return sum_"
      ],
      "metadata": {
        "id": "bHfifVCPjquW"
      },
      "execution_count": null,
      "outputs": []
    },
    {
      "cell_type": "code",
      "source": [
        "chap41(f, h=0.00001)"
      ],
      "metadata": {
        "colab": {
          "base_uri": "https://localhost:8080/"
        },
        "id": "fhnfWfI4kODG",
        "outputId": "af9d8fed-5786-4d0c-808c-4b7adf4ee91c"
      },
      "execution_count": null,
      "outputs": [
        {
          "output_type": "execute_result",
          "data": {
            "text/plain": [
              "0.4581408659360804"
            ]
          },
          "metadata": {},
          "execution_count": 15
        }
      ]
    },
    {
      "cell_type": "code",
      "source": [
        "import timeit\n",
        "\n",
        "for z in range(1, 8):\n",
        "    h = 10**(-z)\n",
        "    x = chap41(f,h=h)\n",
        "    t = timeit.timeit(lambda: chap41(f, h=h), number=1)\n",
        "    print(h, x, t)"
      ],
      "metadata": {
        "colab": {
          "base_uri": "https://localhost:8080/"
        },
        "id": "pRcVpZoYkqRJ",
        "outputId": "b170868b-c8ab-4a90-c20c-4f4dba05052d"
      },
      "execution_count": null,
      "outputs": [
        {
          "output_type": "stream",
          "name": "stdout",
          "text": [
            "0.1 0.45304556496413173 7.810000056451827e-06\n",
            "0.01 0.4576443659569775 7.249999998748535e-05\n",
            "0.001 0.45809535593707956 0.0003895199999988108\n",
            "0.0001 0.4581403658370801 0.010942066999973576\n",
            "1e-05 0.4581408659360804 0.05311608099998466\n",
            "1e-06 0.4581453159370582 0.25878756400004477\n",
            "1e-07 0.4581453609370471 2.1343560510000543\n"
          ]
        }
      ]
    },
    {
      "cell_type": "markdown",
      "source": [
        "# 第４２章"
      ],
      "metadata": {
        "id": "tdEq3YqMl1XS"
      }
    },
    {
      "cell_type": "code",
      "source": [
        "def chap42(f, x_0=1, x_n=2, h=0.01):\n",
        "    sum_ = 0\n",
        "    n = int((x_n - x_0) / h)\n",
        "    for i in range(1, n + 1):\n",
        "        x_i = x_0 + h * i\n",
        "        sum_ += (f(x_i) + f(x_i - h)) * h / 2\n",
        "    return sum_"
      ],
      "metadata": {
        "id": "Ip4AoTAilBkF"
      },
      "execution_count": null,
      "outputs": []
    },
    {
      "cell_type": "code",
      "source": [
        "chap42(f)"
      ],
      "metadata": {
        "colab": {
          "base_uri": "https://localhost:8080/"
        },
        "id": "IkAZgtJVmZPS",
        "outputId": "c3813c7a-f466-4c14-da58-7b1b89ae859d"
      },
      "execution_count": null,
      "outputs": [
        {
          "output_type": "execute_result",
          "data": {
            "text/plain": [
              "0.45814436595697755"
            ]
          },
          "metadata": {},
          "execution_count": 20
        }
      ]
    },
    {
      "cell_type": "markdown",
      "source": [
        "# 第４３章"
      ],
      "metadata": {
        "id": "jgm0YisBmxNn"
      }
    },
    {
      "cell_type": "code",
      "source": [
        "def chap43(f, x_0=1, x_n=2, h=0.01):\n",
        "    sum_ = 0\n",
        "    n = int((x_n - x_0) / (h * 2))\n",
        "    for i in range(1, n+1):\n",
        "        x_i = x_0 + (2 * i - 1) * h\n",
        "        sum_ += f(x_i + h) + 4 * f(x_i) + f(x_i - h)\n",
        "    return sum_ * h / 3"
      ],
      "metadata": {
        "id": "cdYH_mnjmafE"
      },
      "execution_count": null,
      "outputs": []
    },
    {
      "cell_type": "code",
      "source": [
        "chap43(f)"
      ],
      "metadata": {
        "colab": {
          "base_uri": "https://localhost:8080/"
        },
        "id": "-cfD5i2bm_gV",
        "outputId": "84580214-4318-4c0c-dd7f-9893de4c215b"
      },
      "execution_count": null,
      "outputs": [
        {
          "output_type": "execute_result",
          "data": {
            "text/plain": [
              "0.45814536585747695"
            ]
          },
          "metadata": {},
          "execution_count": 23
        }
      ]
    },
    {
      "cell_type": "markdown",
      "source": [
        "# 第４４章"
      ],
      "metadata": {
        "id": "cKpIFWjVoHFO"
      }
    },
    {
      "cell_type": "code",
      "source": [
        "def dydx(x, y):\n",
        "    return 2 - y / x"
      ],
      "metadata": {
        "id": "GT1cYrbenzd-"
      },
      "execution_count": null,
      "outputs": []
    },
    {
      "cell_type": "code",
      "source": [
        "def chap44(dydx, x_0, y_0, x_end, dt):\n",
        "    x = x_0\n",
        "    y = y_0\n",
        "    t = int((x_end - x_0) / dt)\n",
        "    for i in range(t):\n",
        "        y = y + dt * dydx(x, y)\n",
        "        x = x + dt\n",
        "    return y"
      ],
      "metadata": {
        "id": "QEq-7MZ_of5R"
      },
      "execution_count": null,
      "outputs": []
    },
    {
      "cell_type": "code",
      "source": [
        "chap44(dydx, 1, 2, 2, 0.01)"
      ],
      "metadata": {
        "colab": {
          "base_uri": "https://localhost:8080/"
        },
        "id": "uE7_IhfbpEQf",
        "outputId": "a1f38c59-9bf8-4788-b102-d2587b5d0d79"
      },
      "execution_count": null,
      "outputs": [
        {
          "output_type": "execute_result",
          "data": {
            "text/plain": [
              "2.497487437185929"
            ]
          },
          "metadata": {},
          "execution_count": 27
        }
      ]
    },
    {
      "cell_type": "markdown",
      "source": [
        "# 第４５章"
      ],
      "metadata": {
        "id": "o3gO5QMIpusd"
      }
    },
    {
      "cell_type": "code",
      "source": [
        "def chap45(f, x_0, y_0, x_end, h):\n",
        "    x = x_0\n",
        "    y = y_0\n",
        "    t = int((x_end - x_0) / h)\n",
        "    for i in range(t):\n",
        "        k1 = h * f(x, y)\n",
        "        k2 = h * f(x + h/2, y + k1/2)\n",
        "        k3 = h * f(x + h/2, y + k2/2)\n",
        "        k4 = h * f(x + h, y + k3)\n",
        "        k = (k1 + 2 * k2 + 2 * k3 + k4) / 6\n",
        "        x = x + h\n",
        "        y = y + k\n",
        "    return y"
      ],
      "metadata": {
        "id": "lcZLbWrGpUPY"
      },
      "execution_count": null,
      "outputs": []
    },
    {
      "cell_type": "code",
      "source": [
        "chap45(dydx, 1, 2, 2, 0.01)"
      ],
      "metadata": {
        "colab": {
          "base_uri": "https://localhost:8080/"
        },
        "id": "LX4d166kq74I",
        "outputId": "a021f82b-1f0b-4901-a907-bfccf96b1f1d"
      },
      "execution_count": null,
      "outputs": [
        {
          "output_type": "execute_result",
          "data": {
            "text/plain": [
              "2.4999999999999996"
            ]
          },
          "metadata": {},
          "execution_count": 30
        }
      ]
    },
    {
      "cell_type": "markdown",
      "source": [
        "# 第４６章"
      ],
      "metadata": {
        "id": "oP9_GOZ_rX9G"
      }
    },
    {
      "cell_type": "code",
      "source": [
        "def distance(x, y):\n",
        "    return (1 + (x-y)**2)**0.5"
      ],
      "metadata": {
        "id": "ajuf8nWErEUf"
      },
      "execution_count": null,
      "outputs": []
    },
    {
      "cell_type": "code",
      "source": [
        "def chap46(H):\n",
        "    memo = [0, distance(H[0], H[1])]\n",
        "    for i in range(2, len(H)):\n",
        "        memo.append(\n",
        "            min(\n",
        "                memo[i - 2] + distance(H[i - 2], H[i]),\n",
        "                memo[i - 1] + distance(H[i - 1], H[i])\n",
        "            )\n",
        "        )\n",
        "    return int(10 * memo[-1]) / 10"
      ],
      "metadata": {
        "id": "B7c7uYqKsMuE"
      },
      "execution_count": null,
      "outputs": []
    },
    {
      "cell_type": "code",
      "source": [
        "H = [33, 58, 12]\n",
        "chap46(H)"
      ],
      "metadata": {
        "colab": {
          "base_uri": "https://localhost:8080/"
        },
        "id": "ps2JGfmts9qo",
        "outputId": "802d6715-8f1b-4c4d-a123-baced45f5bf8"
      },
      "execution_count": null,
      "outputs": [
        {
          "output_type": "execute_result",
          "data": {
            "text/plain": [
              "21.0"
            ]
          },
          "metadata": {},
          "execution_count": 40
        }
      ]
    },
    {
      "cell_type": "code",
      "source": [
        "H = [21, 25, 32, 56, 41, 19]\n",
        "chap46(H)"
      ],
      "metadata": {
        "colab": {
          "base_uri": "https://localhost:8080/"
        },
        "id": "yR-2t8sXtA26",
        "outputId": "1d079115-c29b-4b34-97a9-e5e29fe881c8"
      },
      "execution_count": null,
      "outputs": [
        {
          "output_type": "execute_result",
          "data": {
            "text/plain": [
              "42.1"
            ]
          },
          "metadata": {},
          "execution_count": 41
        }
      ]
    },
    {
      "cell_type": "code",
      "source": [
        "H = [11, 47, 29, 28, 15, 47, 23, 33, 56, 52, 31, 51]\n",
        "chap46(H)"
      ],
      "metadata": {
        "colab": {
          "base_uri": "https://localhost:8080/"
        },
        "id": "q0VrCgXTugBs",
        "outputId": "865d4f29-703e-4c94-cc76-6089b75c62b4"
      },
      "execution_count": null,
      "outputs": [
        {
          "output_type": "execute_result",
          "data": {
            "text/plain": [
              "70.6"
            ]
          },
          "metadata": {},
          "execution_count": 42
        }
      ]
    },
    {
      "cell_type": "code",
      "source": [],
      "metadata": {
        "id": "yjT-uU0iujk_"
      },
      "execution_count": null,
      "outputs": []
    }
  ]
}