{
  "nbformat": 4,
  "nbformat_minor": 0,
  "metadata": {
    "colab": {
      "provenance": [],
      "authorship_tag": "ABX9TyNWqwZZpwYkmpiDGoPxDiEW",
      "include_colab_link": true
    },
    "kernelspec": {
      "name": "python3",
      "display_name": "Python 3"
    },
    "language_info": {
      "name": "python"
    }
  },
  "cells": [
    {
      "cell_type": "markdown",
      "metadata": {
        "id": "view-in-github",
        "colab_type": "text"
      },
      "source": [
        "<a href=\"https://colab.research.google.com/github/maskot1977/ComputerExercises2022/blob/7Bs6HDnWjwxCKNTI/10%E6%9C%8818%E6%97%A5%E8%AC%9B%E7%BE%A9%E5%88%86.ipynb\" target=\"_parent\"><img src=\"https://colab.research.google.com/assets/colab-badge.svg\" alt=\"Open In Colab\"/></a>"
      ]
    },
    {
      "cell_type": "markdown",
      "source": [
        "# 第11章"
      ],
      "metadata": {
        "id": "0WULiaHzTulX"
      }
    },
    {
      "cell_type": "code",
      "source": [
        "class UnitConverter:\n",
        "    def __init__(self, a, b):\n",
        "        self.a = a\n",
        "        self.b = b\n",
        "\n",
        "    def transform(self, x):\n",
        "        return self.a * x + self.b\n",
        "\n",
        "    def inverse_transform(self, y):\n",
        "        return (y - self.b) / self.a"
      ],
      "metadata": {
        "id": "rKMWko6pTt5K"
      },
      "execution_count": null,
      "outputs": []
    },
    {
      "cell_type": "code",
      "execution_count": null,
      "metadata": {
        "id": "wUhtIQzlNa9l"
      },
      "outputs": [],
      "source": [
        "CK_converter = UnitConverter(1, 273)"
      ]
    },
    {
      "cell_type": "code",
      "source": [
        "x = 37\n",
        "CK_converter.transform(x)"
      ],
      "metadata": {
        "colab": {
          "base_uri": "https://localhost:8080/"
        },
        "id": "S4qeRX2zUeBN",
        "outputId": "041c5941-6a01-47c1-9fe5-603aabe6f7a4"
      },
      "execution_count": null,
      "outputs": [
        {
          "output_type": "execute_result",
          "data": {
            "text/plain": [
              "310"
            ]
          },
          "metadata": {},
          "execution_count": 3
        }
      ]
    },
    {
      "cell_type": "code",
      "source": [
        "y = 500\n",
        "CK_converter.inverse_transform(y)"
      ],
      "metadata": {
        "colab": {
          "base_uri": "https://localhost:8080/"
        },
        "id": "UqsNeevgUuVG",
        "outputId": "36332b5e-ee0a-4439-fbb3-5a7195a3e8a9"
      },
      "execution_count": null,
      "outputs": [
        {
          "output_type": "execute_result",
          "data": {
            "text/plain": [
              "227.0"
            ]
          },
          "metadata": {},
          "execution_count": 4
        }
      ]
    },
    {
      "cell_type": "code",
      "source": [
        "CF_converter = UnitConverter(1.8, 32)"
      ],
      "metadata": {
        "id": "YwNy7qYkU5Kp"
      },
      "execution_count": null,
      "outputs": []
    },
    {
      "cell_type": "code",
      "source": [
        "x = 37\n",
        "CF_converter.transform(x)"
      ],
      "metadata": {
        "colab": {
          "base_uri": "https://localhost:8080/"
        },
        "id": "ikUa2E9mVPrZ",
        "outputId": "50702c98-d986-48a2-d9ba-624c9442d869"
      },
      "execution_count": null,
      "outputs": [
        {
          "output_type": "execute_result",
          "data": {
            "text/plain": [
              "98.60000000000001"
            ]
          },
          "metadata": {},
          "execution_count": 6
        }
      ]
    },
    {
      "cell_type": "code",
      "source": [
        "y = 0\n",
        "CF_converter.inverse_transform(y)"
      ],
      "metadata": {
        "colab": {
          "base_uri": "https://localhost:8080/"
        },
        "id": "xizX-gnJVVfz",
        "outputId": "feb54d85-e820-4213-a6c5-a1b10cc2d427"
      },
      "execution_count": null,
      "outputs": [
        {
          "output_type": "execute_result",
          "data": {
            "text/plain": [
              "-17.77777777777778"
            ]
          },
          "metadata": {},
          "execution_count": 8
        }
      ]
    },
    {
      "cell_type": "markdown",
      "source": [
        "# 第１２章"
      ],
      "metadata": {
        "id": "giFS2Z29V1er"
      }
    },
    {
      "cell_type": "code",
      "source": [
        "num = 100\n",
        "if num >= 90:\n",
        "    print('優上：学修目標を十分に達成し、極めて優秀である')\n",
        "elif num >= 80:\n",
        "    print('優：学修目標を十分に達成している')\n",
        "elif num >= 65:\n",
        "    print('良：学修目標を達成している')\n",
        "elif num >= 50:\n",
        "    print('可：学修目標を概ね達成している')\n",
        "else:\n",
        "    print('不可：学修目標を大幅に下回っている')"
      ],
      "metadata": {
        "colab": {
          "base_uri": "https://localhost:8080/"
        },
        "id": "R1QbjCsqVhP_",
        "outputId": "0e6a7565-db6e-4e2e-bdab-9861c5e5d6ca"
      },
      "execution_count": null,
      "outputs": [
        {
          "output_type": "stream",
          "name": "stdout",
          "text": [
            "優上：学修目標を十分に達成し、極めて優秀である\n"
          ]
        }
      ]
    },
    {
      "cell_type": "code",
      "source": [
        "raise SyntaxError(\"括弧やコロンが足りないなどの文法エラー。\")"
      ],
      "metadata": {
        "colab": {
          "base_uri": "https://localhost:8080/",
          "height": 245
        },
        "id": "_BcbHtc2V5iI",
        "outputId": "0d72210b-928a-4e47-b016-b718e662fdab"
      },
      "execution_count": null,
      "outputs": [
        {
          "output_type": "error",
          "ename": "SyntaxError",
          "evalue": "ignored",
          "traceback": [
            "Traceback \u001b[0;36m(most recent call last)\u001b[0m:\n",
            "  File \u001b[1;32m\"/usr/local/lib/python3.7/dist-packages/IPython/core/interactiveshell.py\"\u001b[0m, line \u001b[1;32m3326\u001b[0m, in \u001b[1;35mrun_code\u001b[0m\n    exec(code_obj, self.user_global_ns, self.user_ns)\n",
            "\u001b[0;36m  File \u001b[0;32m\"<ipython-input-11-8afc71c6ac77>\"\u001b[0;36m, line \u001b[0;32m1\u001b[0;36m, in \u001b[0;35m<module>\u001b[0;36m\u001b[0m\n\u001b[0;31m    raise SyntaxError(\"括弧やコロンが足りないなどの文法エラー。\")\u001b[0m\n",
            "\u001b[0;36m  File \u001b[0;32m\"<string>\"\u001b[0;36m, line \u001b[0;32munknown\u001b[0m\n\u001b[0;31mSyntaxError\u001b[0m\u001b[0;31m:\u001b[0m 括弧やコロンが足りないなどの文法エラー。\n"
          ]
        }
      ]
    },
    {
      "cell_type": "code",
      "source": [
        "raise IndentationError(\"インデントが正しくない場合のエラー。\")"
      ],
      "metadata": {
        "colab": {
          "base_uri": "https://localhost:8080/",
          "height": 245
        },
        "id": "iow02miEWJcL",
        "outputId": "2a2039dc-2244-4e23-d672-f0758d818377"
      },
      "execution_count": null,
      "outputs": [
        {
          "output_type": "error",
          "ename": "IndentationError",
          "evalue": "ignored",
          "traceback": [
            "Traceback \u001b[0;36m(most recent call last)\u001b[0m:\n",
            "  File \u001b[1;32m\"/usr/local/lib/python3.7/dist-packages/IPython/core/interactiveshell.py\"\u001b[0m, line \u001b[1;32m3326\u001b[0m, in \u001b[1;35mrun_code\u001b[0m\n    exec(code_obj, self.user_global_ns, self.user_ns)\n",
            "\u001b[0;36m  File \u001b[0;32m\"<ipython-input-12-9a3fa36bde20>\"\u001b[0;36m, line \u001b[0;32m1\u001b[0;36m, in \u001b[0;35m<module>\u001b[0;36m\u001b[0m\n\u001b[0;31m    raise IndentationError(\"インデントが正しくない場合のエラー。\")\u001b[0m\n",
            "\u001b[0;36m  File \u001b[0;32m\"<string>\"\u001b[0;36m, line \u001b[0;32munknown\u001b[0m\n\u001b[0;31mIndentationError\u001b[0m\u001b[0;31m:\u001b[0m インデントが正しくない場合のエラー。\n"
          ]
        }
      ]
    },
    {
      "cell_type": "code",
      "source": [
        "a = float(input(\"a = \"))"
      ],
      "metadata": {
        "colab": {
          "base_uri": "https://localhost:8080/"
        },
        "id": "CFx17CpJWQ43",
        "outputId": "020ac9fd-4334-426d-dd67-850a10524cb0"
      },
      "execution_count": null,
      "outputs": [
        {
          "name": "stdout",
          "output_type": "stream",
          "text": [
            "a = 7\n"
          ]
        }
      ]
    },
    {
      "cell_type": "code",
      "source": [
        "a"
      ],
      "metadata": {
        "colab": {
          "base_uri": "https://localhost:8080/"
        },
        "id": "Log8p4doWqRP",
        "outputId": "db6b0cf0-7d9d-4f23-d066-8761f244b5c0"
      },
      "execution_count": null,
      "outputs": [
        {
          "output_type": "execute_result",
          "data": {
            "text/plain": [
              "7.0"
            ]
          },
          "metadata": {},
          "execution_count": 16
        }
      ]
    },
    {
      "cell_type": "code",
      "source": [
        "a = input(\"a = \")"
      ],
      "metadata": {
        "colab": {
          "base_uri": "https://localhost:8080/"
        },
        "id": "wTfBhoV8WxwU",
        "outputId": "49e46165-e08f-4d33-8a3d-b95ea6a85a03"
      },
      "execution_count": null,
      "outputs": [
        {
          "name": "stdout",
          "output_type": "stream",
          "text": [
            "a = 7\n"
          ]
        }
      ]
    },
    {
      "cell_type": "code",
      "source": [
        "a"
      ],
      "metadata": {
        "colab": {
          "base_uri": "https://localhost:8080/",
          "height": 35
        },
        "id": "TbcbFQ9JW9Et",
        "outputId": "5c410965-720c-43d5-b3fc-6eb421077f91"
      },
      "execution_count": null,
      "outputs": [
        {
          "output_type": "execute_result",
          "data": {
            "text/plain": [
              "'7'"
            ],
            "application/vnd.google.colaboratory.intrinsic+json": {
              "type": "string"
            }
          },
          "metadata": {},
          "execution_count": 18
        }
      ]
    },
    {
      "cell_type": "code",
      "source": [
        "a = int(input(\"a = \"))"
      ],
      "metadata": {
        "colab": {
          "base_uri": "https://localhost:8080/"
        },
        "id": "JvIaujicW_Wb",
        "outputId": "a9bd98ab-96fd-4b9c-f705-a016bf08b92b"
      },
      "execution_count": null,
      "outputs": [
        {
          "name": "stdout",
          "output_type": "stream",
          "text": [
            "a = 7\n"
          ]
        }
      ]
    },
    {
      "cell_type": "code",
      "source": [
        "a"
      ],
      "metadata": {
        "colab": {
          "base_uri": "https://localhost:8080/"
        },
        "id": "BPxYCDJBXE-G",
        "outputId": "5d6260bf-67a1-4400-add9-068d9bc5327a"
      },
      "execution_count": null,
      "outputs": [
        {
          "output_type": "execute_result",
          "data": {
            "text/plain": [
              "7"
            ]
          },
          "metadata": {},
          "execution_count": 20
        }
      ]
    },
    {
      "cell_type": "code",
      "source": [
        "a = float(input(\"a =\"))\n",
        "if a == 0:\n",
        "  raise ValueError(\"aはゼロ以外の数字を入れてください\")\n",
        "\n",
        "b = float(input(\"b =\"))\n",
        "c = float(input(\"c =\"))\n",
        "print(\"input values are:\", a, b, c)\n",
        "\n",
        "if b**2 - 4 * a * c < 0:\n",
        "  raise ValueError(\"実数解が存在しません\")\n",
        "elif b**2 - 4 * a * c == 0:\n",
        "  print(-b / (2 * a))\n",
        "else:\n",
        "  print(\n",
        "      (-b + (b**2 - 4 * a * c) ** (1/2)) / (2 * a),\n",
        "      (-b - (b**2 - 4 * a * c) ** (1/2)) / (2 * a)\n",
        "      )\n",
        "  "
      ],
      "metadata": {
        "colab": {
          "base_uri": "https://localhost:8080/"
        },
        "id": "pq41-6PyXHpR",
        "outputId": "f3d02289-417d-417a-dfa2-134f7922a8fb"
      },
      "execution_count": null,
      "outputs": [
        {
          "output_type": "stream",
          "name": "stdout",
          "text": [
            "a =1\n",
            "b =5\n",
            "c =6\n",
            "input values are: 1.0 5.0 6.0\n",
            "-2.0 -3.0\n"
          ]
        }
      ]
    },
    {
      "cell_type": "code",
      "source": [
        "import math\n",
        "\n",
        "a = float(input(\"a =\"))\n",
        "if a == 0:\n",
        "  raise ValueError(\"aはゼロ以外の数字を入れてください\")\n",
        "\n",
        "b = float(input(\"b =\"))\n",
        "c = float(input(\"c =\"))\n",
        "print(\"input values are:\", a, b, c)\n",
        "\n",
        "if b**2 - 4 * a * c < 0:\n",
        "  raise ValueError(\"実数解が存在しません\")\n",
        "elif b**2 - 4 * a * c == 0:\n",
        "  print(-b / (2 * a))\n",
        "else:\n",
        "  print(\n",
        "      (-b + math.sqrt(b**2 - 4 * a * c)) / (2 * a),\n",
        "      (-b - math.sqrt(b**2 - 4 * a * c)) / (2 * a)\n",
        "      )"
      ],
      "metadata": {
        "colab": {
          "base_uri": "https://localhost:8080/"
        },
        "id": "KtYCIY1fXjkL",
        "outputId": "58719022-dbd0-494e-f3bf-2345616d0e89"
      },
      "execution_count": null,
      "outputs": [
        {
          "output_type": "stream",
          "name": "stdout",
          "text": [
            "a =1\n",
            "b =5\n",
            "c =6\n",
            "input values are: 1.0 5.0 6.0\n",
            "-2.0 -3.0\n"
          ]
        }
      ]
    },
    {
      "cell_type": "code",
      "source": [
        "def nijihoteshiki(a, b, c):\n",
        "  if a == 0:\n",
        "    raise ValueError(\"aはゼロ以外の数字を入れてください\")\n",
        "\n",
        "  print(\"input values are:\", a, b, c)\n",
        "\n",
        "  if b**2 - 4 * a * c < 0:\n",
        "    raise ValueError(\"実数解が存在しません\")\n",
        "  elif b**2 - 4 * a * c == 0:\n",
        "    print(-b / (2 * a))\n",
        "  else:\n",
        "    print(\n",
        "        (-b + (b**2 - 4 * a * c) ** (1/2)) / (2 * a),\n",
        "        (-b - (b**2 - 4 * a * c) ** (1/2)) / (2 * a)\n",
        "        )"
      ],
      "metadata": {
        "id": "TyMEYPkpaUfc"
      },
      "execution_count": null,
      "outputs": []
    },
    {
      "cell_type": "code",
      "source": [
        "nijihoteshiki(1, 5, 6)"
      ],
      "metadata": {
        "colab": {
          "base_uri": "https://localhost:8080/"
        },
        "id": "Ua2OXvRgalXR",
        "outputId": "615e8e8e-d5f0-491e-ffe7-88ce118d8e23"
      },
      "execution_count": null,
      "outputs": [
        {
          "output_type": "stream",
          "name": "stdout",
          "text": [
            "input values are: 1 5 6\n",
            "-2.0 -3.0\n"
          ]
        }
      ]
    },
    {
      "cell_type": "markdown",
      "source": [
        "# 第１３章"
      ],
      "metadata": {
        "id": "0V6FieDRaDp2"
      }
    },
    {
      "cell_type": "code",
      "source": [
        "s = input(\"３辺の長さをスペース区切りで入力してください\")\n",
        "s = s.split()\n",
        "s = [float(x) for x in s]\n",
        "if len(s) != 3:\n",
        "  raise ValueError(\"３つの数字をお願いします\")\n",
        "\n",
        "edges = s\n",
        "edges.sort()\n",
        "edges\n",
        "\n",
        "if edges[2] >= edges[1] + edges[0]:\n",
        "  raise ValueError(\"三角形を作れません\")\n",
        "elif edges[2] ** 2 == edges[1] ** 2 + edges[0] ** 2:\n",
        "  print(\"直角三角形\")\n",
        "elif edges[2] ** 2 > edges[1] ** 2 + edges[0] ** 2:\n",
        "  print(\"鈍角三角形\")\n",
        "else:\n",
        "  print(\"鋭角三角形\")"
      ],
      "metadata": {
        "colab": {
          "base_uri": "https://localhost:8080/"
        },
        "id": "onf7ce8ZZuOP",
        "outputId": "903d1062-9704-4765-a8d3-c63656c2fa77"
      },
      "execution_count": null,
      "outputs": [
        {
          "output_type": "stream",
          "name": "stdout",
          "text": [
            "３辺の長さをスペース区切りで入力してください3 4  6\n",
            "鈍角三角形\n"
          ]
        }
      ]
    },
    {
      "cell_type": "markdown",
      "source": [
        "# 第１４章"
      ],
      "metadata": {
        "id": "te8gBeVaeHD1"
      }
    },
    {
      "cell_type": "code",
      "source": [
        "a = [2, -3, 1]\n",
        "b = [4, -2, 6]"
      ],
      "metadata": {
        "id": "tjbKQvV-bo4q"
      },
      "execution_count": null,
      "outputs": []
    },
    {
      "cell_type": "code",
      "source": [
        "def inner_product(x, y):\n",
        "  wa = 0\n",
        "  for i in range(len(x)):\n",
        "    #print(i, x[i], y[i])\n",
        "    wa += x[i] * y[i]\n",
        "  \n",
        "  return wa"
      ],
      "metadata": {
        "id": "onz7dXKGeRdE"
      },
      "execution_count": null,
      "outputs": []
    },
    {
      "cell_type": "code",
      "source": [
        "inner_product(a, b)"
      ],
      "metadata": {
        "colab": {
          "base_uri": "https://localhost:8080/"
        },
        "id": "FOgVJdFLedCW",
        "outputId": "80aec547-dcc6-499b-d0de-aabd6c0b9a25"
      },
      "execution_count": null,
      "outputs": [
        {
          "output_type": "execute_result",
          "data": {
            "text/plain": [
              "20"
            ]
          },
          "metadata": {},
          "execution_count": 55
        }
      ]
    },
    {
      "cell_type": "code",
      "source": [
        "def cross_product(x, y):\n",
        "  val = []\n",
        "  val.append(x[1] * y[2] - x[2] * y[1])\n",
        "  val.append(x[2] * y[0] - x[0] * y[2])\n",
        "  val.append(x[0] * y[1] - x[1] * y[0])\n",
        "  return val"
      ],
      "metadata": {
        "id": "myu9mhOhejx-"
      },
      "execution_count": null,
      "outputs": []
    },
    {
      "cell_type": "code",
      "source": [
        "cross_product(a, b)"
      ],
      "metadata": {
        "colab": {
          "base_uri": "https://localhost:8080/"
        },
        "id": "cT9CkYuWf_8D",
        "outputId": "c2b44932-2551-48bc-8f56-622139212109"
      },
      "execution_count": null,
      "outputs": [
        {
          "output_type": "execute_result",
          "data": {
            "text/plain": [
              "[-16, -8, 8]"
            ]
          },
          "metadata": {},
          "execution_count": 57
        }
      ]
    },
    {
      "cell_type": "markdown",
      "source": [
        "# 第１５章"
      ],
      "metadata": {
        "id": "1C2dEn5vgPsn"
      }
    },
    {
      "cell_type": "code",
      "source": [
        "import math\n",
        "\n",
        "x = 0.4\n",
        "math.sin(x)"
      ],
      "metadata": {
        "colab": {
          "base_uri": "https://localhost:8080/"
        },
        "id": "51YJ5R5SgFOh",
        "outputId": "1695b6f7-1859-465a-ffa4-a93dedf4114a"
      },
      "execution_count": null,
      "outputs": [
        {
          "output_type": "execute_result",
          "data": {
            "text/plain": [
              "0.3894183423086505"
            ]
          },
          "metadata": {},
          "execution_count": 58
        }
      ]
    },
    {
      "cell_type": "code",
      "source": [
        "for n in range(10):\n",
        "    print(\"羊が {} 匹、\".format(n + 1))"
      ],
      "metadata": {
        "colab": {
          "base_uri": "https://localhost:8080/"
        },
        "id": "wFkuwxYOgdQP",
        "outputId": "e3493eb5-f900-4b33-f3fc-db0425f3ad30"
      },
      "execution_count": null,
      "outputs": [
        {
          "output_type": "stream",
          "name": "stdout",
          "text": [
            "羊が 1 匹、\n",
            "羊が 2 匹、\n",
            "羊が 3 匹、\n",
            "羊が 4 匹、\n",
            "羊が 5 匹、\n",
            "羊が 6 匹、\n",
            "羊が 7 匹、\n",
            "羊が 8 匹、\n",
            "羊が 9 匹、\n",
            "羊が 10 匹、\n"
          ]
        }
      ]
    },
    {
      "cell_type": "code",
      "source": [
        "for n in range(90000, 120000, 10000):\n",
        "    print(\"{} ...\".format(n))\n",
        "print(\"バ・・・バカな・・・まさか・・・。ま・・・まだ上昇している・・・！\")"
      ],
      "metadata": {
        "colab": {
          "base_uri": "https://localhost:8080/"
        },
        "id": "dpj-8Ug7ggcy",
        "outputId": "fae68e36-26fb-4ddc-cd32-b6f20d07ee84"
      },
      "execution_count": null,
      "outputs": [
        {
          "output_type": "stream",
          "name": "stdout",
          "text": [
            "90000 ...\n",
            "100000 ...\n",
            "110000 ...\n",
            "バ・・・バカな・・・まさか・・・。ま・・・まだ上昇している・・・！\n"
          ]
        }
      ]
    },
    {
      "cell_type": "code",
      "source": [
        "[print(\"{} ...\".format(n)) for n in range(90000, 120000, 10000)]\n",
        "print(\"バ・・・バカな・・・まさか・・・。ま・・・まだ上昇している・・・！\")\n"
      ],
      "metadata": {
        "colab": {
          "base_uri": "https://localhost:8080/"
        },
        "id": "BC9Ssp1cgpnM",
        "outputId": "7140592c-22f6-4ca3-f935-f12428b1582c"
      },
      "execution_count": null,
      "outputs": [
        {
          "output_type": "stream",
          "name": "stdout",
          "text": [
            "90000 ...\n",
            "100000 ...\n",
            "110000 ...\n",
            "バ・・・バカな・・・まさか・・・。ま・・・まだ上昇している・・・！\n"
          ]
        }
      ]
    },
    {
      "cell_type": "code",
      "source": [
        "n = 90000\n",
        "while n < 120000:\n",
        "    print(\"{} ...\".format(n))\n",
        "    n += 10000\n",
        "print(\"バ・・・バカな・・・まさか・・・。ま・・・まだ上昇している・・・！\")\n"
      ],
      "metadata": {
        "colab": {
          "base_uri": "https://localhost:8080/"
        },
        "id": "bykg_udwgrzU",
        "outputId": "94bd281f-44f5-46df-8651-5c5478755787"
      },
      "execution_count": null,
      "outputs": [
        {
          "output_type": "stream",
          "name": "stdout",
          "text": [
            "90000 ...\n",
            "100000 ...\n",
            "110000 ...\n",
            "バ・・・バカな・・・まさか・・・。ま・・・まだ上昇している・・・！\n"
          ]
        }
      ]
    },
    {
      "cell_type": "code",
      "source": [
        "import math\n",
        "x = 0\n",
        "w = 0.02\n",
        "t = 0.4\n",
        "\n",
        "while x <= t+w:\n",
        "  print(\"{:.2f}, {:.5f}, {:.5f}\".format(x, math.sin(x), abs(x - math.sin(x))))\n",
        "  x += w"
      ],
      "metadata": {
        "colab": {
          "base_uri": "https://localhost:8080/"
        },
        "id": "hIS882tWgu4J",
        "outputId": "da65398e-0acd-49a0-cfe8-ec0cf5625a5a"
      },
      "execution_count": null,
      "outputs": [
        {
          "output_type": "stream",
          "name": "stdout",
          "text": [
            "0.00, 0.00000, 0.00000\n",
            "0.02, 0.02000, 0.00000\n",
            "0.04, 0.03999, 0.00001\n",
            "0.06, 0.05996, 0.00004\n",
            "0.08, 0.07991, 0.00009\n",
            "0.10, 0.09983, 0.00017\n",
            "0.12, 0.11971, 0.00029\n",
            "0.14, 0.13954, 0.00046\n",
            "0.16, 0.15932, 0.00068\n",
            "0.18, 0.17903, 0.00097\n",
            "0.20, 0.19867, 0.00133\n",
            "0.22, 0.21823, 0.00177\n",
            "0.24, 0.23770, 0.00230\n",
            "0.26, 0.25708, 0.00292\n",
            "0.28, 0.27636, 0.00364\n",
            "0.30, 0.29552, 0.00448\n",
            "0.32, 0.31457, 0.00543\n",
            "0.34, 0.33349, 0.00651\n",
            "0.36, 0.35227, 0.00773\n",
            "0.38, 0.37092, 0.00908\n",
            "0.40, 0.38942, 0.01058\n"
          ]
        }
      ]
    },
    {
      "cell_type": "markdown",
      "source": [
        "# 第１６章"
      ],
      "metadata": {
        "id": "hdynFjuQjN_4"
      }
    },
    {
      "cell_type": "code",
      "source": [
        "a = 2\n",
        "for n in range(1, 11):\n",
        "  a = a ** 2 - 1\n",
        "  print(n, a)"
      ],
      "metadata": {
        "colab": {
          "base_uri": "https://localhost:8080/"
        },
        "id": "NZ_iUHzahPCG",
        "outputId": "377d96f4-47c9-4b51-d2c2-c43566c22ecd"
      },
      "execution_count": null,
      "outputs": [
        {
          "output_type": "stream",
          "name": "stdout",
          "text": [
            "1 3\n",
            "2 8\n",
            "3 63\n",
            "4 3968\n",
            "5 15745023\n",
            "6 247905749270528\n",
            "7 61457260521381894004129398783\n",
            "8 3776994870793005510047522464634252677140721938309041881088\n",
            "9 14265690253996672387291309349232388828298289458234016200317876247121873778287073518355813134107244701354409532063743\n",
            "10 203509918422975643131625101557493482417516581321177887486174612349689723637228095885608636916042736102424433936617827686729959884103612889121780011527849662844136145473332830301242513425767433130492258922182178369327277600615170048\n"
          ]
        }
      ]
    },
    {
      "cell_type": "markdown",
      "source": [
        "# 第１７章"
      ],
      "metadata": {
        "id": "wgC3Nr49j-nb"
      }
    },
    {
      "cell_type": "code",
      "source": [
        "for i in range(1, 8):\n",
        "  n = 2**i\n",
        "  s = 0\n",
        "  #print(i, n)\n",
        "  for k in range(1, n + 1):\n",
        "    #print(\"\\t\", k)\n",
        "    s += k ** (-2)\n",
        "  print(n, s)"
      ],
      "metadata": {
        "colab": {
          "base_uri": "https://localhost:8080/"
        },
        "id": "6KPiRJtgjdWg",
        "outputId": "eec27a83-3cfc-4d0b-d642-d19c0f99e272"
      },
      "execution_count": null,
      "outputs": [
        {
          "output_type": "stream",
          "name": "stdout",
          "text": [
            "2 1.25\n",
            "4 1.4236111111111112\n",
            "8 1.527422052154195\n",
            "16 1.584346533444987\n",
            "32 1.6141672628279242\n",
            "64 1.629430501408887\n",
            "128 1.6371520049544612\n"
          ]
        }
      ]
    },
    {
      "cell_type": "markdown",
      "source": [
        "# 第１８章"
      ],
      "metadata": {
        "id": "ehZ185IYl9yj"
      }
    },
    {
      "cell_type": "code",
      "source": [
        "stack = []\n",
        "for x in range(10):\n",
        "    stack.append(x)\n",
        "    if x%2 == 0:\n",
        "        y = stack.pop()\n",
        "        print(y)\n",
        "\n",
        "stack"
      ],
      "metadata": {
        "colab": {
          "base_uri": "https://localhost:8080/"
        },
        "id": "DTGCfp1tkPo5",
        "outputId": "689e83ed-32af-4148-9fbc-3b4ec561913d"
      },
      "execution_count": null,
      "outputs": [
        {
          "output_type": "stream",
          "name": "stdout",
          "text": [
            "0\n",
            "2\n",
            "4\n",
            "6\n",
            "8\n"
          ]
        },
        {
          "output_type": "execute_result",
          "data": {
            "text/plain": [
              "[1, 3, 5, 7, 9]"
            ]
          },
          "metadata": {},
          "execution_count": 83
        }
      ]
    },
    {
      "cell_type": "code",
      "source": [
        "queue = []\n",
        "for x in range(10):\n",
        "    queue.append(x)\n",
        "    if x%2 == 0:\n",
        "        y = queue.pop(0)\n",
        "        print(y)\n",
        "\n",
        "queue"
      ],
      "metadata": {
        "colab": {
          "base_uri": "https://localhost:8080/"
        },
        "id": "x4a-u1fTmHUA",
        "outputId": "5049976a-5f16-487a-873f-6cdafb91a33b"
      },
      "execution_count": null,
      "outputs": [
        {
          "output_type": "stream",
          "name": "stdout",
          "text": [
            "0\n",
            "1\n",
            "2\n",
            "3\n",
            "4\n"
          ]
        },
        {
          "output_type": "execute_result",
          "data": {
            "text/plain": [
              "[5, 6, 7, 8, 9]"
            ]
          },
          "metadata": {},
          "execution_count": 86
        }
      ]
    },
    {
      "cell_type": "markdown",
      "source": [
        "# 第１９章"
      ],
      "metadata": {
        "id": "RiK4UN8UnHwr"
      }
    },
    {
      "cell_type": "code",
      "source": [
        "def sum(n):\n",
        "    ret = 0\n",
        "    for i in range(1, n + 1):\n",
        "        #print(i)\n",
        "        ret += i\n",
        "    return ret\n",
        "\n",
        "sum(10)"
      ],
      "metadata": {
        "colab": {
          "base_uri": "https://localhost:8080/"
        },
        "id": "la4VT6IymplL",
        "outputId": "3a852044-52c1-461a-b360-91d4828d24e8"
      },
      "execution_count": null,
      "outputs": [
        {
          "output_type": "execute_result",
          "data": {
            "text/plain": [
              "55"
            ]
          },
          "metadata": {},
          "execution_count": 91
        }
      ]
    },
    {
      "cell_type": "code",
      "source": [
        "def sum(n):\n",
        "    #print(n)\n",
        "    if n < 1:\n",
        "        return n\n",
        "    return n + sum(n-1)\n",
        "\n",
        "sum(10)"
      ],
      "metadata": {
        "colab": {
          "base_uri": "https://localhost:8080/"
        },
        "id": "XAebdFsLnPFN",
        "outputId": "ae9d9aed-1279-4f10-b107-f8f0a292fecf"
      },
      "execution_count": null,
      "outputs": [
        {
          "output_type": "execute_result",
          "data": {
            "text/plain": [
              "55"
            ]
          },
          "metadata": {},
          "execution_count": 92
        }
      ]
    },
    {
      "cell_type": "code",
      "source": [
        "import time\n",
        "\n",
        "start = time.time()\n",
        "for i in range(0, 10):\n",
        "    print (i)\n",
        "elapsed_time = time.time() - start\n",
        "print(\"elapsed_time:{0}\".format(elapsed_time) + \"[sec]\")"
      ],
      "metadata": {
        "colab": {
          "base_uri": "https://localhost:8080/"
        },
        "id": "Fd8JjzCenczu",
        "outputId": "6ee17582-0c8c-4a50-b68b-dec0cabce6a6"
      },
      "execution_count": null,
      "outputs": [
        {
          "output_type": "stream",
          "name": "stdout",
          "text": [
            "0\n",
            "1\n",
            "2\n",
            "3\n",
            "4\n",
            "5\n",
            "6\n",
            "7\n",
            "8\n",
            "9\n",
            "elapsed_time:0.0033299922943115234[sec]\n"
          ]
        }
      ]
    },
    {
      "cell_type": "code",
      "source": [
        "def kaijo(n):\n",
        "    ret = 1\n",
        "    for i in range(1, n + 1):\n",
        "        #print(i)\n",
        "        ret *= i\n",
        "    return ret\n",
        "\n",
        "kaijo(100)"
      ],
      "metadata": {
        "colab": {
          "base_uri": "https://localhost:8080/"
        },
        "id": "bqqeoqrLoGUp",
        "outputId": "0fef8153-941a-403b-bbf9-4d3083a6cf28"
      },
      "execution_count": null,
      "outputs": [
        {
          "output_type": "execute_result",
          "data": {
            "text/plain": [
              "93326215443944152681699238856266700490715968264381621468592963895217599993229915608941463976156518286253697920827223758251185210916864000000000000000000000000"
            ]
          },
          "metadata": {},
          "execution_count": 97
        }
      ]
    },
    {
      "cell_type": "code",
      "source": [
        "import time\n",
        "\n",
        "start = time.time()\n",
        "kaijo(100)\n",
        "elapsed_time = time.time() - start\n",
        "print(\"elapsed_time:{0}\".format(elapsed_time) + \"[sec]\")"
      ],
      "metadata": {
        "colab": {
          "base_uri": "https://localhost:8080/"
        },
        "id": "BYRyg2U9oZPP",
        "outputId": "249f0ea4-e972-4a93-8039-077c3a26a618"
      },
      "execution_count": null,
      "outputs": [
        {
          "output_type": "stream",
          "name": "stdout",
          "text": [
            "elapsed_time:0.00011086463928222656[sec]\n"
          ]
        }
      ]
    },
    {
      "cell_type": "code",
      "source": [],
      "metadata": {
        "id": "edaXb-TAoglh"
      },
      "execution_count": null,
      "outputs": []
    }
  ]
}