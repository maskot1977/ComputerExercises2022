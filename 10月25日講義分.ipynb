{
  "nbformat": 4,
  "nbformat_minor": 0,
  "metadata": {
    "colab": {
      "provenance": [],
      "collapsed_sections": [],
      "authorship_tag": "ABX9TyOERl4bvKvQrgAEXzid9uIs",
      "include_colab_link": true
    },
    "kernelspec": {
      "name": "python3",
      "display_name": "Python 3"
    },
    "language_info": {
      "name": "python"
    }
  },
  "cells": [
    {
      "cell_type": "markdown",
      "metadata": {
        "id": "view-in-github",
        "colab_type": "text"
      },
      "source": [
        "<a href=\"https://colab.research.google.com/github/maskot1977/ComputerExercises2022/blob/zFBfKnjC6AHG/10%E6%9C%8825%E6%97%A5%E8%AC%9B%E7%BE%A9%E5%88%86.ipynb\" target=\"_parent\"><img src=\"https://colab.research.google.com/assets/colab-badge.svg\" alt=\"Open In Colab\"/></a>"
      ]
    },
    {
      "cell_type": "markdown",
      "source": [
        "# 第２１章"
      ],
      "metadata": {
        "id": "Y3VSn-yjXQqU"
      }
    },
    {
      "cell_type": "code",
      "execution_count": null,
      "metadata": {
        "colab": {
          "base_uri": "https://localhost:8080/"
        },
        "id": "bMloob76TA4f",
        "outputId": "a5f3f24a-b370-4a6e-a4b9-b2dc4a5e6f1d"
      },
      "outputs": [
        {
          "output_type": "execute_result",
          "data": {
            "text/plain": [
              "('home.txt', <http.client.HTTPMessage at 0x7f57d6b87d10>)"
            ]
          },
          "metadata": {},
          "execution_count": 1
        }
      ],
      "source": [
        "import urllib.request\n",
        "url = 'https://raw.githubusercontent.com/maskot1977/toydata/main/home.txt'\n",
        "urllib.request.urlretrieve(url, 'home.txt') # データのダウンロード"
      ]
    },
    {
      "cell_type": "code",
      "source": [
        "# ファイルを開いて一行一行読み込む\n",
        "for i, line in enumerate(open('home.txt')):\n",
        "    print(i, line)"
      ],
      "metadata": {
        "colab": {
          "base_uri": "https://localhost:8080/"
        },
        "id": "LTWxMzmqXk4t",
        "outputId": "62a51518-4219-4db7-bba7-5baa188b4db4"
      },
      "execution_count": null,
      "outputs": [
        {
          "output_type": "stream",
          "name": "stdout",
          "text": [
            "0 家賃（円）\t徒歩（分）\t専有面積（㎡）\t築年数（年）\t階数（階）\t新築\t2階以上\t南向き\t駐車場\tオートロック\tエアコン\tバストイレ別\t追い焚き\tフローリング\tペット相談可\n",
            "\n",
            "1 88500\t10\t20.7\t3\t8\t0\t1\t0\t1\t1\t1\t1\t0\t1\t1\n",
            "\n",
            "2 86700\t10\t20.7\t3\t7\t0\t1\t1\t1\t1\t1\t1\t0\t1\t1\n",
            "\n",
            "3 87300\t10\t20.7\t3\t2\t0\t1\t1\t1\t1\t1\t1\t0\t1\t1\n",
            "\n",
            "4 88200\t10\t20.7\t3\t9\t0\t1\t1\t1\t1\t1\t1\t0\t1\t1\n",
            "\n",
            "5 170000\t10\t41.4\t3\t11\t0\t1\t1\t1\t1\t1\t1\t1\t1\t1\n",
            "\n",
            "6 83000\t10\t20.7\t3\t2\t0\t1\t1\t1\t1\t1\t1\t0\t1\t1\n",
            "\n",
            "7 100000\t13\t25.21\t2\t3\t0\t1\t1\t0\t1\t1\t1\t1\t1\t0\n",
            "\n",
            "8 170000\t13\t52.36\t2\t11\t0\t1\t1\t0\t1\t1\t1\t1\t1\t0\n",
            "\n",
            "9 105000\t13\t25.63\t2\t11\t0\t1\t1\t0\t1\t1\t1\t1\t1\t0\n",
            "\n",
            "10 83000\t5\t22.85\t1\t2\t0\t1\t0\t0\t1\t1\t1\t1\t1\t0\n",
            "\n",
            "11 56000\t10\t12.5\t0\t1\t1\t0\t0\t0\t1\t1\t0\t0\t1\t0\n",
            "\n",
            "12 65000\t10\t12.5\t0\t2\t1\t1\t0\t0\t1\t1\t0\t0\t1\t0\n",
            "\n",
            "13 56000\t10\t12\t0\t1\t1\t0\t0\t0\t1\t1\t0\t0\t1\t0\n",
            "\n",
            "14 63000\t10\t12\t0\t2\t1\t1\t0\t0\t1\t1\t1\t0\t1\t0\n",
            "\n",
            "15 67000\t10\t12\t0\t2\t1\t1\t0\t0\t1\t1\t0\t0\t1\t0\n",
            "\n",
            "16 87000\t9\t20.79\t4\t5\t0\t1\t1\t0\t1\t1\t1\t0\t1\t0\n",
            "\n",
            "17 85000\t9\t21.88\t4\t3\t0\t1\t1\t0\t1\t1\t1\t0\t1\t0\n",
            "\n",
            "18 64000\t4\t11.28\t2\t1\t0\t0\t0\t0\t1\t1\t1\t0\t1\t0\n",
            "\n",
            "19 67000\t4\t12.73\t2\t2\t0\t1\t0\t0\t1\t1\t1\t0\t1\t0\n",
            "\n",
            "20 140000\t7\t31.7\t1\t4\t0\t1\t0\t0\t1\t1\t1\t1\t1\t1\n",
            "\n",
            "21 113000\t7\t25.1\t0\t2\t1\t1\t0\t0\t1\t1\t1\t0\t1\t1\n",
            "\n",
            "22 117000\t7\t25.06\t0\t5\t1\t1\t0\t0\t1\t1\t1\t0\t1\t1\n",
            "\n",
            "23 113000\t7\t25.1\t0\t2\t1\t1\t0\t0\t1\t1\t1\t0\t1\t1\n",
            "\n",
            "24 110000\t7\t25.06\t0\t1\t1\t0\t0\t0\t1\t1\t1\t0\t1\t1\n",
            "\n",
            "25 114000\t7\t25.1\t0\t3\t1\t1\t0\t0\t1\t1\t1\t0\t1\t1\n",
            "\n",
            "26 87000\t12\t23\t1\t1\t0\t0\t0\t0\t0\t1\t1\t0\t1\t0\n",
            "\n",
            "27 170000\t13\t52.36\t2\t11\t0\t1\t1\t0\t1\t1\t1\t1\t1\t0\n",
            "\n",
            "28 105000\t13\t25.63\t2\t11\t0\t1\t1\t0\t1\t1\t1\t1\t1\t0\n",
            "\n",
            "29 78000\t15\t21.18\t6\t4\t0\t1\t0\t0\t0\t1\t1\t0\t1\t0\n",
            "\n",
            "30 85000\t15\t22.41\t6\t3\t0\t1\t0\t0\t1\t1\t1\t0\t1\t1\n",
            "\n",
            "31 179000\t17\t58.17\t6\t5\t0\t1\t0\t0\t1\t1\t1\t1\t1\t1\n",
            "\n",
            "32 78000\t17\t21.18\t6\t5\t0\t1\t0\t0\t1\t1\t1\t0\t1\t1\n",
            "\n",
            "33 179000\t17\t58.17\t6\t5\t0\t1\t0\t0\t1\t1\t1\t0\t1\t1\n",
            "\n",
            "34 78000\t15\t21.18\t6\t1\t0\t0\t0\t0\t1\t0\t1\t0\t1\t0\n",
            "\n",
            "35 78000\t14\t21.18\t6\t4\t0\t1\t0\t0\t1\t1\t1\t0\t1\t0\n",
            "\n",
            "36 103000\t5\t26.48\t4\t2\t0\t1\t0\t0\t1\t1\t1\t1\t1\t0\n",
            "\n",
            "37 105000\t5\t27.15\t4\t2\t0\t1\t1\t0\t1\t0\t1\t1\t1\t0\n",
            "\n",
            "38 98000\t5\t26.48\t4\t3\t0\t1\t1\t0\t1\t1\t0\t0\t1\t0\n",
            "\n",
            "39 86000\t7\t25.4\t6\t3\t0\t1\t1\t0\t1\t0\t1\t1\t1\t0\n",
            "\n",
            "40 76000\t6\t23.6\t7\t2\t0\t1\t0\t0\t0\t1\t1\t0\t1\t0\n",
            "\n",
            "41 83000\t17\t21.25\t5\t4\t0\t1\t1\t0\t1\t1\t1\t0\t1\t0\n",
            "\n",
            "42 76000\t6\t23.6\t7\t2\t0\t1\t0\t0\t0\t1\t1\t0\t1\t0\n",
            "\n",
            "43 76000\t6\t23.6\t8\t2\t0\t1\t0\t0\t0\t1\t1\t0\t1\t0\n",
            "\n",
            "44 63000\t7\t11\t4\t1\t0\t0\t0\t0\t1\t1\t0\t0\t1\t0\n",
            "\n",
            "45 63000\t7\t11\t4\t1\t0\t0\t0\t0\t0\t0\t0\t0\t1\t0\n",
            "\n",
            "46 63000\t7\t11\t4\t1\t0\t0\t0\t0\t1\t1\t0\t0\t1\t0\n",
            "\n",
            "47 76000\t6\t23.6\t8\t2\t0\t1\t0\t0\t0\t1\t1\t1\t1\t0\n",
            "\n",
            "48 90000\t7\t20.06\t7\t6\t0\t1\t1\t0\t1\t1\t1\t1\t1\t0\n",
            "\n",
            "49 91000\t9\t20.06\t7\t6\t0\t1\t1\t0\t1\t1\t1\t0\t1\t0\n",
            "\n",
            "50 92000\t7\t20.06\t7\t7\t0\t1\t1\t1\t0\t0\t0\t0\t0\t0\n",
            "\n",
            "51 86000\t7\t20.06\t7\t2\t0\t1\t1\t0\t1\t1\t1\t0\t1\t0\n",
            "\n",
            "52 87000\t7\t20.06\t7\t2\t0\t1\t1\t0\t1\t1\t1\t0\t1\t0\n",
            "\n",
            "53 90000\t7\t20.06\t7\t6\t0\t1\t1\t0\t1\t1\t1\t0\t1\t0\n",
            "\n",
            "54 92000\t7\t20.06\t7\t7\t0\t1\t1\t0\t1\t1\t1\t0\t1\t0\n",
            "\n",
            "55 93000\t19\t25.03\t9\t6\t0\t1\t1\t0\t1\t1\t1\t0\t1\t0\n",
            "\n",
            "56 94000\t5\t18.61\t7\t2\t0\t1\t0\t0\t1\t1\t0\t0\t1\t1\n",
            "\n",
            "57 97000\t5\t23.78\t7\t3\t0\t1\t0\t0\t1\t1\t0\t0\t1\t1\n",
            "\n",
            "58 94000\t5\t18.61\t7\t3\t0\t1\t0\t0\t1\t1\t0\t0\t1\t1\n",
            "\n",
            "59 97000\t5\t23.78\t7\t3\t0\t1\t0\t0\t1\t1\t0\t0\t1\t1\n",
            "\n",
            "60 95000\t10\t20.75\t0\t7\t1\t1\t1\t0\t1\t1\t1\t0\t1\t0\n",
            "\n",
            "61 130000\t10\t30.84\t0\t2\t1\t1\t1\t0\t1\t1\t1\t1\t1\t0\n",
            "\n",
            "62 94000\t5\t18.71\t7\t2\t0\t1\t0\t0\t1\t1\t0\t0\t1\t1\n",
            "\n",
            "63 97000\t5\t23.78\t7\t3\t0\t1\t0\t0\t1\t1\t0\t0\t1\t1\n",
            "\n",
            "64 95000\t9\t21.36\t7\t4\t0\t1\t0\t1\t1\t1\t1\t0\t1\t0\n",
            "\n",
            "65 97000\t9\t24.17\t7\t5\t0\t1\t0\t1\t1\t1\t1\t0\t1\t0\n",
            "\n",
            "66 99000\t9\t21.94\t7\t11\t0\t1\t0\t1\t1\t1\t1\t0\t1\t0\n",
            "\n",
            "67 100000\t9\t21.94\t7\t13\t0\t1\t0\t1\t1\t1\t1\t0\t1\t0\n",
            "\n",
            "68 103000\t9\t21.94\t7\t13\t0\t1\t0\t0\t1\t1\t1\t0\t1\t0\n",
            "\n",
            "69 99000\t8\t22.17\t7\t2\t0\t1\t0\t0\t1\t1\t1\t0\t1\t0\n",
            "\n",
            "70 101000\t8\t21.94\t7\t8\t0\t1\t0\t0\t1\t1\t1\t0\t1\t0\n",
            "\n",
            "71 101000\t8\t21.94\t7\t6\t0\t1\t0\t0\t1\t1\t1\t0\t1\t0\n",
            "\n",
            "72 103000\t9\t21.94\t7\t8\t0\t1\t0\t0\t1\t1\t1\t0\t1\t0\n",
            "\n",
            "73 102000\t8\t22.17\t7\t10\t0\t1\t0\t0\t1\t1\t1\t0\t1\t0\n",
            "\n",
            "74 105000\t9\t21.94\t7\t13\t0\t1\t0\t0\t1\t1\t1\t0\t1\t0\n",
            "\n",
            "75 137000\t6\t32.95\t7\t13\t0\t1\t1\t1\t1\t1\t1\t0\t1\t0\n",
            "\n",
            "76 100000\t8\t21.94\t7\t6\t0\t1\t0\t0\t1\t1\t1\t0\t1\t0\n",
            "\n",
            "77 79000\t7\t18.04\t12\t11\t0\t1\t1\t0\t1\t1\t1\t0\t1\t0\n",
            "\n",
            "78 75000\t7\t18.14\t12\t1\t0\t0\t1\t0\t1\t1\t1\t0\t1\t0\n",
            "\n",
            "79 81000\t7\t18.14\t12\t9\t0\t1\t1\t0\t1\t1\t1\t0\t1\t0\n",
            "\n",
            "80 85000\t15\t25.13\t12\t2\t0\t1\t0\t1\t1\t1\t1\t0\t1\t0\n",
            "\n",
            "81 80000\t15\t25.13\t12\t2\t0\t1\t0\t0\t1\t1\t1\t0\t1\t0\n",
            "\n",
            "82 83000\t15\t20.45\t12\t4\t0\t1\t0\t0\t1\t1\t1\t0\t1\t0\n",
            "\n",
            "83 93000\t7\t22.5\t7\t2\t0\t1\t0\t0\t1\t1\t1\t0\t1\t1\n",
            "\n",
            "84 104000\t8\t24.87\t7\t4\t0\t1\t0\t1\t1\t1\t1\t1\t0\t0\n",
            "\n",
            "85 183000\t8\t47.17\t7\t12\t0\t1\t1\t1\t1\t1\t1\t1\t0\t0\n",
            "\n",
            "86 183000\t8\t47.17\t7\t13\t0\t1\t1\t1\t1\t1\t1\t1\t0\t0\n",
            "\n",
            "87 110000\t8\t27.6\t7\t3\t0\t1\t0\t1\t1\t1\t1\t1\t0\t0\n",
            "\n",
            "88 117000\t8\t34.12\t7\t3\t0\t1\t1\t1\t1\t1\t1\t1\t0\t0\n",
            "\n",
            "89 99000\t8\t24.27\t7\t2\t0\t1\t0\t0\t1\t0\t1\t0\t1\t0\n",
            "\n",
            "90 159000\t8\t42.72\t7\t6\t0\t1\t0\t1\t1\t1\t1\t1\t1\t0\n",
            "\n",
            "91 180000\t8\t48.24\t7\t7\t0\t1\t1\t1\t1\t1\t1\t1\t1\t0\n",
            "\n",
            "92 114000\t8\t27.6\t7\t5\t0\t1\t0\t1\t1\t1\t0\t1\t1\t0\n",
            "\n",
            "93 74000\t2\t20.43\t12\t4\t0\t1\t0\t0\t1\t1\t1\t0\t1\t0\n",
            "\n",
            "94 91000\t8\t21.34\t10\t6\t0\t1\t0\t0\t1\t1\t1\t0\t1\t0\n",
            "\n",
            "95 92500\t8\t20.58\t10\t11\t0\t1\t0\t0\t1\t1\t1\t0\t1\t0\n",
            "\n",
            "96 88000\t8\t21.29\t10\t4\t0\t1\t0\t0\t1\t1\t1\t0\t1\t1\n",
            "\n",
            "97 88000\t8\t20.58\t10\t5\t0\t1\t0\t0\t1\t1\t1\t0\t1\t1\n",
            "\n",
            "98 88000\t8\t22.04\t10\t9\t0\t1\t0\t0\t1\t1\t1\t0\t1\t0\n",
            "\n",
            "99 88000\t8\t20.58\t10\t8\t0\t1\t0\t0\t1\t1\t1\t0\t0\t0\n",
            "\n",
            "100 93000\t7\t22.5\t7\t2\t0\t1\t0\t0\t1\t1\t1\t0\t1\t0\n"
          ]
        }
      ]
    },
    {
      "cell_type": "code",
      "source": [
        "col1 = []\n",
        "col2 = []\n",
        "col3 = []\n",
        "# ファイルを開いて一行一行読み込む\n",
        "for i, line in enumerate(open('home.txt')):\n",
        "    if i > 0:\n",
        "        # 行をタブで分割したものをcというリストに入れる\n",
        "        c = line.split(\"\\t\")\n",
        "        col1.append(int(c[0]))\n",
        "        col2.append(int(c[1]))\n",
        "        col3.append(float(c[2]))"
      ],
      "metadata": {
        "id": "CROL7anMXtTD"
      },
      "execution_count": null,
      "outputs": []
    },
    {
      "cell_type": "code",
      "source": [
        "import matplotlib.pyplot as plt\n",
        "plt.hist(col1)\n",
        "plt.show()\n",
        "plt.hist(col2)\n",
        "plt.show()\n",
        "plt.hist(col3)\n",
        "plt.show()"
      ],
      "metadata": {
        "colab": {
          "base_uri": "https://localhost:8080/",
          "height": 761
        },
        "id": "ZLt8j6E_Yloi",
        "outputId": "d11d8229-4885-44cb-efcb-1f2923c6c36c"
      },
      "execution_count": null,
      "outputs": [
        {
          "output_type": "display_data",
          "data": {
            "text/plain": [
              "<Figure size 432x288 with 1 Axes>"
            ],
            "image/png": "[encoded data removed]"
          },
          "metadata": {
            "needs_background": "light"
          }
        },
        {
          "output_type": "display_data",
          "data": {
            "text/plain": [
              "<Figure size 432x288 with 1 Axes>"
            ],
            "image/png": "[encoded data removed]"
          },
          "metadata": {
            "needs_background": "light"
          }
        },
        {
          "output_type": "display_data",
          "data": {
            "text/plain": [
              "<Figure size 432x288 with 1 Axes>"
            ],
            "image/png": "[encoded data removed]"
          },
          "metadata": {
            "needs_background": "light"
          }
        }
      ]
    },
    {
      "cell_type": "code",
      "source": [
        "import matplotlib.pyplot as plt\n",
        "plt.scatter(col1, col2, alpha=0.5)\n",
        "plt.show()\n",
        "plt.scatter(col2, col3, alpha=0.5)\n",
        "plt.show()\n",
        "plt.scatter(col3, col1, alpha=0.5)\n",
        "plt.show()"
      ],
      "metadata": {
        "colab": {
          "base_uri": "https://localhost:8080/",
          "height": 763
        },
        "id": "_S5G5pR1Zkna",
        "outputId": "0235074c-88c0-4f04-dd16-bc658179b8aa"
      },
      "execution_count": null,
      "outputs": [
        {
          "output_type": "display_data",
          "data": {
            "text/plain": [
              "<Figure size 432x288 with 1 Axes>"
            ],
            "image/png": "[encoded data removed]"
          },
          "metadata": {
            "needs_background": "light"
          }
        },
        {
          "output_type": "display_data",
          "data": {
            "text/plain": [
              "<Figure size 432x288 with 1 Axes>"
            ],
            "image/png": "[encoded data removed]"
          },
          "metadata": {
            "needs_background": "light"
          }
        },
        {
          "output_type": "display_data",
          "data": {
            "text/plain": [
              "<Figure size 432x288 with 1 Axes>"
            ],
            "image/png": "[encoded data removed]"
          },
          "metadata": {
            "needs_background": "light"
          }
        }
      ]
    },
    {
      "cell_type": "markdown",
      "source": [
        "# 第２２章"
      ],
      "metadata": {
        "id": "kq1SMraub3qN"
      }
    },
    {
      "cell_type": "code",
      "source": [
        "# 平均値を求める関数を作ろう\n",
        "def mean(list_):\n",
        "    sum = 0\n",
        "    for x in list_:\n",
        "        sum += x\n",
        "    return sum / len(list_)"
      ],
      "metadata": {
        "id": "0KGmFMVsbCiz"
      },
      "execution_count": null,
      "outputs": []
    },
    {
      "cell_type": "code",
      "source": [
        "mean(col1)"
      ],
      "metadata": {
        "colab": {
          "base_uri": "https://localhost:8080/"
        },
        "id": "zNL-3rojcG0H",
        "outputId": "eafffa3a-377d-41ce-885d-2d236261e95c"
      },
      "execution_count": null,
      "outputs": [
        {
          "output_type": "execute_result",
          "data": {
            "text/plain": [
              "98522.0"
            ]
          },
          "metadata": {},
          "execution_count": 23
        }
      ]
    },
    {
      "cell_type": "code",
      "source": [
        "mean(col2)"
      ],
      "metadata": {
        "colab": {
          "base_uri": "https://localhost:8080/"
        },
        "id": "nTKzGZ6Vcs5i",
        "outputId": "8295b867-d63d-411b-ba1d-a1e4c7bfffff"
      },
      "execution_count": null,
      "outputs": [
        {
          "output_type": "execute_result",
          "data": {
            "text/plain": [
              "8.85"
            ]
          },
          "metadata": {},
          "execution_count": 24
        }
      ]
    },
    {
      "cell_type": "code",
      "source": [
        "mean(col3)"
      ],
      "metadata": {
        "colab": {
          "base_uri": "https://localhost:8080/"
        },
        "id": "CMUzvuARcuA5",
        "outputId": "ad152384-e78e-4623-c278-0bb414b5b78b"
      },
      "execution_count": null,
      "outputs": [
        {
          "output_type": "execute_result",
          "data": {
            "text/plain": [
              "24.176499999999987"
            ]
          },
          "metadata": {},
          "execution_count": 25
        }
      ]
    },
    {
      "cell_type": "markdown",
      "source": [
        "# 第２３章"
      ],
      "metadata": {
        "id": "-y0ZnElcc-s2"
      }
    },
    {
      "cell_type": "code",
      "source": [
        "# 分散を求める関数を作ろう\n",
        "def variance(list_):\n",
        "    m = mean(list_)\n",
        "    sum = 0\n",
        "    for x in list_:\n",
        "        sum += (x - m)**2\n",
        "    return sum / len(list_)"
      ],
      "metadata": {
        "id": "B3KB59jUcvAx"
      },
      "execution_count": null,
      "outputs": []
    },
    {
      "cell_type": "code",
      "source": [
        "variance(col1)"
      ],
      "metadata": {
        "colab": {
          "base_uri": "https://localhost:8080/"
        },
        "id": "x0hXjXDxdKTv",
        "outputId": "6b3fd94b-8bfb-4826-e530-78bcc23711f7"
      },
      "execution_count": null,
      "outputs": [
        {
          "output_type": "execute_result",
          "data": {
            "text/plain": [
              "817484716.0"
            ]
          },
          "metadata": {},
          "execution_count": 27
        }
      ]
    },
    {
      "cell_type": "code",
      "source": [
        "variance(col2)"
      ],
      "metadata": {
        "colab": {
          "base_uri": "https://localhost:8080/"
        },
        "id": "9G6peZi1dSZI",
        "outputId": "cfa85ec1-9c29-49a5-aa68-38746b9e12ab"
      },
      "execution_count": null,
      "outputs": [
        {
          "output_type": "execute_result",
          "data": {
            "text/plain": [
              "11.047500000000008"
            ]
          },
          "metadata": {},
          "execution_count": 28
        }
      ]
    },
    {
      "cell_type": "code",
      "source": [
        "variance(col3)"
      ],
      "metadata": {
        "colab": {
          "base_uri": "https://localhost:8080/"
        },
        "id": "Icz7U7dkdToZ",
        "outputId": "aacd0416-af20-40a9-e49c-661d0ea4d748"
      },
      "execution_count": null,
      "outputs": [
        {
          "output_type": "execute_result",
          "data": {
            "text/plain": [
              "86.57838475000003"
            ]
          },
          "metadata": {},
          "execution_count": 29
        }
      ]
    },
    {
      "cell_type": "code",
      "source": [
        "# 標準偏差を求める関数を作ろう\n",
        "import math\n",
        "def standard_deviation(list_):\n",
        "    return math.sqrt(variance(list_))"
      ],
      "metadata": {
        "id": "w3iEA6CMdVC0"
      },
      "execution_count": null,
      "outputs": []
    },
    {
      "cell_type": "code",
      "source": [
        "standard_deviation(col1)"
      ],
      "metadata": {
        "colab": {
          "base_uri": "https://localhost:8080/"
        },
        "id": "29ZEXIXOdmwq",
        "outputId": "cec0f8b0-5dd2-4b1c-cb28-f0874997ad23"
      },
      "execution_count": null,
      "outputs": [
        {
          "output_type": "execute_result",
          "data": {
            "text/plain": [
              "28591.689631779373"
            ]
          },
          "metadata": {},
          "execution_count": 32
        }
      ]
    },
    {
      "cell_type": "code",
      "source": [
        "standard_deviation(col2)"
      ],
      "metadata": {
        "colab": {
          "base_uri": "https://localhost:8080/"
        },
        "id": "f8NGWbL4dvRu",
        "outputId": "278de3b6-6c1c-40e6-c7da-b28f249dadfd"
      },
      "execution_count": null,
      "outputs": [
        {
          "output_type": "execute_result",
          "data": {
            "text/plain": [
              "3.323777970924052"
            ]
          },
          "metadata": {},
          "execution_count": 33
        }
      ]
    },
    {
      "cell_type": "code",
      "source": [
        "standard_deviation(col3)"
      ],
      "metadata": {
        "colab": {
          "base_uri": "https://localhost:8080/"
        },
        "id": "1SJQCwnsdxzc",
        "outputId": "504681d9-39e0-45f0-b204-7150ef63496c"
      },
      "execution_count": null,
      "outputs": [
        {
          "output_type": "execute_result",
          "data": {
            "text/plain": [
              "9.304750654907417"
            ]
          },
          "metadata": {},
          "execution_count": 34
        }
      ]
    },
    {
      "cell_type": "markdown",
      "source": [
        "# 第２４章"
      ],
      "metadata": {
        "id": "Z18xfJDXd-K7"
      }
    },
    {
      "cell_type": "code",
      "source": [
        "# 共分散 = 偏差積の平均 （偏差値、ではありません。偏差積、です）を作ろう\n",
        "def covariance(list1, list2): \n",
        "    sum = 0\n",
        "    for x, y in zip(list1, list2):\n",
        "        sum += (x - mean(list1)) * (y - mean(list2))\n",
        "    return sum / len(list1)"
      ],
      "metadata": {
        "id": "h2qmYeSTd0R5"
      },
      "execution_count": null,
      "outputs": []
    },
    {
      "cell_type": "code",
      "source": [
        "covariance(col1, col2)"
      ],
      "metadata": {
        "colab": {
          "base_uri": "https://localhost:8080/"
        },
        "id": "iWFuNBmlebMd",
        "outputId": "c44b67d2-851d-42c8-afd5-a669460d30c7"
      },
      "execution_count": null,
      "outputs": [
        {
          "output_type": "execute_result",
          "data": {
            "text/plain": [
              "13690.29999999997"
            ]
          },
          "metadata": {},
          "execution_count": 36
        }
      ]
    },
    {
      "cell_type": "code",
      "source": [
        "covariance(col2, col3)"
      ],
      "metadata": {
        "colab": {
          "base_uri": "https://localhost:8080/"
        },
        "id": "kosfy2GOeuC3",
        "outputId": "fbd3a82d-add6-4315-ad69-92dfa905abf1"
      },
      "execution_count": null,
      "outputs": [
        {
          "output_type": "execute_result",
          "data": {
            "text/plain": [
              "8.563774999999998"
            ]
          },
          "metadata": {},
          "execution_count": 37
        }
      ]
    },
    {
      "cell_type": "code",
      "source": [
        "covariance(col3, col1)"
      ],
      "metadata": {
        "colab": {
          "base_uri": "https://localhost:8080/"
        },
        "id": "RQrdBrKOewUN",
        "outputId": "240543d3-38ba-405a-9fcf-c0411e883d4e"
      },
      "execution_count": null,
      "outputs": [
        {
          "output_type": "execute_result",
          "data": {
            "text/plain": [
              "250107.46700000003"
            ]
          },
          "metadata": {},
          "execution_count": 38
        }
      ]
    },
    {
      "cell_type": "markdown",
      "source": [
        "# 第２５章"
      ],
      "metadata": {
        "id": "2jX4YRV6fCoh"
      }
    },
    {
      "cell_type": "code",
      "source": [
        "# 相関係数 = 共分散を list1, list2 の標準偏差で割ったものを作ろう\n",
        "def correlation(list1, list2):\n",
        "    return covariance(list1, list2) / standard_deviation(list1) / standard_deviation(list2)"
      ],
      "metadata": {
        "id": "iaTvKbPLeymW"
      },
      "execution_count": null,
      "outputs": []
    },
    {
      "cell_type": "code",
      "source": [
        "correlation(col1, col2)"
      ],
      "metadata": {
        "colab": {
          "base_uri": "https://localhost:8080/"
        },
        "id": "R_GhszO0fULB",
        "outputId": "91681543-9e3a-43f3-8043-6fd29003f3df"
      },
      "execution_count": null,
      "outputs": [
        {
          "output_type": "execute_result",
          "data": {
            "text/plain": [
              "0.14405924658104977"
            ]
          },
          "metadata": {},
          "execution_count": 41
        }
      ]
    },
    {
      "cell_type": "code",
      "source": [
        "correlation(col2, col3)"
      ],
      "metadata": {
        "colab": {
          "base_uri": "https://localhost:8080/"
        },
        "id": "ZGUPjATLfhf6",
        "outputId": "db0b8d06-95b3-44b6-e6c9-2afc2123d0aa"
      },
      "execution_count": null,
      "outputs": [
        {
          "output_type": "execute_result",
          "data": {
            "text/plain": [
              "0.2769035372995268"
            ]
          },
          "metadata": {},
          "execution_count": 42
        }
      ]
    },
    {
      "cell_type": "code",
      "source": [
        "correlation(col3, col1)"
      ],
      "metadata": {
        "colab": {
          "base_uri": "https://localhost:8080/"
        },
        "id": "5MzLOrJNfjEy",
        "outputId": "3ccf2939-ef03-4968-a5c8-cd1b1273acce"
      },
      "execution_count": null,
      "outputs": [
        {
          "output_type": "execute_result",
          "data": {
            "text/plain": [
              "0.9401174143529429"
            ]
          },
          "metadata": {},
          "execution_count": 43
        }
      ]
    },
    {
      "cell_type": "markdown",
      "source": [
        "# 第２６章"
      ],
      "metadata": {
        "id": "z9Ywf1w_gq_J"
      }
    },
    {
      "cell_type": "code",
      "source": [
        "# 回帰直線の傾き＝相関係数＊（（yの標準偏差）／（xの標準偏差））を求める関数を作ろう\n",
        "def a_fit(xlist, ylist):\n",
        "    return correlation(xlist, ylist) * standard_deviation(ylist) / standard_deviation(xlist)"
      ],
      "metadata": {
        "id": "FnQ5Xx_5fkka"
      },
      "execution_count": null,
      "outputs": []
    },
    {
      "cell_type": "code",
      "source": [
        "a_fit(col3, col1)"
      ],
      "metadata": {
        "colab": {
          "base_uri": "https://localhost:8080/"
        },
        "id": "poYf9zSUg3-B",
        "outputId": "69fdf053-8b74-4cc2-d37e-a53c4bad3d0e"
      },
      "execution_count": null,
      "outputs": [
        {
          "output_type": "execute_result",
          "data": {
            "text/plain": [
              "2888.798026461218"
            ]
          },
          "metadata": {},
          "execution_count": 46
        }
      ]
    },
    {
      "cell_type": "code",
      "source": [
        "# y切片＝yの平均－（傾き＊xの平均）を求める関数を作ろう\n",
        "def b_fit(xlist, ylist):\n",
        "    return mean(ylist) - a_fit(xlist, ylist) * mean(xlist)"
      ],
      "metadata": {
        "id": "K-EWYXj7hSVE"
      },
      "execution_count": null,
      "outputs": []
    },
    {
      "cell_type": "code",
      "source": [
        "b_fit(col3, col1)"
      ],
      "metadata": {
        "colab": {
          "base_uri": "https://localhost:8080/"
        },
        "id": "MnubC2MXhhn7",
        "outputId": "5e6c1b73-f6e0-4f98-ace5-095b1d2c20e0"
      },
      "execution_count": null,
      "outputs": [
        {
          "output_type": "execute_result",
          "data": {
            "text/plain": [
              "28680.9745132604"
            ]
          },
          "metadata": {},
          "execution_count": 48
        }
      ]
    },
    {
      "cell_type": "code",
      "source": [
        "# 回帰直線の式を表示\n",
        "print(\"y = f(x) = {0} x + {1}\".format(a_fit(col3, col1), b_fit(col3, col1)))"
      ],
      "metadata": {
        "colab": {
          "base_uri": "https://localhost:8080/"
        },
        "id": "rnEFUDhXhlW_",
        "outputId": "0dcbefca-972f-439f-b197-956bb7347957"
      },
      "execution_count": null,
      "outputs": [
        {
          "output_type": "stream",
          "name": "stdout",
          "text": [
            "y = f(x) = 2888.798026461218 x + 28680.9745132604\n"
          ]
        }
      ]
    },
    {
      "cell_type": "code",
      "source": [
        "def f(x, xlist=col3, ylist=col1):\n",
        "    a = a_fit(xlist, ylist)\n",
        "    b = b_fit(xlist, ylist)\n",
        "    return a * x + b"
      ],
      "metadata": {
        "id": "V0a4IR9KiOBy"
      },
      "execution_count": null,
      "outputs": []
    },
    {
      "cell_type": "code",
      "source": [
        "f(10), f(60)"
      ],
      "metadata": {
        "colab": {
          "base_uri": "https://localhost:8080/"
        },
        "id": "f6PHFPd8ieEO",
        "outputId": "ebe92631-4133-4a04-dfb5-e365d668c7cc"
      },
      "execution_count": null,
      "outputs": [
        {
          "output_type": "execute_result",
          "data": {
            "text/plain": [
              "(57568.95477787258, 202008.85610093345)"
            ]
          },
          "metadata": {},
          "execution_count": 56
        }
      ]
    },
    {
      "cell_type": "code",
      "source": [
        "import matplotlib.pyplot as plt\n",
        "plt.scatter(col3, col1, alpha=0.5)\n",
        "plt.plot([10, 60], [f(10), f(60)])\n",
        "plt.show()"
      ],
      "metadata": {
        "colab": {
          "base_uri": "https://localhost:8080/",
          "height": 265
        },
        "id": "F4vQsHWgh0Tn",
        "outputId": "7906f983-ee14-4350-ca67-8c46906364bb"
      },
      "execution_count": null,
      "outputs": [
        {
          "output_type": "display_data",
          "data": {
            "text/plain": [
              "<Figure size 432x288 with 1 Axes>"
            ],
            "image/png": "[encoded data removed]"
          },
          "metadata": {
            "needs_background": "light"
          }
        }
      ]
    },
    {
      "cell_type": "code",
      "source": [
        "def mae(y_pred, y_observed):\n",
        "    sum = 0\n",
        "    for yp, yo in zip(y_pred, y_observed):\n",
        "        sum += abs(yp - yo)\n",
        "    return sum / len(y_pred)"
      ],
      "metadata": {
        "id": "J1B9oR8ZiHzY"
      },
      "execution_count": null,
      "outputs": []
    },
    {
      "cell_type": "code",
      "source": [
        "y_pred = [f(x) for x in col3]\n",
        "y_observed = col1"
      ],
      "metadata": {
        "id": "aWWigVfbjjfv"
      },
      "execution_count": null,
      "outputs": []
    },
    {
      "cell_type": "code",
      "source": [
        "mae(y_pred, y_observed)"
      ],
      "metadata": {
        "colab": {
          "base_uri": "https://localhost:8080/"
        },
        "id": "o8TlQpwgjs72",
        "outputId": "2a577acc-2a6b-42cf-a934-97a1fb5718c8"
      },
      "execution_count": null,
      "outputs": [
        {
          "output_type": "execute_result",
          "data": {
            "text/plain": [
              "7559.846683291236"
            ]
          },
          "metadata": {},
          "execution_count": 62
        }
      ]
    },
    {
      "cell_type": "code",
      "source": [
        "plt.scatter(y_observed, y_pred, alpha=0.5)\n",
        "plt.plot([50000, 200000], [50000, 200000])\n",
        "plt.show()"
      ],
      "metadata": {
        "colab": {
          "base_uri": "https://localhost:8080/",
          "height": 265
        },
        "id": "8io9FIRlj02l",
        "outputId": "d7b49ae0-ad3f-49cf-fd52-a60ced818f87"
      },
      "execution_count": null,
      "outputs": [
        {
          "output_type": "display_data",
          "data": {
            "text/plain": [
              "<Figure size 432x288 with 1 Axes>"
            ],
            "image/png": "[encoded data removed]"
          },
          "metadata": {
            "needs_background": "light"
          }
        }
      ]
    },
    {
      "cell_type": "markdown",
      "source": [
        "# 第２７章"
      ],
      "metadata": {
        "id": "EsfGAc-WlQcJ"
      }
    },
    {
      "cell_type": "code",
      "source": [
        "# b の影響を除いた、a と y の偏回帰係数 partial regression coefficient を求める関数を作ろう\n",
        "def partial_regression(B, A, Y):\n",
        "    bunshi = standard_deviation(Y) * (correlation(A, Y) - correlation(B, Y) * correlation(A, B))\n",
        "    bunbo = standard_deviation(A) * (1 - correlation(A, B)**2)\n",
        "    return bunshi / bunbo"
      ],
      "metadata": {
        "id": "nCRFmItlkQrR"
      },
      "execution_count": null,
      "outputs": []
    },
    {
      "cell_type": "code",
      "source": [
        "Y = col1\n",
        "X1 = col2\n",
        "X2 = col3\n",
        "w1 = partial_regression(X2, X1, Y)\n",
        "w2 = partial_regression(X1, X2, Y)\n",
        "t = mean(Y) - w1 * mean(X1) - w2 * mean(X2)"
      ],
      "metadata": {
        "id": "kuPszMsQmII5"
      },
      "execution_count": null,
      "outputs": []
    },
    {
      "cell_type": "code",
      "source": [
        "print(\"y = f(x) = {} X1 + {} X2 + {}\".format(w1, w2, t))"
      ],
      "metadata": {
        "colab": {
          "base_uri": "https://localhost:8080/"
        },
        "id": "caME9lGrmoed",
        "outputId": "a8a710c8-6377-4b95-dafb-5b152e42f5a7"
      },
      "execution_count": null,
      "outputs": [
        {
          "output_type": "stream",
          "name": "stdout",
          "text": [
            "y = f(x) = -1083.1621750931276 X1 + 2995.937437560108 X2 + 35676.70379040227\n"
          ]
        }
      ]
    },
    {
      "cell_type": "code",
      "source": [
        "def f(x1, x2, w1=w1, w2=w2, t=t):\n",
        "    return w1 * x1 + w2 * x2 + t"
      ],
      "metadata": {
        "id": "u-3UZI3hnDM_"
      },
      "execution_count": null,
      "outputs": []
    },
    {
      "cell_type": "code",
      "source": [
        "y_pred = [f(x1, x2) for x1, x2 in zip(X1, X2)]\n",
        "y_observed = Y"
      ],
      "metadata": {
        "id": "SntCZbknnn9L"
      },
      "execution_count": null,
      "outputs": []
    },
    {
      "cell_type": "code",
      "source": [
        "mae(y_pred, y_observed)"
      ],
      "metadata": {
        "colab": {
          "base_uri": "https://localhost:8080/"
        },
        "id": "9P7yNWfxnx8t",
        "outputId": "a25143db-e3dd-43f2-e39e-0256c3c78fee"
      },
      "execution_count": null,
      "outputs": [
        {
          "output_type": "execute_result",
          "data": {
            "text/plain": [
              "6996.016524275602"
            ]
          },
          "metadata": {},
          "execution_count": 76
        }
      ]
    },
    {
      "cell_type": "code",
      "source": [
        "plt.scatter(y_observed, y_pred, alpha=0.5)\n",
        "plt.plot([50000, 200000], [50000, 200000])\n",
        "plt.show()"
      ],
      "metadata": {
        "colab": {
          "base_uri": "https://localhost:8080/",
          "height": 265
        },
        "id": "KKlnWq8rn4AS",
        "outputId": "47f83709-10d8-47a5-9a46-13d8afbcb82d"
      },
      "execution_count": null,
      "outputs": [
        {
          "output_type": "display_data",
          "data": {
            "text/plain": [
              "<Figure size 432x288 with 1 Axes>"
            ],
            "image/png": "[encoded data removed]"
          },
          "metadata": {
            "needs_background": "light"
          }
        }
      ]
    },
    {
      "cell_type": "markdown",
      "source": [
        "# 課題２８"
      ],
      "metadata": {
        "id": "Hox0iGmNpo32"
      }
    },
    {
      "cell_type": "code",
      "source": [
        "import urllib.request\n",
        "url = 'https://raw.githubusercontent.com/maskot1977/toydata/main/data/infection_test.txt'\n",
        "urllib.request.urlretrieve(url, 'infection_test.txt') # データのダウンロード"
      ],
      "metadata": {
        "colab": {
          "base_uri": "https://localhost:8080/"
        },
        "id": "OSHBp8vxoumC",
        "outputId": "2be0dbd3-2e0b-4924-e9be-73360ffa4a39"
      },
      "execution_count": null,
      "outputs": [
        {
          "output_type": "execute_result",
          "data": {
            "text/plain": [
              "('infection_test.txt', <http.client.HTTPMessage at 0x7f57c71b1150>)"
            ]
          },
          "metadata": {},
          "execution_count": 78
        }
      ]
    },
    {
      "cell_type": "code",
      "source": [
        "infected = []\n",
        "not_infected = []\n",
        "for i, line in enumerate(open('infection_test.txt')):\n",
        "    if i > 0:\n",
        "        c = line.split(\",\")\n",
        "        if c[1][0] == \"I\":\n",
        "            infected.append(float(c[0]))\n",
        "        else:\n",
        "            not_infected.append(float(c[0]))"
      ],
      "metadata": {
        "id": "u6-SHZutpzAg"
      },
      "execution_count": null,
      "outputs": []
    },
    {
      "cell_type": "code",
      "source": [
        "import matplotlib.pyplot as plt\n",
        "plt.hist(infected, alpha=0.5, label=\"infected\")\n",
        "plt.hist(not_infected, alpha=0.5, label=\"not infected\")\n",
        "plt.legend()\n",
        "plt.show()"
      ],
      "metadata": {
        "colab": {
          "base_uri": "https://localhost:8080/",
          "height": 265
        },
        "id": "rASV1pIKp60M",
        "outputId": "0d55f0c9-2133-4c07-de34-4d916859d628"
      },
      "execution_count": null,
      "outputs": [
        {
          "output_type": "display_data",
          "data": {
            "text/plain": [
              "<Figure size 432x288 with 1 Axes>"
            ],
            "image/png": "[encoded data removed]"
          },
          "metadata": {
            "needs_background": "light"
          }
        }
      ]
    },
    {
      "cell_type": "code",
      "source": [
        "TP = 0\n",
        "FN = 0\n",
        "FP = 0\n",
        "TN = 0\n",
        "threshold = 5.0\n",
        "\n",
        "for x in infected:\n",
        "    if x > threshold:\n",
        "        TP += 1\n",
        "    else:\n",
        "        FN += 1\n",
        "\n",
        "for x in not_infected:\n",
        "    if x > threshold:\n",
        "        FP += 1\n",
        "    else:\n",
        "        TN += 1\n",
        "\n",
        "confusion_matrix = [[TP, FN], [FP, TN]]"
      ],
      "metadata": {
        "id": "d14fPpYFq5wt"
      },
      "execution_count": null,
      "outputs": []
    },
    {
      "cell_type": "code",
      "source": [
        "confusion_matrix"
      ],
      "metadata": {
        "colab": {
          "base_uri": "https://localhost:8080/"
        },
        "id": "ngp6ABYrscz_",
        "outputId": "cd4c8690-bfe9-4628-bda0-2ec21feab368"
      },
      "execution_count": null,
      "outputs": [
        {
          "output_type": "execute_result",
          "data": {
            "text/plain": [
              "[[82, 26], [10, 382]]"
            ]
          },
          "metadata": {},
          "execution_count": 92
        }
      ]
    },
    {
      "cell_type": "code",
      "source": [],
      "metadata": {
        "id": "o_WJsqknsd7A"
      },
      "execution_count": null,
      "outputs": []
    }
  ]
}