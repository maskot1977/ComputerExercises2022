{
  "nbformat": 4,
  "nbformat_minor": 0,
  "metadata": {
    "colab": {
      "provenance": [],
      "authorship_tag": "ABX9TyN9kQIYiA/srcHq3PjUPqy8",
      "include_colab_link": true
    },
    "kernelspec": {
      "name": "python3",
      "display_name": "Python 3"
    },
    "language_info": {
      "name": "python"
    }
  },
  "cells": [
    {
      "cell_type": "markdown",
      "metadata": {
        "id": "view-in-github",
        "colab_type": "text"
      },
      "source": [
        "<a href=\"https://colab.research.google.com/github/maskot1977/ComputerExercises2022/blob/CE9wQaWrwGFL/12%E6%9C%8820%E6%97%A5%E8%AC%9B%E7%BE%A9%E5%88%86.ipynb\" target=\"_parent\"><img src=\"https://colab.research.google.com/assets/colab-badge.svg\" alt=\"Open In Colab\"/></a>"
      ]
    },
    {
      "cell_type": "markdown",
      "source": [
        "# 第76章：Adamによる多項式近似"
      ],
      "metadata": {
        "id": "bLcg7fn_sSOd"
      }
    },
    {
      "cell_type": "code",
      "execution_count": null,
      "metadata": {
        "id": "RajrVb5ssOQo"
      },
      "outputs": [],
      "source": [
        "import numpy as np\n",
        "import matplotlib.pyplot as plt\n",
        "\n",
        "def heatmap(f, x_min=-12, x_max=12, y_min=-12, y_max=12, h=0.1, drawline=False, cmap=plt.cm.jet):\n",
        "    x_mg, y_mg = np.meshgrid(np.arange(x_min, x_max, h), np.arange(y_min, y_max, h))\n",
        "    Z = [[f([x, y]) for x, y in zip(xx, yy)] for xx, yy in zip(x_mg,y_mg)]\n",
        "    plt.axes().set_aspect('equal')\n",
        "    #plt.contourf(x_mg, y_mg, Z, cmap=cmap)\n",
        "    plt.imshow(Z, origin='lower', extent=[x_min, x_max, y_min, y_max], cmap=cmap)\n",
        "    plt.colorbar()\n",
        "    if drawline:\n",
        "        plt.contour(x_mg, y_mg, Z, colors='black')\n",
        "    plt.grid()\n",
        "    #plt.show()"
      ]
    },
    {
      "cell_type": "code",
      "source": [
        "def adam(f, x0, lr=1e-2, beta1=0.9, beta2=0.999, step_num=500, h=1e-4, epsilon=1e-8):\n",
        "    grad_history = []\n",
        "    x_history = []\n",
        "    v_history = []\n",
        "    m_history = []\n",
        "    x = x0\n",
        "    v = np.zeros_like(x0)\n",
        "    m = np.zeros_like(x0)\n",
        "    for t in range(step_num):\n",
        "        grad = numeric_differentiation(f, x, h=h)\n",
        "        x_history.append(x)\n",
        "        v_history.append(v)\n",
        "        m_history.append(m)\n",
        "        m = m + (1-beta1) * (grad - m)\n",
        "        v = v + (1-beta2) * (grad**2 - v)\n",
        "        lr_t = lr * (1 - beta2**(t+2))**0.5 /(1 - beta1**(t+2))\n",
        "        x = x - lr_t * m / (np.abs(v) + epsilon)**0.5\n",
        "    \n",
        "    return x_history, grad_history, v_history, m_history"
      ],
      "metadata": {
        "id": "ATyKDhd4sTCP"
      },
      "execution_count": null,
      "outputs": []
    },
    {
      "cell_type": "code",
      "source": [
        "def numeric_differentiation(f, x, h=1e-4):\n",
        "    grad = np.zeros_like(x)\n",
        "    for i in range(len(x)):\n",
        "        tmp = x[i]\n",
        "\n",
        "        # f(x+h)\n",
        "        x[i] = tmp + h\n",
        "        fxh1 = f(x)\n",
        "\n",
        "        # f(x-h)\n",
        "        x[i] = tmp - h\n",
        "        fxh2 = f(x)\n",
        "\n",
        "        grad[i] = (fxh1 - fxh2) / (2*h)\n",
        "        x[i] = tmp\n",
        "\n",
        "    return grad"
      ],
      "metadata": {
        "id": "a-fBs_9GvN-2"
      },
      "execution_count": null,
      "outputs": []
    },
    {
      "cell_type": "code",
      "source": [
        "X = [-10,  -8,  -6,  -4,  -2,   0,   2,   4,   6,   8,  10]\n",
        "Y_observed = [1.12, 0.28, -0.18, -0.27, -0.13, 0.21, 0.36, 0.49, 0.42, -0.05, -0.85]"
      ],
      "metadata": {
        "id": "AQqZ_tM_vj-L"
      },
      "execution_count": null,
      "outputs": []
    },
    {
      "cell_type": "code",
      "source": [
        "import matplotlib.pyplot as plt\n",
        "\n",
        "plt.scatter(X, Y_observed)"
      ],
      "metadata": {
        "colab": {
          "base_uri": "https://localhost:8080/",
          "height": 283
        },
        "id": "aK7Hkh-RwCHH",
        "outputId": "e5912b43-2385-4218-9722-a99a0605702e"
      },
      "execution_count": null,
      "outputs": [
        {
          "output_type": "execute_result",
          "data": {
            "text/plain": [
              "<matplotlib.collections.PathCollection at 0x7f6d7b0356a0>"
            ]
          },
          "metadata": {},
          "execution_count": 6
        },
        {
          "output_type": "display_data",
          "data": {
            "text/plain": [
              "<Figure size 432x288 with 1 Axes>"
            ],
            "image/png": "[encoded data removed]"
          },
          "metadata": {
            "needs_background": "light"
          }
        }
      ]
    },
    {
      "cell_type": "code",
      "source": [
        "class Polynominal:\n",
        "    def __init__(self, x_observed, y_observed):\n",
        "        self.x_observed = x_observed\n",
        "        self.y_observed = y_observed\n",
        "        self.coeff = None\n",
        "\n",
        "    def predict(self, x_latent):\n",
        "        y = 0\n",
        "        for i in range(len(self.coeff)):\n",
        "            y += self.coeff[i] * x_latent ** i\n",
        "        return y\n",
        "\n",
        "    def mean_squared_error(self, y, t):\n",
        "        return 0.5 * np.sum((y - t)**2)\n",
        "\n",
        "    def __call__(self, w):\n",
        "        self.coeff = w\n",
        "        y_pred = self.predict(self.x_observed)\n",
        "        return self.mean_squared_error(self.y_observed, y_pred)"
      ],
      "metadata": {
        "id": "XwGSt6N5vU5f"
      },
      "execution_count": null,
      "outputs": []
    },
    {
      "cell_type": "code",
      "source": [
        "X = np.array(X)\n",
        "Y_observed = np.array(Y_observed)\n",
        "objective = Polynominal(X, Y_observed) # __init__が呼び出される"
      ],
      "metadata": {
        "id": "iBGoMc2YwIID"
      },
      "execution_count": null,
      "outputs": []
    },
    {
      "cell_type": "code",
      "source": [
        "objective([5, -5]) # __call__ が呼び出される"
      ],
      "metadata": {
        "colab": {
          "base_uri": "https://localhost:8080/"
        },
        "id": "SBhefwgoxFvG",
        "outputId": "540711e5-2464-4b9e-c3b7-1250a8672e34"
      },
      "execution_count": null,
      "outputs": [
        {
          "output_type": "execute_result",
          "data": {
            "text/plain": [
              "5558.2851"
            ]
          },
          "metadata": {},
          "execution_count": 15
        }
      ]
    },
    {
      "cell_type": "code",
      "source": [
        "objective([5, -5, 3]) # __call__ が呼び出される"
      ],
      "metadata": {
        "colab": {
          "base_uri": "https://localhost:8080/"
        },
        "id": "7Sb-iNTBx4js",
        "outputId": "96cc2cf5-fa56-4682-888d-71ac428c600b"
      },
      "execution_count": null,
      "outputs": [
        {
          "output_type": "execute_result",
          "data": {
            "text/plain": [
              "152969.8851"
            ]
          },
          "metadata": {},
          "execution_count": 16
        }
      ]
    },
    {
      "cell_type": "code",
      "source": [
        "heatmap(objective)"
      ],
      "metadata": {
        "colab": {
          "base_uri": "https://localhost:8080/",
          "height": 265
        },
        "id": "hUhv2A0DyVYq",
        "outputId": "a10675a8-5438-4df3-8198-251b5bd60fb3"
      },
      "execution_count": null,
      "outputs": [
        {
          "output_type": "display_data",
          "data": {
            "text/plain": [
              "<Figure size 432x288 with 2 Axes>"
            ],
            "image/png": "[encoded data removed]"
          },
          "metadata": {
            "needs_background": "light"
          }
        }
      ]
    },
    {
      "cell_type": "code",
      "source": [
        "X = np.array(X)\n",
        "Y_observed = np.array(Y_observed)\n",
        "objective = Polynominal(X, Y_observed) # __init__が呼び出される\n",
        "histories = adam(objective, np.random.rand(4), step_num=20000)"
      ],
      "metadata": {
        "id": "9toIbmlHw06E"
      },
      "execution_count": null,
      "outputs": []
    },
    {
      "cell_type": "code",
      "source": [
        "plt.plot(histories[0])"
      ],
      "metadata": {
        "colab": {
          "base_uri": "https://localhost:8080/",
          "height": 342
        },
        "id": "D-4TTgAxzAbo",
        "outputId": "633ec92a-f17b-4682-baf4-be7466f9a9f5"
      },
      "execution_count": null,
      "outputs": [
        {
          "output_type": "execute_result",
          "data": {
            "text/plain": [
              "[<matplotlib.lines.Line2D at 0x7f6d7a808df0>,\n",
              " <matplotlib.lines.Line2D at 0x7f6d7a808f40>,\n",
              " <matplotlib.lines.Line2D at 0x7f6d7a808fa0>,\n",
              " <matplotlib.lines.Line2D at 0x7f6d7a825100>]"
            ]
          },
          "metadata": {},
          "execution_count": 21
        },
        {
          "output_type": "display_data",
          "data": {
            "text/plain": [
              "<Figure size 432x288 with 1 Axes>"
            ],
            "image/png": "[encoded data removed]"
          },
          "metadata": {
            "needs_background": "light"
          }
        }
      ]
    },
    {
      "cell_type": "code",
      "source": [
        "objective.coeff"
      ],
      "metadata": {
        "colab": {
          "base_uri": "https://localhost:8080/"
        },
        "id": "kBtiF8XOzdkI",
        "outputId": "44a45979-c139-464d-9b20-a033c3088cf1"
      },
      "execution_count": null,
      "outputs": [
        {
          "output_type": "execute_result",
          "data": {
            "text/plain": [
              "array([ 1.30768133e-01,  1.30192128e-01, -8.85107565e-05, -2.30253033e-03])"
            ]
          },
          "metadata": {},
          "execution_count": 22
        }
      ]
    },
    {
      "cell_type": "code",
      "source": [
        "import matplotlib.pyplot as plt\n",
        "\n",
        "x_latent = np.linspace(-10, 10, 101)\n",
        "\n",
        "plt.scatter(X, Y_observed)\n",
        "plt.plot(x_latent, objective.predict(x_latent))"
      ],
      "metadata": {
        "colab": {
          "base_uri": "https://localhost:8080/",
          "height": 283
        },
        "id": "r1yL7JPDz0_L",
        "outputId": "57d262e7-026d-4945-bcd8-331ad186cbcd"
      },
      "execution_count": null,
      "outputs": [
        {
          "output_type": "execute_result",
          "data": {
            "text/plain": [
              "[<matplotlib.lines.Line2D at 0x7f6d70bd10a0>]"
            ]
          },
          "metadata": {},
          "execution_count": 23
        },
        {
          "output_type": "display_data",
          "data": {
            "text/plain": [
              "<Figure size 432x288 with 1 Axes>"
            ],
            "image/png": "[encoded data removed]"
          },
          "metadata": {
            "needs_background": "light"
          }
        }
      ]
    },
    {
      "cell_type": "code",
      "source": [
        "X = np.array(X)\n",
        "Y_observed = np.array(Y_observed)\n",
        "objective = Polynominal(X, Y_observed) # __init__が呼び出される\n",
        "histories = adam(objective, np.random.rand(2), step_num=20000)"
      ],
      "metadata": {
        "id": "RrbTe2hm0L4A"
      },
      "execution_count": null,
      "outputs": []
    },
    {
      "cell_type": "code",
      "source": [
        "plt.plot(histories[0])"
      ],
      "metadata": {
        "colab": {
          "base_uri": "https://localhost:8080/",
          "height": 301
        },
        "id": "hZD5f-oN0qz9",
        "outputId": "3d9f7fed-5208-4507-a68c-b3d60ef9d9ec"
      },
      "execution_count": null,
      "outputs": [
        {
          "output_type": "execute_result",
          "data": {
            "text/plain": [
              "[<matplotlib.lines.Line2D at 0x7f6d71186160>,\n",
              " <matplotlib.lines.Line2D at 0x7f6d711862b0>]"
            ]
          },
          "metadata": {},
          "execution_count": 25
        },
        {
          "output_type": "display_data",
          "data": {
            "text/plain": [
              "<Figure size 432x288 with 1 Axes>"
            ],
            "image/png": "[encoded data removed]"
          },
          "metadata": {
            "needs_background": "light"
          }
        }
      ]
    },
    {
      "cell_type": "code",
      "source": [
        "import matplotlib.pyplot as plt\n",
        "\n",
        "x_latent = np.linspace(-10, 10, 101)\n",
        "\n",
        "plt.scatter(X, Y_observed)\n",
        "plt.plot(x_latent, objective.predict(x_latent))"
      ],
      "metadata": {
        "colab": {
          "base_uri": "https://localhost:8080/",
          "height": 283
        },
        "id": "x4M1Fixu0uER",
        "outputId": "a0417789-88d7-40d9-9883-f4f59431522d"
      },
      "execution_count": null,
      "outputs": [
        {
          "output_type": "execute_result",
          "data": {
            "text/plain": [
              "[<matplotlib.lines.Line2D at 0x7f6d7114eac0>]"
            ]
          },
          "metadata": {},
          "execution_count": 26
        },
        {
          "output_type": "display_data",
          "data": {
            "text/plain": [
              "<Figure size 432x288 with 1 Axes>"
            ],
            "image/png": "[encoded data removed]"
          },
          "metadata": {
            "needs_background": "light"
          }
        }
      ]
    },
    {
      "cell_type": "markdown",
      "source": [
        "# 第77章：Adamによる線形回帰"
      ],
      "metadata": {
        "id": "UQd3xKv81z-0"
      }
    },
    {
      "cell_type": "code",
      "source": [
        "data1 = [\n",
        " [3.41, 1.83], [1.58, 1.81], [3.35, 2.20], [1.92, 1.41], [1.72, 1.62],\n",
        " [3.44, 1.40], [3.52, 1.88], [1.65, 1.24], [2.82, 1.04], [1.87, 1.14],\n",
        " [2.78, 0.94], [2.52, 1.14], [2.64, 1.07], [1.51, 1.64], [1.43, 1.86],\n",
        " [3.09, 1.38], [2.49, 0.85], [3.21, 1.35], [2.17, 1.24], [2.91, 1.21]\n",
        "]\n",
        "target1 = [\n",
        " 4.15, 0.50, 3.94, 1.56, 0.96,\n",
        " 4.61, 4.34, 1.15, 3.55, 1.63,\n",
        " 3.45, 2.93, 3.19, 0.52, 0.17,\n",
        " 3.93, 2.82, 4.19, 2.19, 3.69\n",
        "]"
      ],
      "metadata": {
        "id": "l8pmvojk0xgB"
      },
      "execution_count": null,
      "outputs": []
    },
    {
      "cell_type": "code",
      "source": [
        "data2 = [\n",
        " [1.43, 2.49], [1.94, 2.50], [2.22, 2.22], [2.33, 2.11], [1.74, 2.30],\n",
        " [0.40, 1.53], [1.19, 2.34], [0.46, 1.52], [0.69, 2.17], [0.91, 2.35],\n",
        " [2.31, 2.21], [2.61, 1.66], [0.77, 2.10], [0.44, 1.65], [2.00, 2.35],\n",
        " [2.42, 1.57], [1.77, 2.50], [2.30, 1.84], [0.86, 2.16], [1.19, 2.47]\n",
        "]\n",
        "target2 = [\n",
        " 8.47, 9.49, 9.46, 9.41, 8.06,\n",
        " 5.45, 8.13, 5.52, 8.24, 8.71,\n",
        " 9.75, 8.24, 7.90, 6.00, 9.12,\n",
        " 7.52, 8.94, 8.23, 8.03, 8.65\n",
        "]"
      ],
      "metadata": {
        "id": "mgjmzEY-2CLG"
      },
      "execution_count": null,
      "outputs": []
    },
    {
      "cell_type": "code",
      "source": [
        "class LinearRegression:\n",
        "    def __init__(self, x_observed, y_observed):\n",
        "        self.x_observed = x_observed\n",
        "        self.y_observed = y_observed\n",
        "        self.coeff = None\n",
        "\n",
        "    def predict(self, x_latent):\n",
        "        y = self.coeff[0] + x_latent @ self.coeff[1:]\n",
        "        return y\n",
        "\n",
        "    def mean_squared_error(self, y, t):\n",
        "        return 0.5 * np.sum((y - t)**2)\n",
        "\n",
        "    def __call__(self, w):\n",
        "        self.coeff = w\n",
        "        y_pred = self.predict(self.x_observed)\n",
        "        return self.mean_squared_error(self.y_observed, y_pred)"
      ],
      "metadata": {
        "id": "Ji13RV0b2D8G"
      },
      "execution_count": null,
      "outputs": []
    },
    {
      "cell_type": "code",
      "source": [
        "X = np.array(data1)\n",
        "Y = np.array(target1)\n",
        "objective = LinearRegression(X, Y)\n",
        "histories = adam(objective, np.random.rand(3), step_num=20000)"
      ],
      "metadata": {
        "id": "3_Z2gDMq2KAS"
      },
      "execution_count": null,
      "outputs": []
    },
    {
      "cell_type": "code",
      "source": [
        "plt.plot(histories[0])"
      ],
      "metadata": {
        "colab": {
          "base_uri": "https://localhost:8080/",
          "height": 319
        },
        "id": "E5ClbbhS3IPz",
        "outputId": "47540a62-bd77-4625-f84a-0d00f597404c"
      },
      "execution_count": null,
      "outputs": [
        {
          "output_type": "execute_result",
          "data": {
            "text/plain": [
              "[<matplotlib.lines.Line2D at 0x7f6d70b03610>,\n",
              " <matplotlib.lines.Line2D at 0x7f6d70b03760>,\n",
              " <matplotlib.lines.Line2D at 0x7f6d70b03820>]"
            ]
          },
          "metadata": {},
          "execution_count": 32
        },
        {
          "output_type": "display_data",
          "data": {
            "text/plain": [
              "<Figure size 432x288 with 1 Axes>"
            ],
            "image/png": "[encoded data removed]"
          },
          "metadata": {
            "needs_background": "light"
          }
        }
      ]
    },
    {
      "cell_type": "code",
      "source": [
        "plt.scatter(objective.predict(X), Y) # 実測値・予測値プロット\n",
        "plt.plot([0, 5], [0, 5])"
      ],
      "metadata": {
        "colab": {
          "base_uri": "https://localhost:8080/",
          "height": 283
        },
        "id": "iEIyvY6P3SWt",
        "outputId": "846ad58c-51f2-45e9-e1b1-a1faed1cca44"
      },
      "execution_count": null,
      "outputs": [
        {
          "output_type": "execute_result",
          "data": {
            "text/plain": [
              "[<matplotlib.lines.Line2D at 0x7f6d70ade970>]"
            ]
          },
          "metadata": {},
          "execution_count": 34
        },
        {
          "output_type": "display_data",
          "data": {
            "text/plain": [
              "<Figure size 432x288 with 1 Axes>"
            ],
            "image/png": "[encoded data removed]"
          },
          "metadata": {
            "needs_background": "light"
          }
        }
      ]
    },
    {
      "cell_type": "code",
      "source": [
        "plt.scatter(objective.predict(np.array(data2)), np.array(target2)) # 実測値・予測値プロット\n",
        "plt.plot([0, 5], [0, 5])"
      ],
      "metadata": {
        "colab": {
          "base_uri": "https://localhost:8080/",
          "height": 283
        },
        "id": "Ihbw_ZuZ3itN",
        "outputId": "ab2d8c90-96b3-4d4c-da06-589da768c03c"
      },
      "execution_count": null,
      "outputs": [
        {
          "output_type": "execute_result",
          "data": {
            "text/plain": [
              "[<matplotlib.lines.Line2D at 0x7f6d70567940>]"
            ]
          },
          "metadata": {},
          "execution_count": 35
        },
        {
          "output_type": "display_data",
          "data": {
            "text/plain": [
              "<Figure size 432x288 with 1 Axes>"
            ],
            "image/png": "[encoded data removed]"
          },
          "metadata": {
            "needs_background": "light"
          }
        }
      ]
    },
    {
      "cell_type": "markdown",
      "source": [
        "# 第78章：Adamによるロジスティック回帰（１変数）"
      ],
      "metadata": {
        "id": "YEOlQnqP4lj9"
      }
    },
    {
      "cell_type": "code",
      "source": [
        "!wget https://raw.githubusercontent.com/maskot1977/toydata/main/data/infection_test.txt "
      ],
      "metadata": {
        "colab": {
          "base_uri": "https://localhost:8080/"
        },
        "id": "6hzhDOpn33mW",
        "outputId": "e1aebd54-b69b-40f8-fae2-48b351857cc7"
      },
      "execution_count": null,
      "outputs": [
        {
          "output_type": "stream",
          "name": "stdout",
          "text": [
            "--2022-12-20 00:17:26--  https://raw.githubusercontent.com/maskot1977/toydata/main/data/infection_test.txt\n",
            "Resolving raw.githubusercontent.com (raw.githubusercontent.com)... 185.199.110.133, 185.199.108.133, 185.199.111.133, ...\n",
            "Connecting to raw.githubusercontent.com (raw.githubusercontent.com)|185.199.110.133|:443... connected.\n",
            "HTTP request sent, awaiting response... 200 OK\n",
            "Length: 8698 (8.5K) [text/plain]\n",
            "Saving to: ‘infection_test.txt’\n",
            "\n",
            "\rinfection_test.txt    0%[                    ]       0  --.-KB/s               \rinfection_test.txt  100%[===================>]   8.49K  --.-KB/s    in 0s      \n",
            "\n",
            "2022-12-20 00:17:26 (52.4 MB/s) - ‘infection_test.txt’ saved [8698/8698]\n",
            "\n"
          ]
        }
      ]
    },
    {
      "cell_type": "code",
      "source": [
        "import pandas as pd\n",
        "\n",
        "df = pd.read_csv(\"infection_test.txt\")\n",
        "df"
      ],
      "metadata": {
        "colab": {
          "base_uri": "https://localhost:8080/",
          "height": 424
        },
        "id": "P78Md3Gd5GwE",
        "outputId": "c44fdb46-7393-4021-ed45-de67fcc7379e"
      },
      "execution_count": null,
      "outputs": [
        {
          "output_type": "execute_result",
          "data": {
            "text/plain": [
              "     Measurements     Symptoms\n",
              "0           6.549     Infected\n",
              "1           6.520     Infected\n",
              "2           7.267     Infected\n",
              "3           4.675     Infected\n",
              "4           8.494     Infected\n",
              "..            ...          ...\n",
              "495         4.338  NotInfected\n",
              "496         2.233  NotInfected\n",
              "497         2.970  NotInfected\n",
              "498         3.460  NotInfected\n",
              "499         2.320  NotInfected\n",
              "\n",
              "[500 rows x 2 columns]"
            ],
            "text/html": [
              "\n",
              "  <div id=\"df-683d2dba-5dc3-4a0d-ab00-1f6b69ea5b60\">\n",
              "    <div class=\"colab-df-container\">\n",
              "      <div>\n",
              "<style scoped>\n",
              "    .dataframe tbody tr th:only-of-type {\n",
              "        vertical-align: middle;\n",
              "    }\n",
              "\n",
              "    .dataframe tbody tr th {\n",
              "        vertical-align: top;\n",
              "    }\n",
              "\n",
              "    .dataframe thead th {\n",
              "        text-align: right;\n",
              "    }\n",
              "</style>\n",
              "<table border=\"1\" class=\"dataframe\">\n",
              "  <thead>\n",
              "    <tr style=\"text-align: right;\">\n",
              "      <th></th>\n",
              "      <th>Measurements</th>\n",
              "      <th>Symptoms</th>\n",
              "    </tr>\n",
              "  </thead>\n",
              "  <tbody>\n",
              "    <tr>\n",
              "      <th>0</th>\n",
              "      <td>6.549</td>\n",
              "      <td>Infected</td>\n",
              "    </tr>\n",
              "    <tr>\n",
              "      <th>1</th>\n",
              "      <td>6.520</td>\n",
              "      <td>Infected</td>\n",
              "    </tr>\n",
              "    <tr>\n",
              "      <th>2</th>\n",
              "      <td>7.267</td>\n",
              "      <td>Infected</td>\n",
              "    </tr>\n",
              "    <tr>\n",
              "      <th>3</th>\n",
              "      <td>4.675</td>\n",
              "      <td>Infected</td>\n",
              "    </tr>\n",
              "    <tr>\n",
              "      <th>4</th>\n",
              "      <td>8.494</td>\n",
              "      <td>Infected</td>\n",
              "    </tr>\n",
              "    <tr>\n",
              "      <th>...</th>\n",
              "      <td>...</td>\n",
              "      <td>...</td>\n",
              "    </tr>\n",
              "    <tr>\n",
              "      <th>495</th>\n",
              "      <td>4.338</td>\n",
              "      <td>NotInfected</td>\n",
              "    </tr>\n",
              "    <tr>\n",
              "      <th>496</th>\n",
              "      <td>2.233</td>\n",
              "      <td>NotInfected</td>\n",
              "    </tr>\n",
              "    <tr>\n",
              "      <th>497</th>\n",
              "      <td>2.970</td>\n",
              "      <td>NotInfected</td>\n",
              "    </tr>\n",
              "    <tr>\n",
              "      <th>498</th>\n",
              "      <td>3.460</td>\n",
              "      <td>NotInfected</td>\n",
              "    </tr>\n",
              "    <tr>\n",
              "      <th>499</th>\n",
              "      <td>2.320</td>\n",
              "      <td>NotInfected</td>\n",
              "    </tr>\n",
              "  </tbody>\n",
              "</table>\n",
              "<p>500 rows × 2 columns</p>\n",
              "</div>\n",
              "      <button class=\"colab-df-convert\" onclick=\"convertToInteractive('df-683d2dba-5dc3-4a0d-ab00-1f6b69ea5b60')\"\n",
              "              title=\"Convert this dataframe to an interactive table.\"\n",
              "              style=\"display:none;\">\n",
              "        \n",
              "  <svg xmlns=\"http://www.w3.org/2000/svg\" height=\"24px\"viewBox=\"0 0 24 24\"\n",
              "       width=\"24px\">\n",
              "    <path d=\"M0 0h24v24H0V0z\" fill=\"none\"/>\n",
              "    <path d=\"M18.56 5.44l.94 2.06.94-2.06 2.06-.94-2.06-.94-.94-2.06-.94 2.06-2.06.94zm-11 1L8.5 8.5l.94-2.06 2.06-.94-2.06-.94L8.5 2.5l-.94 2.06-2.06.94zm10 10l.94 2.06.94-2.06 2.06-.94-2.06-.94-.94-2.06-.94 2.06-2.06.94z\"/><path d=\"M17.41 7.96l-1.37-1.37c-.4-.4-.92-.59-1.43-.59-.52 0-1.04.2-1.43.59L10.3 9.45l-7.72 7.72c-.78.78-.78 2.05 0 2.83L4 21.41c.39.39.9.59 1.41.59.51 0 1.02-.2 1.41-.59l7.78-7.78 2.81-2.81c.8-.78.8-2.07 0-2.86zM5.41 20L4 18.59l7.72-7.72 1.47 1.35L5.41 20z\"/>\n",
              "  </svg>\n",
              "      </button>\n",
              "      \n",
              "  <style>\n",
              "    .colab-df-container {\n",
              "      display:flex;\n",
              "      flex-wrap:wrap;\n",
              "      gap: 12px;\n",
              "    }\n",
              "\n",
              "    .colab-df-convert {\n",
              "      background-color: #E8F0FE;\n",
              "      border: none;\n",
              "      border-radius: 50%;\n",
              "      cursor: pointer;\n",
              "      display: none;\n",
              "      fill: #1967D2;\n",
              "      height: 32px;\n",
              "      padding: 0 0 0 0;\n",
              "      width: 32px;\n",
              "    }\n",
              "\n",
              "    .colab-df-convert:hover {\n",
              "      background-color: #E2EBFA;\n",
              "      box-shadow: 0px 1px 2px rgba(60, 64, 67, 0.3), 0px 1px 3px 1px rgba(60, 64, 67, 0.15);\n",
              "      fill: #174EA6;\n",
              "    }\n",
              "\n",
              "    [theme=dark] .colab-df-convert {\n",
              "      background-color: #3B4455;\n",
              "      fill: #D2E3FC;\n",
              "    }\n",
              "\n",
              "    [theme=dark] .colab-df-convert:hover {\n",
              "      background-color: #434B5C;\n",
              "      box-shadow: 0px 1px 3px 1px rgba(0, 0, 0, 0.15);\n",
              "      filter: drop-shadow(0px 1px 2px rgba(0, 0, 0, 0.3));\n",
              "      fill: #FFFFFF;\n",
              "    }\n",
              "  </style>\n",
              "\n",
              "      <script>\n",
              "        const buttonEl =\n",
              "          document.querySelector('#df-683d2dba-5dc3-4a0d-ab00-1f6b69ea5b60 button.colab-df-convert');\n",
              "        buttonEl.style.display =\n",
              "          google.colab.kernel.accessAllowed ? 'block' : 'none';\n",
              "\n",
              "        async function convertToInteractive(key) {\n",
              "          const element = document.querySelector('#df-683d2dba-5dc3-4a0d-ab00-1f6b69ea5b60');\n",
              "          const dataTable =\n",
              "            await google.colab.kernel.invokeFunction('convertToInteractive',\n",
              "                                                     [key], {});\n",
              "          if (!dataTable) return;\n",
              "\n",
              "          const docLinkHtml = 'Like what you see? Visit the ' +\n",
              "            '<a target=\"_blank\" href=https://colab.research.google.com/notebooks/data_table.ipynb>data table notebook</a>'\n",
              "            + ' to learn more about interactive tables.';\n",
              "          element.innerHTML = '';\n",
              "          dataTable['output_type'] = 'display_data';\n",
              "          await google.colab.output.renderOutput(dataTable, element);\n",
              "          const docLink = document.createElement('div');\n",
              "          docLink.innerHTML = docLinkHtml;\n",
              "          element.appendChild(docLink);\n",
              "        }\n",
              "      </script>\n",
              "    </div>\n",
              "  </div>\n",
              "  "
            ]
          },
          "metadata": {},
          "execution_count": 37
        }
      ]
    },
    {
      "cell_type": "code",
      "source": [
        "infected = []\n",
        "not_infected = []\n",
        "for m, s in df.values:\n",
        "    if s == 'Infected':\n",
        "        infected.append(m)\n",
        "    else:\n",
        "        not_infected.append(m)"
      ],
      "metadata": {
        "id": "2alzinYf5X-_"
      },
      "execution_count": null,
      "outputs": []
    },
    {
      "cell_type": "code",
      "source": [
        "import matplotlib.pyplot as plt\n",
        "plt.hist(infected, alpha=0.5, label=\"infected\")\n",
        "plt.hist(not_infected, alpha=0.5, label=\"not infected\")\n",
        "plt.legend()\n",
        "plt.show()"
      ],
      "metadata": {
        "colab": {
          "base_uri": "https://localhost:8080/",
          "height": 265
        },
        "id": "ooFX9B9M5m6h",
        "outputId": "38b0bba7-1744-4446-96a4-fe617a9b3efa"
      },
      "execution_count": null,
      "outputs": [
        {
          "output_type": "display_data",
          "data": {
            "text/plain": [
              "<Figure size 432x288 with 1 Axes>"
            ],
            "image/png": "[encoded data removed]"
          },
          "metadata": {
            "needs_background": "light"
          }
        }
      ]
    },
    {
      "cell_type": "code",
      "source": [
        "y1 = [1 for _ in infected]\n",
        "y2 = [0 for _ in not_infected]\n",
        "Y = np.array(y1 + y2)\n",
        "Y"
      ],
      "metadata": {
        "colab": {
          "base_uri": "https://localhost:8080/"
        },
        "id": "e0NT2VU86Hz9",
        "outputId": "1cd8f960-f5b9-4e85-d0d5-3afbc7e2a3dd"
      },
      "execution_count": null,
      "outputs": [
        {
          "output_type": "execute_result",
          "data": {
            "text/plain": [
              "array([1, 1, 1, 1, 1, 1, 1, 1, 1, 1, 1, 1, 1, 1, 1, 1, 1, 1, 1, 1, 1, 1,\n",
              "       1, 1, 1, 1, 1, 1, 1, 1, 1, 1, 1, 1, 1, 1, 1, 1, 1, 1, 1, 1, 1, 1,\n",
              "       1, 1, 1, 1, 1, 1, 1, 1, 1, 1, 1, 1, 1, 1, 1, 1, 1, 1, 1, 1, 1, 1,\n",
              "       1, 1, 1, 1, 1, 1, 1, 1, 1, 1, 1, 1, 1, 1, 1, 1, 1, 1, 1, 1, 1, 1,\n",
              "       1, 1, 1, 1, 1, 1, 1, 1, 1, 1, 1, 1, 1, 1, 1, 1, 1, 1, 1, 1, 0, 0,\n",
              "       0, 0, 0, 0, 0, 0, 0, 0, 0, 0, 0, 0, 0, 0, 0, 0, 0, 0, 0, 0, 0, 0,\n",
              "       0, 0, 0, 0, 0, 0, 0, 0, 0, 0, 0, 0, 0, 0, 0, 0, 0, 0, 0, 0, 0, 0,\n",
              "       0, 0, 0, 0, 0, 0, 0, 0, 0, 0, 0, 0, 0, 0, 0, 0, 0, 0, 0, 0, 0, 0,\n",
              "       0, 0, 0, 0, 0, 0, 0, 0, 0, 0, 0, 0, 0, 0, 0, 0, 0, 0, 0, 0, 0, 0,\n",
              "       0, 0, 0, 0, 0, 0, 0, 0, 0, 0, 0, 0, 0, 0, 0, 0, 0, 0, 0, 0, 0, 0,\n",
              "       0, 0, 0, 0, 0, 0, 0, 0, 0, 0, 0, 0, 0, 0, 0, 0, 0, 0, 0, 0, 0, 0,\n",
              "       0, 0, 0, 0, 0, 0, 0, 0, 0, 0, 0, 0, 0, 0, 0, 0, 0, 0, 0, 0, 0, 0,\n",
              "       0, 0, 0, 0, 0, 0, 0, 0, 0, 0, 0, 0, 0, 0, 0, 0, 0, 0, 0, 0, 0, 0,\n",
              "       0, 0, 0, 0, 0, 0, 0, 0, 0, 0, 0, 0, 0, 0, 0, 0, 0, 0, 0, 0, 0, 0,\n",
              "       0, 0, 0, 0, 0, 0, 0, 0, 0, 0, 0, 0, 0, 0, 0, 0, 0, 0, 0, 0, 0, 0,\n",
              "       0, 0, 0, 0, 0, 0, 0, 0, 0, 0, 0, 0, 0, 0, 0, 0, 0, 0, 0, 0, 0, 0,\n",
              "       0, 0, 0, 0, 0, 0, 0, 0, 0, 0, 0, 0, 0, 0, 0, 0, 0, 0, 0, 0, 0, 0,\n",
              "       0, 0, 0, 0, 0, 0, 0, 0, 0, 0, 0, 0, 0, 0, 0, 0, 0, 0, 0, 0, 0, 0,\n",
              "       0, 0, 0, 0, 0, 0, 0, 0, 0, 0, 0, 0, 0, 0, 0, 0, 0, 0, 0, 0, 0, 0,\n",
              "       0, 0, 0, 0, 0, 0, 0, 0, 0, 0, 0, 0, 0, 0, 0, 0, 0, 0, 0, 0, 0, 0,\n",
              "       0, 0, 0, 0, 0, 0, 0, 0, 0, 0, 0, 0, 0, 0, 0, 0, 0, 0, 0, 0, 0, 0,\n",
              "       0, 0, 0, 0, 0, 0, 0, 0, 0, 0, 0, 0, 0, 0, 0, 0, 0, 0, 0, 0, 0, 0,\n",
              "       0, 0, 0, 0, 0, 0, 0, 0, 0, 0, 0, 0, 0, 0, 0, 0])"
            ]
          },
          "metadata": {},
          "execution_count": 45
        }
      ]
    },
    {
      "cell_type": "code",
      "source": [
        "X = np.array(infected + not_infected).reshape(len(X), 1)\n",
        "X"
      ],
      "metadata": {
        "colab": {
          "base_uri": "https://localhost:8080/"
        },
        "id": "l4O6mA3N6iSW",
        "outputId": "79494dbc-9c6f-4619-b384-d0bec3e6c962"
      },
      "execution_count": null,
      "outputs": [
        {
          "output_type": "execute_result",
          "data": {
            "text/plain": [
              "array([[ 6.549e+00],\n",
              "       [ 6.520e+00],\n",
              "       [ 7.267e+00],\n",
              "       [ 4.675e+00],\n",
              "       [ 8.494e+00],\n",
              "       [ 6.079e+00],\n",
              "       [ 6.933e+00],\n",
              "       [ 6.240e+00],\n",
              "       [ 8.202e+00],\n",
              "       [ 5.689e+00],\n",
              "       [ 4.132e+00],\n",
              "       [ 5.201e+00],\n",
              "       [ 7.048e+00],\n",
              "       [ 4.301e+00],\n",
              "       [ 4.997e+00],\n",
              "       [ 6.034e+00],\n",
              "       [ 5.269e+00],\n",
              "       [ 6.270e+00],\n",
              "       [ 4.414e+00],\n",
              "       [ 4.721e+00],\n",
              "       [ 9.219e+00],\n",
              "       [ 5.406e+00],\n",
              "       [ 8.931e+00],\n",
              "       [ 7.678e+00],\n",
              "       [ 8.128e+00],\n",
              "       [ 6.746e+00],\n",
              "       [ 7.844e+00],\n",
              "       [ 4.948e+00],\n",
              "       [ 1.009e+01],\n",
              "       [ 5.399e+00],\n",
              "       [ 7.660e+00],\n",
              "       [ 4.095e+00],\n",
              "       [ 5.703e+00],\n",
              "       [ 4.554e+00],\n",
              "       [ 7.156e+00],\n",
              "       [ 8.025e+00],\n",
              "       [ 7.240e+00],\n",
              "       [ 5.396e+00],\n",
              "       [ 9.028e+00],\n",
              "       [ 5.393e+00],\n",
              "       [ 3.991e+00],\n",
              "       [ 6.895e+00],\n",
              "       [ 7.703e+00],\n",
              "       [ 5.889e+00],\n",
              "       [ 4.498e+00],\n",
              "       [ 5.222e+00],\n",
              "       [ 2.012e+00],\n",
              "       [ 5.449e+00],\n",
              "       [ 7.617e+00],\n",
              "       [ 6.614e+00],\n",
              "       [ 4.872e+00],\n",
              "       [ 5.009e+00],\n",
              "       [ 3.550e+00],\n",
              "       [ 7.969e+00],\n",
              "       [ 7.042e+00],\n",
              "       [ 7.532e+00],\n",
              "       [ 7.186e+00],\n",
              "       [ 5.600e+00],\n",
              "       [ 4.132e+00],\n",
              "       [ 7.304e+00],\n",
              "       [ 6.905e+00],\n",
              "       [ 6.139e+00],\n",
              "       [ 6.023e+00],\n",
              "       [ 4.337e+00],\n",
              "       [ 6.961e+00],\n",
              "       [ 8.916e+00],\n",
              "       [ 3.277e+00],\n",
              "       [ 6.598e+00],\n",
              "       [ 3.821e+00],\n",
              "       [ 4.489e+00],\n",
              "       [ 6.437e+00],\n",
              "       [ 4.789e+00],\n",
              "       [ 8.158e+00],\n",
              "       [ 5.858e+00],\n",
              "       [ 6.800e+00],\n",
              "       [ 6.182e+00],\n",
              "       [ 5.803e+00],\n",
              "       [ 6.252e+00],\n",
              "       [ 7.778e+00],\n",
              "       [ 9.878e+00],\n",
              "       [ 9.582e+00],\n",
              "       [ 2.483e+00],\n",
              "       [ 6.445e+00],\n",
              "       [ 8.902e+00],\n",
              "       [ 6.002e+00],\n",
              "       [ 4.598e+00],\n",
              "       [ 5.535e+00],\n",
              "       [ 7.647e+00],\n",
              "       [ 1.049e+01],\n",
              "       [ 5.641e+00],\n",
              "       [ 7.229e+00],\n",
              "       [ 5.042e+00],\n",
              "       [ 3.122e+00],\n",
              "       [ 6.095e+00],\n",
              "       [ 4.673e+00],\n",
              "       [ 7.953e+00],\n",
              "       [ 5.298e+00],\n",
              "       [ 5.634e+00],\n",
              "       [ 7.188e+00],\n",
              "       [ 6.366e+00],\n",
              "       [ 5.152e+00],\n",
              "       [ 6.074e+00],\n",
              "       [ 7.315e+00],\n",
              "       [ 6.507e+00],\n",
              "       [ 4.308e+00],\n",
              "       [ 5.561e+00],\n",
              "       [ 5.930e+00],\n",
              "       [ 3.662e+00],\n",
              "       [ 3.754e+00],\n",
              "       [ 2.836e+00],\n",
              "       [ 3.288e+00],\n",
              "       [ 3.533e+00],\n",
              "       [ 2.377e+00],\n",
              "       [ 1.768e+00],\n",
              "       [ 3.949e+00],\n",
              "       [ 3.154e+00],\n",
              "       [ 6.101e+00],\n",
              "       [ 3.663e+00],\n",
              "       [ 1.687e+00],\n",
              "       [ 1.836e+00],\n",
              "       [ 4.389e+00],\n",
              "       [ 2.209e+00],\n",
              "       [ 4.097e+00],\n",
              "       [ 4.135e+00],\n",
              "       [ 1.730e+00],\n",
              "       [ 2.635e+00],\n",
              "       [ 3.441e+00],\n",
              "       [ 3.440e+00],\n",
              "       [ 2.739e+00],\n",
              "       [ 3.196e+00],\n",
              "       [ 4.434e+00],\n",
              "       [ 3.278e+00],\n",
              "       [ 1.553e+00],\n",
              "       [ 2.294e+00],\n",
              "       [ 2.512e+00],\n",
              "       [ 2.127e+00],\n",
              "       [ 2.807e+00],\n",
              "       [ 4.050e+00],\n",
              "       [ 2.726e+00],\n",
              "       [ 3.723e+00],\n",
              "       [ 3.238e+00],\n",
              "       [ 4.317e+00],\n",
              "       [ 2.176e+00],\n",
              "       [ 3.398e+00],\n",
              "       [ 4.526e+00],\n",
              "       [ 1.522e+00],\n",
              "       [ 3.011e+00],\n",
              "       [ 3.121e+00],\n",
              "       [ 3.678e+00],\n",
              "       [ 2.972e+00],\n",
              "       [ 1.030e+00],\n",
              "       [ 2.589e+00],\n",
              "       [ 3.576e+00],\n",
              "       [ 2.646e+00],\n",
              "       [ 2.778e+00],\n",
              "       [ 2.169e+00],\n",
              "       [ 2.788e+00],\n",
              "       [ 2.992e+00],\n",
              "       [ 1.668e+00],\n",
              "       [ 2.821e+00],\n",
              "       [ 3.057e+00],\n",
              "       [ 1.327e+00],\n",
              "       [ 3.578e+00],\n",
              "       [ 4.188e+00],\n",
              "       [ 2.791e+00],\n",
              "       [ 2.789e+00],\n",
              "       [ 3.031e+00],\n",
              "       [ 3.881e+00],\n",
              "       [ 3.514e+00],\n",
              "       [-1.000e-02],\n",
              "       [ 4.352e+00],\n",
              "       [ 3.004e+00],\n",
              "       [ 3.304e+00],\n",
              "       [ 3.507e+00],\n",
              "       [ 3.463e+00],\n",
              "       [ 2.379e+00],\n",
              "       [ 4.478e+00],\n",
              "       [ 3.304e+00],\n",
              "       [ 2.805e+00],\n",
              "       [ 3.867e+00],\n",
              "       [ 2.288e+00],\n",
              "       [ 5.245e+00],\n",
              "       [ 2.199e+00],\n",
              "       [ 4.590e+00],\n",
              "       [ 1.688e+00],\n",
              "       [ 1.668e+00],\n",
              "       [ 3.977e+00],\n",
              "       [ 3.554e+00],\n",
              "       [ 4.044e+00],\n",
              "       [ 2.749e+00],\n",
              "       [ 3.086e+00],\n",
              "       [ 2.935e+00],\n",
              "       [ 2.859e+00],\n",
              "       [ 1.368e+00],\n",
              "       [ 4.008e+00],\n",
              "       [ 2.955e+00],\n",
              "       [ 3.236e+00],\n",
              "       [ 3.247e+00],\n",
              "       [ 3.326e+00],\n",
              "       [ 1.397e+00],\n",
              "       [ 3.249e+00],\n",
              "       [ 3.879e+00],\n",
              "       [ 2.570e+00],\n",
              "       [ 2.013e+00],\n",
              "       [ 4.162e+00],\n",
              "       [ 3.698e+00],\n",
              "       [ 1.052e+00],\n",
              "       [ 6.205e+00],\n",
              "       [ 2.954e+00],\n",
              "       [ 3.635e+00],\n",
              "       [ 3.880e+00],\n",
              "       [ 3.111e+00],\n",
              "       [ 2.678e+00],\n",
              "       [ 4.977e+00],\n",
              "       [ 1.581e+00],\n",
              "       [ 1.747e+00],\n",
              "       [ 2.706e+00],\n",
              "       [ 2.775e+00],\n",
              "       [ 3.956e+00],\n",
              "       [ 4.858e+00],\n",
              "       [ 3.448e+00],\n",
              "       [ 3.340e+00],\n",
              "       [ 3.026e+00],\n",
              "       [ 3.563e+00],\n",
              "       [ 5.064e+00],\n",
              "       [ 2.114e+00],\n",
              "       [ 3.074e+00],\n",
              "       [ 1.552e+00],\n",
              "       [ 5.109e+00],\n",
              "       [ 1.668e+00],\n",
              "       [ 1.681e+00],\n",
              "       [ 3.051e+00],\n",
              "       [ 2.125e+00],\n",
              "       [ 1.310e+00],\n",
              "       [ 4.527e+00],\n",
              "       [ 3.231e+00],\n",
              "       [ 2.902e+00],\n",
              "       [ 2.044e+00],\n",
              "       [ 3.209e+00],\n",
              "       [ 2.204e+00],\n",
              "       [ 3.046e+00],\n",
              "       [ 3.793e+00],\n",
              "       [ 4.859e+00],\n",
              "       [ 3.398e+00],\n",
              "       [ 1.477e+00],\n",
              "       [ 2.968e+00],\n",
              "       [ 2.433e+00],\n",
              "       [ 3.010e+00],\n",
              "       [ 3.484e+00],\n",
              "       [ 1.928e+00],\n",
              "       [ 4.135e+00],\n",
              "       [ 1.001e+00],\n",
              "       [ 2.850e+00],\n",
              "       [ 5.189e+00],\n",
              "       [ 3.193e+00],\n",
              "       [ 1.823e+00],\n",
              "       [ 9.200e-01],\n",
              "       [ 6.620e-01],\n",
              "       [ 3.441e+00],\n",
              "       [ 3.472e+00],\n",
              "       [ 2.999e+00],\n",
              "       [ 4.064e+00],\n",
              "       [ 1.585e+00],\n",
              "       [ 3.730e+00],\n",
              "       [ 2.265e+00],\n",
              "       [ 4.113e+00],\n",
              "       [ 4.603e+00],\n",
              "       [ 3.443e+00],\n",
              "       [ 2.459e+00],\n",
              "       [ 1.730e+00],\n",
              "       [ 4.500e+00],\n",
              "       [ 2.036e+00],\n",
              "       [ 3.322e+00],\n",
              "       [ 1.620e+00],\n",
              "       [ 3.673e+00],\n",
              "       [ 5.252e+00],\n",
              "       [ 2.552e+00],\n",
              "       [ 3.294e+00],\n",
              "       [ 2.473e+00],\n",
              "       [ 2.964e+00],\n",
              "       [ 3.791e+00],\n",
              "       [ 2.224e+00],\n",
              "       [ 5.344e+00],\n",
              "       [ 1.596e+00],\n",
              "       [ 2.642e+00],\n",
              "       [ 2.236e+00],\n",
              "       [ 2.011e+00],\n",
              "       [ 3.901e+00],\n",
              "       [ 2.459e+00],\n",
              "       [ 4.277e+00],\n",
              "       [ 1.272e+00],\n",
              "       [ 3.243e+00],\n",
              "       [ 3.489e+00],\n",
              "       [ 4.879e+00],\n",
              "       [ 1.014e+00],\n",
              "       [ 2.047e+00],\n",
              "       [ 1.429e+00],\n",
              "       [ 2.018e+00],\n",
              "       [ 1.510e+00],\n",
              "       [ 2.329e+00],\n",
              "       [ 1.639e+00],\n",
              "       [ 2.073e+00],\n",
              "       [ 2.167e+00],\n",
              "       [ 3.582e+00],\n",
              "       [ 2.503e+00],\n",
              "       [ 4.686e+00],\n",
              "       [ 3.810e+00],\n",
              "       [ 2.894e+00],\n",
              "       [ 2.423e+00],\n",
              "       [ 2.353e+00],\n",
              "       [ 3.352e+00],\n",
              "       [ 2.595e+00],\n",
              "       [ 9.280e-01],\n",
              "       [ 3.427e+00],\n",
              "       [ 9.770e-01],\n",
              "       [ 1.768e+00],\n",
              "       [ 2.369e+00],\n",
              "       [ 3.377e+00],\n",
              "       [ 1.287e+00],\n",
              "       [ 3.958e+00],\n",
              "       [ 2.043e+00],\n",
              "       [ 2.961e+00],\n",
              "       [ 2.013e+00],\n",
              "       [ 4.130e+00],\n",
              "       [ 2.919e+00],\n",
              "       [ 3.413e+00],\n",
              "       [ 2.275e+00],\n",
              "       [ 1.779e+00],\n",
              "       [ 3.290e+00],\n",
              "       [ 2.404e+00],\n",
              "       [ 3.875e+00],\n",
              "       [ 2.779e+00],\n",
              "       [ 1.912e+00],\n",
              "       [ 2.063e+00],\n",
              "       [ 2.614e+00],\n",
              "       [ 5.170e-01],\n",
              "       [ 2.985e+00],\n",
              "       [ 3.091e+00],\n",
              "       [ 3.632e+00],\n",
              "       [ 1.479e+00],\n",
              "       [ 3.003e+00],\n",
              "       [ 2.461e+00],\n",
              "       [ 4.268e+00],\n",
              "       [ 2.724e+00],\n",
              "       [ 2.491e+00],\n",
              "       [ 2.989e+00],\n",
              "       [ 3.773e+00],\n",
              "       [ 3.852e+00],\n",
              "       [ 1.768e+00],\n",
              "       [ 2.963e+00],\n",
              "       [ 3.593e+00],\n",
              "       [ 4.890e+00],\n",
              "       [ 2.238e+00],\n",
              "       [ 1.622e+00],\n",
              "       [ 4.282e+00],\n",
              "       [ 3.285e+00],\n",
              "       [ 6.910e-01],\n",
              "       [ 1.025e+00],\n",
              "       [ 2.876e+00],\n",
              "       [ 5.289e+00],\n",
              "       [ 3.812e+00],\n",
              "       [ 4.215e+00],\n",
              "       [ 4.071e+00],\n",
              "       [ 2.801e+00],\n",
              "       [ 4.649e+00],\n",
              "       [ 4.039e+00],\n",
              "       [ 2.884e+00],\n",
              "       [ 3.288e+00],\n",
              "       [ 2.255e+00],\n",
              "       [ 4.057e+00],\n",
              "       [ 3.436e+00],\n",
              "       [ 3.377e+00],\n",
              "       [ 1.342e+00],\n",
              "       [ 3.234e+00],\n",
              "       [ 2.263e+00],\n",
              "       [ 4.731e+00],\n",
              "       [ 2.979e+00],\n",
              "       [ 3.283e+00],\n",
              "       [ 3.669e+00],\n",
              "       [ 2.601e+00],\n",
              "       [ 4.077e+00],\n",
              "       [ 2.501e+00],\n",
              "       [ 2.580e+00],\n",
              "       [ 3.215e+00],\n",
              "       [ 3.288e+00],\n",
              "       [ 3.280e+00],\n",
              "       [ 2.913e+00],\n",
              "       [ 3.650e+00],\n",
              "       [ 4.487e+00],\n",
              "       [ 3.282e+00],\n",
              "       [ 1.820e+00],\n",
              "       [ 2.137e+00],\n",
              "       [ 3.775e+00],\n",
              "       [ 4.401e+00],\n",
              "       [ 3.091e+00],\n",
              "       [ 4.809e+00],\n",
              "       [ 4.044e+00],\n",
              "       [ 4.597e+00],\n",
              "       [ 4.328e+00],\n",
              "       [ 1.631e+00],\n",
              "       [ 1.036e+00],\n",
              "       [ 1.501e+00],\n",
              "       [ 2.355e+00],\n",
              "       [ 2.193e+00],\n",
              "       [ 2.119e+00],\n",
              "       [ 1.271e+00],\n",
              "       [ 3.426e+00],\n",
              "       [ 2.255e+00],\n",
              "       [ 2.685e+00],\n",
              "       [ 2.408e+00],\n",
              "       [ 2.828e+00],\n",
              "       [ 2.970e+00],\n",
              "       [ 1.557e+00],\n",
              "       [ 2.717e+00],\n",
              "       [ 3.262e+00],\n",
              "       [ 2.939e+00],\n",
              "       [ 4.278e+00],\n",
              "       [ 3.163e+00],\n",
              "       [ 4.266e+00],\n",
              "       [ 3.620e+00],\n",
              "       [ 2.724e+00],\n",
              "       [ 3.869e+00],\n",
              "       [ 9.100e-01],\n",
              "       [ 1.385e+00],\n",
              "       [ 2.758e+00],\n",
              "       [ 3.465e+00],\n",
              "       [ 3.231e+00],\n",
              "       [ 2.738e+00],\n",
              "       [ 3.831e+00],\n",
              "       [ 2.415e+00],\n",
              "       [ 3.460e+00],\n",
              "       [ 3.234e+00],\n",
              "       [ 3.466e+00],\n",
              "       [ 2.725e+00],\n",
              "       [ 2.547e+00],\n",
              "       [ 3.008e+00],\n",
              "       [ 3.107e+00],\n",
              "       [ 2.552e+00],\n",
              "       [ 3.927e+00],\n",
              "       [ 1.803e+00],\n",
              "       [ 3.361e+00],\n",
              "       [ 4.629e+00],\n",
              "       [ 3.222e+00],\n",
              "       [ 4.277e+00],\n",
              "       [ 2.571e+00],\n",
              "       [ 2.857e+00],\n",
              "       [ 4.112e+00],\n",
              "       [ 3.184e+00],\n",
              "       [ 4.341e+00],\n",
              "       [ 2.190e+00],\n",
              "       [ 4.263e+00],\n",
              "       [ 1.593e+00],\n",
              "       [ 1.878e+00],\n",
              "       [ 3.703e+00],\n",
              "       [ 2.316e+00],\n",
              "       [ 2.873e+00],\n",
              "       [ 3.315e+00],\n",
              "       [ 4.345e+00],\n",
              "       [ 3.430e+00],\n",
              "       [ 2.409e+00],\n",
              "       [ 3.161e+00],\n",
              "       [ 2.348e+00],\n",
              "       [ 1.822e+00],\n",
              "       [ 1.864e+00],\n",
              "       [ 2.769e+00],\n",
              "       [ 1.634e+00],\n",
              "       [ 2.122e+00],\n",
              "       [ 2.567e+00],\n",
              "       [ 3.216e+00],\n",
              "       [ 2.904e+00],\n",
              "       [ 3.034e+00],\n",
              "       [ 3.344e+00],\n",
              "       [ 4.295e+00],\n",
              "       [ 5.556e+00],\n",
              "       [ 4.269e+00],\n",
              "       [ 3.006e+00],\n",
              "       [ 1.469e+00],\n",
              "       [ 3.071e+00],\n",
              "       [ 3.974e+00],\n",
              "       [ 4.283e+00],\n",
              "       [ 3.576e+00],\n",
              "       [ 4.005e+00],\n",
              "       [ 3.490e+00],\n",
              "       [ 2.959e+00],\n",
              "       [ 2.368e+00],\n",
              "       [ 1.896e+00],\n",
              "       [ 3.113e+00],\n",
              "       [ 4.051e+00],\n",
              "       [ 3.780e+00],\n",
              "       [ 2.995e+00],\n",
              "       [ 4.212e+00],\n",
              "       [ 3.628e+00],\n",
              "       [ 2.490e+00],\n",
              "       [ 4.019e+00],\n",
              "       [ 3.204e+00],\n",
              "       [ 4.338e+00],\n",
              "       [ 2.233e+00],\n",
              "       [ 2.970e+00],\n",
              "       [ 3.460e+00],\n",
              "       [ 2.320e+00]])"
            ]
          },
          "metadata": {},
          "execution_count": 46
        }
      ]
    },
    {
      "cell_type": "code",
      "source": [
        "class LogisticRegression:\n",
        "    def __init__(self, x_observed, y_observed):\n",
        "        self.x_observed = x_observed\n",
        "        self.y_observed = y_observed\n",
        "        self.coeff = None\n",
        "\n",
        "    def sigmoid(self, X):\n",
        "        return 1 / (1 + np.exp(-X))\n",
        "\n",
        "    def predict(self, x_latent):\n",
        "        y = self.sigmoid(self.coeff[0] + x_latent @ self.coeff[1:])\n",
        "        return y\n",
        "\n",
        "    def mean_squared_error(self, y, t):\n",
        "        return 0.5 * np.sum((y - t)**2)\n",
        "\n",
        "    def __call__(self, w):\n",
        "        self.coeff = w\n",
        "        y_pred = self.predict(self.x_observed)\n",
        "        return self.mean_squared_error(self.y_observed, y_pred)"
      ],
      "metadata": {
        "id": "jpbauJTj60i6"
      },
      "execution_count": null,
      "outputs": []
    },
    {
      "cell_type": "code",
      "source": [
        "objective = LogisticRegression(X, Y)\n",
        "histories = adam(objective, np.random.rand(2), step_num=20000)"
      ],
      "metadata": {
        "id": "fuuoZD987thM"
      },
      "execution_count": null,
      "outputs": []
    },
    {
      "cell_type": "code",
      "source": [
        "plt.plot(histories[0])"
      ],
      "metadata": {
        "colab": {
          "base_uri": "https://localhost:8080/",
          "height": 301
        },
        "id": "sFHJDvFB74Bj",
        "outputId": "b59b8903-f829-4c26-9823-19d8d44c004d"
      },
      "execution_count": null,
      "outputs": [
        {
          "output_type": "execute_result",
          "data": {
            "text/plain": [
              "[<matplotlib.lines.Line2D at 0x7f6d6f6e9790>,\n",
              " <matplotlib.lines.Line2D at 0x7f6d6f6e9910>]"
            ]
          },
          "metadata": {},
          "execution_count": 49
        },
        {
          "output_type": "display_data",
          "data": {
            "text/plain": [
              "<Figure size 432x288 with 1 Axes>"
            ],
            "image/png": "[encoded data removed]"
          },
          "metadata": {
            "needs_background": "light"
          }
        }
      ]
    },
    {
      "cell_type": "code",
      "source": [
        "objective.coeff"
      ],
      "metadata": {
        "colab": {
          "base_uri": "https://localhost:8080/"
        },
        "id": "OhUd-vrt79K1",
        "outputId": "b386119b-4f3a-4f22-a349-481b1b948877"
      },
      "execution_count": null,
      "outputs": [
        {
          "output_type": "execute_result",
          "data": {
            "text/plain": [
              "array([-10.94145124,   2.20498179])"
            ]
          },
          "metadata": {},
          "execution_count": 50
        }
      ]
    },
    {
      "cell_type": "code",
      "source": [
        "-objective.coeff[0] / objective.coeff[1]"
      ],
      "metadata": {
        "colab": {
          "base_uri": "https://localhost:8080/"
        },
        "id": "aC1P5F7Z8GaL",
        "outputId": "65b3e5b1-c707-476f-823f-f20a65eb2add"
      },
      "execution_count": null,
      "outputs": [
        {
          "output_type": "execute_result",
          "data": {
            "text/plain": [
              "4.962150379750176"
            ]
          },
          "metadata": {},
          "execution_count": 52
        }
      ]
    },
    {
      "cell_type": "markdown",
      "source": [
        "# 第79章：Adamによるロジスティック回帰（２変数）"
      ],
      "metadata": {
        "id": "kUZBUq6S9Yia"
      }
    },
    {
      "cell_type": "code",
      "source": [
        "plt.scatter([x[0] for x in data1], [x[1] for x in data1])\n",
        "plt.scatter([x[0] for x in data2], [x[1] for x in data2])"
      ],
      "metadata": {
        "colab": {
          "base_uri": "https://localhost:8080/",
          "height": 283
        },
        "id": "xrvgRMj28M2j",
        "outputId": "7bd557a2-9feb-43ad-a835-f63cf42b4365"
      },
      "execution_count": null,
      "outputs": [
        {
          "output_type": "execute_result",
          "data": {
            "text/plain": [
              "<matplotlib.collections.PathCollection at 0x7f6d70a79250>"
            ]
          },
          "metadata": {},
          "execution_count": 54
        },
        {
          "output_type": "display_data",
          "data": {
            "text/plain": [
              "<Figure size 432x288 with 1 Axes>"
            ],
            "image/png": "[encoded data removed]"
          },
          "metadata": {
            "needs_background": "light"
          }
        }
      ]
    },
    {
      "cell_type": "code",
      "source": [
        "y1 = [1 for x in data1]\n",
        "y2 = [0 for x in data2]\n",
        "Y = np.array(y1 + y2)\n",
        "Y"
      ],
      "metadata": {
        "colab": {
          "base_uri": "https://localhost:8080/"
        },
        "id": "DKWvrCwP9kP8",
        "outputId": "004e1fda-cf2d-4f37-e70e-4d79c3136b14"
      },
      "execution_count": null,
      "outputs": [
        {
          "output_type": "execute_result",
          "data": {
            "text/plain": [
              "array([1, 1, 1, 1, 1, 1, 1, 1, 1, 1, 1, 1, 1, 1, 1, 1, 1, 1, 1, 1, 0, 0,\n",
              "       0, 0, 0, 0, 0, 0, 0, 0, 0, 0, 0, 0, 0, 0, 0, 0, 0, 0])"
            ]
          },
          "metadata": {},
          "execution_count": 55
        }
      ]
    },
    {
      "cell_type": "code",
      "source": [
        "X = np.array(data1 + data2)\n",
        "X"
      ],
      "metadata": {
        "colab": {
          "base_uri": "https://localhost:8080/"
        },
        "id": "PToetSgp95b_",
        "outputId": "6dd45b86-3542-46b7-fced-ec5756ac2a8e"
      },
      "execution_count": null,
      "outputs": [
        {
          "output_type": "execute_result",
          "data": {
            "text/plain": [
              "array([[3.41, 1.83],\n",
              "       [1.58, 1.81],\n",
              "       [3.35, 2.2 ],\n",
              "       [1.92, 1.41],\n",
              "       [1.72, 1.62],\n",
              "       [3.44, 1.4 ],\n",
              "       [3.52, 1.88],\n",
              "       [1.65, 1.24],\n",
              "       [2.82, 1.04],\n",
              "       [1.87, 1.14],\n",
              "       [2.78, 0.94],\n",
              "       [2.52, 1.14],\n",
              "       [2.64, 1.07],\n",
              "       [1.51, 1.64],\n",
              "       [1.43, 1.86],\n",
              "       [3.09, 1.38],\n",
              "       [2.49, 0.85],\n",
              "       [3.21, 1.35],\n",
              "       [2.17, 1.24],\n",
              "       [2.91, 1.21],\n",
              "       [1.43, 2.49],\n",
              "       [1.94, 2.5 ],\n",
              "       [2.22, 2.22],\n",
              "       [2.33, 2.11],\n",
              "       [1.74, 2.3 ],\n",
              "       [0.4 , 1.53],\n",
              "       [1.19, 2.34],\n",
              "       [0.46, 1.52],\n",
              "       [0.69, 2.17],\n",
              "       [0.91, 2.35],\n",
              "       [2.31, 2.21],\n",
              "       [2.61, 1.66],\n",
              "       [0.77, 2.1 ],\n",
              "       [0.44, 1.65],\n",
              "       [2.  , 2.35],\n",
              "       [2.42, 1.57],\n",
              "       [1.77, 2.5 ],\n",
              "       [2.3 , 1.84],\n",
              "       [0.86, 2.16],\n",
              "       [1.19, 2.47]])"
            ]
          },
          "metadata": {},
          "execution_count": 56
        }
      ]
    },
    {
      "cell_type": "code",
      "source": [
        "objective = LogisticRegression(X, Y)\n",
        "histories = adam(objective, np.random.rand(3), step_num = 10000)"
      ],
      "metadata": {
        "id": "wim8fJ4U-BPi"
      },
      "execution_count": null,
      "outputs": []
    },
    {
      "cell_type": "code",
      "source": [
        "plt.plot(histories[0])"
      ],
      "metadata": {
        "colab": {
          "base_uri": "https://localhost:8080/",
          "height": 319
        },
        "id": "yNU2Sr6J-XVl",
        "outputId": "c6f183bc-ff79-4b5b-d305-696762773353"
      },
      "execution_count": null,
      "outputs": [
        {
          "output_type": "execute_result",
          "data": {
            "text/plain": [
              "[<matplotlib.lines.Line2D at 0x7f6d6fc37640>,\n",
              " <matplotlib.lines.Line2D at 0x7f6d6fc37790>,\n",
              " <matplotlib.lines.Line2D at 0x7f6d6fc37850>]"
            ]
          },
          "metadata": {},
          "execution_count": 58
        },
        {
          "output_type": "display_data",
          "data": {
            "text/plain": [
              "<Figure size 432x288 with 1 Axes>"
            ],
            "image/png": "[encoded data removed]"
          },
          "metadata": {
            "needs_background": "light"
          }
        }
      ]
    },
    {
      "cell_type": "code",
      "source": [
        "objective.coeff"
      ],
      "metadata": {
        "colab": {
          "base_uri": "https://localhost:8080/"
        },
        "id": "fGrBAX3p-drY",
        "outputId": "9101b261-d76e-4927-c9dd-b79319632c5a"
      },
      "execution_count": null,
      "outputs": [
        {
          "output_type": "execute_result",
          "data": {
            "text/plain": [
              "array([ 4.73889727,  1.3374778 , -4.08396646])"
            ]
          },
          "metadata": {},
          "execution_count": 59
        }
      ]
    },
    {
      "cell_type": "code",
      "source": [
        "x1 = np.linspace(0, 4, 2)\n",
        "x2 = -(objective.coeff[0] + objective.coeff[1] * x1) / objective.coeff[2]"
      ],
      "metadata": {
        "id": "rTA8SNIu-_uK"
      },
      "execution_count": null,
      "outputs": []
    },
    {
      "cell_type": "code",
      "source": [
        "plt.scatter([x[0] for x in data1], [x[1] for x in data1])\n",
        "plt.scatter([x[0] for x in data2], [x[1] for x in data2])\n",
        "plt.plot(x1, x2)"
      ],
      "metadata": {
        "colab": {
          "base_uri": "https://localhost:8080/",
          "height": 283
        },
        "id": "b6_GRr8f-lrK",
        "outputId": "a10e1690-bab6-48de-9569-dd6342d7e805"
      },
      "execution_count": null,
      "outputs": [
        {
          "output_type": "execute_result",
          "data": {
            "text/plain": [
              "[<matplotlib.lines.Line2D at 0x7f6d70c25400>]"
            ]
          },
          "metadata": {},
          "execution_count": 63
        },
        {
          "output_type": "display_data",
          "data": {
            "text/plain": [
              "<Figure size 432x288 with 1 Axes>"
            ],
            "image/png": "[encoded data removed]"
          },
          "metadata": {
            "needs_background": "light"
          }
        }
      ]
    },
    {
      "cell_type": "code",
      "source": [
        "heatmap(objective.predict, x_min=0, x_max=4, y_min=0, y_max=3, h=0.01)\n",
        "plt.scatter([x[0] for x in data1], [x[1] for x in data1])\n",
        "plt.scatter([x[0] for x in data2], [x[1] for x in data2])"
      ],
      "metadata": {
        "colab": {
          "base_uri": "https://localhost:8080/",
          "height": 275
        },
        "id": "r6rngi-J-1Dq",
        "outputId": "a5f079f7-ec25-47c2-a21f-957f9e315154"
      },
      "execution_count": null,
      "outputs": [
        {
          "output_type": "execute_result",
          "data": {
            "text/plain": [
              "<matplotlib.collections.PathCollection at 0x7f6d6fcda700>"
            ]
          },
          "metadata": {},
          "execution_count": 66
        },
        {
          "output_type": "display_data",
          "data": {
            "text/plain": [
              "<Figure size 432x288 with 2 Axes>"
            ],
            "image/png": "[encoded data removed]"
          },
          "metadata": {
            "needs_background": "light"
          }
        }
      ]
    },
    {
      "cell_type": "markdown",
      "source": [
        "# 第80章：Numpy.polyfitによる多項式近似"
      ],
      "metadata": {
        "id": "S598KdVGAmqq"
      }
    },
    {
      "cell_type": "code",
      "source": [
        "X = [-10,  -8,  -6,  -4,  -2,   0,   2,   4,   6,   8,  10]\n",
        "Y_observed = [1.12, 0.28, -0.18, -0.27, -0.13, 0.21, 0.36, 0.49, 0.42, -0.05, -0.85]"
      ],
      "metadata": {
        "id": "K0aODoj3_dy-"
      },
      "execution_count": null,
      "outputs": []
    },
    {
      "cell_type": "code",
      "source": [
        "plt.scatter(X, Y_observed)"
      ],
      "metadata": {
        "colab": {
          "base_uri": "https://localhost:8080/",
          "height": 283
        },
        "id": "m2aDV_yAAxzS",
        "outputId": "d2d26d46-583d-4fd2-ed86-b146f0db48e4"
      },
      "execution_count": null,
      "outputs": [
        {
          "output_type": "execute_result",
          "data": {
            "text/plain": [
              "<matplotlib.collections.PathCollection at 0x7f6d6fc75250>"
            ]
          },
          "metadata": {},
          "execution_count": 68
        },
        {
          "output_type": "display_data",
          "data": {
            "text/plain": [
              "<Figure size 432x288 with 1 Axes>"
            ],
            "image/png": "[encoded data removed]"
          },
          "metadata": {
            "needs_background": "light"
          }
        }
      ]
    },
    {
      "cell_type": "code",
      "source": [
        "import numpy as np\n",
        "\n",
        "coeff = np.polyfit(X, Y_observed, 10)\n",
        "coeff"
      ],
      "metadata": {
        "colab": {
          "base_uri": "https://localhost:8080/"
        },
        "id": "GW-EHE2OA2jq",
        "outputId": "4df58684-530e-4161-8a06-41cf53b1c690"
      },
      "execution_count": null,
      "outputs": [
        {
          "output_type": "execute_result",
          "data": {
            "text/plain": [
              "array([-5.98779641e-09,  2.61041012e-09,  1.32791832e-06, -4.29506655e-07,\n",
              "       -9.99936704e-05,  1.92147714e-05,  3.04459980e-03, -2.54584849e-03,\n",
              "       -3.44119544e-02,  1.32402778e-01,  2.10000000e-01])"
            ]
          },
          "metadata": {},
          "execution_count": 69
        }
      ]
    },
    {
      "cell_type": "code",
      "source": [
        "x_latent = np.linspace(min(X), max(X), 100)\n",
        "fitted_curve = np.poly1d(coeff)(x_latent)"
      ],
      "metadata": {
        "id": "s2Po_nC1A9Xw"
      },
      "execution_count": null,
      "outputs": []
    },
    {
      "cell_type": "code",
      "source": [
        "plt.scatter(X, Y_observed, label=\"observed\")\n",
        "plt.plot(x_latent, fitted_curve, label=\"fitted\")\n",
        "plt.grid()\n",
        "plt.legend()\n",
        "plt.show()"
      ],
      "metadata": {
        "colab": {
          "base_uri": "https://localhost:8080/",
          "height": 265
        },
        "id": "E4CCEGjeBIc0",
        "outputId": "958dd47b-fd59-4fe0-ce5e-1389bff5cc85"
      },
      "execution_count": null,
      "outputs": [
        {
          "output_type": "display_data",
          "data": {
            "text/plain": [
              "<Figure size 432x288 with 1 Axes>"
            ],
            "image/png": "[encoded data removed]"
          },
          "metadata": {
            "needs_background": "light"
          }
        }
      ]
    },
    {
      "cell_type": "markdown",
      "source": [
        "# 第81章：Sympy"
      ],
      "metadata": {
        "id": "3yXK7cVhBkHP"
      }
    },
    {
      "cell_type": "code",
      "source": [
        "!pip install sympy==1.9"
      ],
      "metadata": {
        "colab": {
          "base_uri": "https://localhost:8080/"
        },
        "id": "xdzGbMB5BM0s",
        "outputId": "9e4b927d-85c7-41dd-f068-5b9900023686"
      },
      "execution_count": null,
      "outputs": [
        {
          "output_type": "stream",
          "name": "stdout",
          "text": [
            "Looking in indexes: https://pypi.org/simple, https://us-python.pkg.dev/colab-wheels/public/simple/\n",
            "Collecting sympy==1.9\n",
            "  Downloading sympy-1.9-py3-none-any.whl (6.2 MB)\n",
            "\u001b[K     |████████████████████████████████| 6.2 MB 9.1 MB/s \n",
            "\u001b[?25hRequirement already satisfied: mpmath>=0.19 in /usr/local/lib/python3.8/dist-packages (from sympy==1.9) (1.2.1)\n",
            "Installing collected packages: sympy\n",
            "  Attempting uninstall: sympy\n",
            "    Found existing installation: sympy 1.7.1\n",
            "    Uninstalling sympy-1.7.1:\n",
            "      Successfully uninstalled sympy-1.7.1\n",
            "Successfully installed sympy-1.9\n"
          ]
        }
      ]
    },
    {
      "cell_type": "code",
      "source": [
        "import sympy as sym\n",
        "from sympy.plotting import plot\n",
        "sym.init_printing(use_unicode=True)\n",
        "%matplotlib inline"
      ],
      "metadata": {
        "id": "QVd8vHh8Bsjx"
      },
      "execution_count": null,
      "outputs": []
    },
    {
      "cell_type": "code",
      "source": [
        "# Google Colab 使用の場合、SympyによるTeX表示をサポートするために実行する\n",
        "def custom_latex_printer(exp,**options):\n",
        "    from google.colab.output._publish import javascript\n",
        "    url = \"https://cdnjs.cloudflare.com/ajax/libs/mathjax/2.7.3/latest.js?config=default\"\n",
        "    javascript(url=url)\n",
        "    return sym.printing.latex(exp,**options)\n",
        "\n",
        "sym.init_printing(use_latex=\"mathjax\",latex_printer=custom_latex_printer)"
      ],
      "metadata": {
        "id": "FGxyjpn5Bxuv"
      },
      "execution_count": null,
      "outputs": []
    },
    {
      "cell_type": "code",
      "source": [
        "a = sym.Symbol('a')"
      ],
      "metadata": {
        "id": "nmdWq8pQB3ke"
      },
      "execution_count": null,
      "outputs": []
    },
    {
      "cell_type": "code",
      "source": [
        "a, b, c, x, y = sym.symbols(\"a b c x y\")"
      ],
      "metadata": {
        "id": "xq6iLLGVB6Lk"
      },
      "execution_count": null,
      "outputs": []
    },
    {
      "cell_type": "code",
      "source": [
        "f = sym.Function('f')\n",
        "g = sym.Function('g')"
      ],
      "metadata": {
        "id": "j9gVMITuB8Nn"
      },
      "execution_count": null,
      "outputs": []
    },
    {
      "cell_type": "code",
      "source": [
        "# 数式は英語で numerial expression または numerical formula\n",
        "expr = x**2-12*x+8\n",
        "expr"
      ],
      "metadata": {
        "colab": {
          "base_uri": "https://localhost:8080/",
          "height": 39
        },
        "id": "Wqb3HSoYB-Qo",
        "outputId": "68411aeb-ebea-4080-f2e9-032f55140536"
      },
      "execution_count": null,
      "outputs": [
        {
          "output_type": "display_data",
          "data": {
            "text/plain": [
              "<IPython.core.display.HTML object>"
            ],
            "text/html": [
              "<script src='https://cdnjs.cloudflare.com/ajax/libs/mathjax/2.7.3/latest.js?config=default'></script>"
            ]
          },
          "metadata": {}
        },
        {
          "output_type": "execute_result",
          "data": {
            "text/plain": [
              " 2           \n",
              "x  - 12⋅x + 8"
            ],
            "text/latex": "$\\displaystyle x^{2} - 12 x + 8$"
          },
          "metadata": {},
          "execution_count": 78
        }
      ]
    },
    {
      "cell_type": "code",
      "source": [
        "# 得られた関数を図示\n",
        "plot(expr, (x, -20, 20))"
      ],
      "metadata": {
        "colab": {
          "base_uri": "https://localhost:8080/",
          "height": 313
        },
        "id": "I9IBng9WCBGj",
        "outputId": "c426705d-223f-43ec-d0fa-12fb436895f3"
      },
      "execution_count": null,
      "outputs": [
        {
          "output_type": "display_data",
          "data": {
            "text/plain": [
              "<Figure size 432x288 with 1 Axes>"
            ],
            "image/png": "[encoded data removed]"
          },
          "metadata": {
            "needs_background": "light"
          }
        },
        {
          "output_type": "execute_result",
          "data": {
            "text/plain": [
              "<sympy.plotting.plot.Plot at 0x7f6d6e95d490>"
            ]
          },
          "metadata": {},
          "execution_count": 79
        }
      ]
    },
    {
      "cell_type": "code",
      "source": [
        "# 因数分解\n",
        "expr = x**2 + 2*x + 1\n",
        "sym.factor(expr)"
      ],
      "metadata": {
        "colab": {
          "base_uri": "https://localhost:8080/",
          "height": 40
        },
        "id": "9qMWbpHwCGf8",
        "outputId": "236f701b-0c4c-41c8-b81e-60d2d6b8e072"
      },
      "execution_count": null,
      "outputs": [
        {
          "output_type": "display_data",
          "data": {
            "text/plain": [
              "<IPython.core.display.HTML object>"
            ],
            "text/html": [
              "<script src='https://cdnjs.cloudflare.com/ajax/libs/mathjax/2.7.3/latest.js?config=default'></script>"
            ]
          },
          "metadata": {}
        },
        {
          "output_type": "execute_result",
          "data": {
            "text/plain": [
              "       2\n",
              "(x + 1) "
            ],
            "text/latex": "$\\displaystyle \\left(x + 1\\right)^{2}$"
          },
          "metadata": {},
          "execution_count": 80
        }
      ]
    },
    {
      "cell_type": "code",
      "source": [
        "# 等式は英語で equation または equality\n",
        "expr = x**2 - 12 * x + 8\n",
        "eq = sym.Eq(expr, 0)\n",
        "eq"
      ],
      "metadata": {
        "colab": {
          "base_uri": "https://localhost:8080/",
          "height": 39
        },
        "id": "MtctwqtvCKvx",
        "outputId": "c3249117-e766-4a7e-a870-3d86b9feabbb"
      },
      "execution_count": null,
      "outputs": [
        {
          "output_type": "display_data",
          "data": {
            "text/plain": [
              "<IPython.core.display.HTML object>"
            ],
            "text/html": [
              "<script src='https://cdnjs.cloudflare.com/ajax/libs/mathjax/2.7.3/latest.js?config=default'></script>"
            ]
          },
          "metadata": {}
        },
        {
          "output_type": "execute_result",
          "data": {
            "text/plain": [
              " 2               \n",
              "x  - 12⋅x + 8 = 0"
            ],
            "text/latex": "$\\displaystyle x^{2} - 12 x + 8 = 0$"
          },
          "metadata": {},
          "execution_count": 83
        }
      ]
    },
    {
      "cell_type": "code",
      "source": [
        "# 方程式を解く\n",
        "sym.solve(eq)"
      ],
      "metadata": {
        "colab": {
          "base_uri": "https://localhost:8080/",
          "height": 47
        },
        "id": "vF5WUMXxCOUJ",
        "outputId": "099ec489-01bd-42ce-c219-74a44fd82d65"
      },
      "execution_count": null,
      "outputs": [
        {
          "output_type": "display_data",
          "data": {
            "text/plain": [
              "<IPython.core.display.HTML object>"
            ],
            "text/html": [
              "<script src='https://cdnjs.cloudflare.com/ajax/libs/mathjax/2.7.3/latest.js?config=default'></script>"
            ]
          },
          "metadata": {}
        },
        {
          "output_type": "execute_result",
          "data": {
            "text/plain": [
              "[6 - 2⋅√7, 2⋅√7 + 6]"
            ],
            "text/latex": "$\\displaystyle \\left[ 6 - 2 \\sqrt{7}, \\  2 \\sqrt{7} + 6\\right]$"
          },
          "metadata": {},
          "execution_count": 84
        }
      ]
    },
    {
      "cell_type": "code",
      "source": [
        "# 代数を使った式も取り扱える\n",
        "eq = sym.Eq(a * x ** 2 + b * x + c, 0)\n",
        "eq"
      ],
      "metadata": {
        "colab": {
          "base_uri": "https://localhost:8080/",
          "height": 39
        },
        "id": "6zg02F2lCRHn",
        "outputId": "d3fdd9a0-6996-433c-a32d-679f9acaa174"
      },
      "execution_count": null,
      "outputs": [
        {
          "output_type": "display_data",
          "data": {
            "text/plain": [
              "<IPython.core.display.HTML object>"
            ],
            "text/html": [
              "<script src='https://cdnjs.cloudflare.com/ajax/libs/mathjax/2.7.3/latest.js?config=default'></script>"
            ]
          },
          "metadata": {}
        },
        {
          "output_type": "execute_result",
          "data": {
            "text/plain": [
              "   2              \n",
              "a⋅x  + b⋅x + c = 0"
            ],
            "text/latex": "$\\displaystyle a x^{2} + b x + c = 0$"
          },
          "metadata": {},
          "execution_count": 85
        }
      ]
    },
    {
      "cell_type": "code",
      "source": [
        "# xについて解く\n",
        "sym.solve(eq, x)"
      ],
      "metadata": {
        "colab": {
          "base_uri": "https://localhost:8080/",
          "height": 68
        },
        "id": "7xzbB6CcCWR8",
        "outputId": "e3b0e592-2d87-410c-cb62-b4422847322a"
      },
      "execution_count": null,
      "outputs": [
        {
          "output_type": "display_data",
          "data": {
            "text/plain": [
              "<IPython.core.display.HTML object>"
            ],
            "text/html": [
              "<script src='https://cdnjs.cloudflare.com/ajax/libs/mathjax/2.7.3/latest.js?config=default'></script>"
            ]
          },
          "metadata": {}
        },
        {
          "output_type": "execute_result",
          "data": {
            "text/plain": [
              "⎡        _____________   ⎛       _____________⎞ ⎤\n",
              "⎢       ╱           2    ⎜      ╱           2 ⎟ ⎥\n",
              "⎢-b + ╲╱  -4⋅a⋅c + b    -⎝b + ╲╱  -4⋅a⋅c + b  ⎠ ⎥\n",
              "⎢─────────────────────, ────────────────────────⎥\n",
              "⎣         2⋅a                     2⋅a           ⎦"
            ],
            "text/latex": "$\\displaystyle \\left[ \\frac{- b + \\sqrt{- 4 a c + b^{2}}}{2 a}, \\  - \\frac{b + \\sqrt{- 4 a c + b^{2}}}{2 a}\\right]$"
          },
          "metadata": {},
          "execution_count": 86
        }
      ]
    },
    {
      "cell_type": "code",
      "source": [
        "# 連立方程式\n",
        "eq1 = 3 * x + 5 * y - 29\n",
        "eq2 = x + y - 7\n",
        "\n",
        "sym.solve([eq1, eq2])"
      ],
      "metadata": {
        "colab": {
          "base_uri": "https://localhost:8080/",
          "height": 39
        },
        "id": "pdnLY2jqCYC1",
        "outputId": "8dd5560b-84a3-4be5-b946-b98b3989aef4"
      },
      "execution_count": null,
      "outputs": [
        {
          "output_type": "display_data",
          "data": {
            "text/plain": [
              "<IPython.core.display.HTML object>"
            ],
            "text/html": [
              "<script src='https://cdnjs.cloudflare.com/ajax/libs/mathjax/2.7.3/latest.js?config=default'></script>"
            ]
          },
          "metadata": {}
        },
        {
          "output_type": "execute_result",
          "data": {
            "text/plain": [
              "{x: 3, y: 4}"
            ],
            "text/latex": "$\\displaystyle \\left\\{ x : 3, \\  y : 4\\right\\}$"
          },
          "metadata": {},
          "execution_count": 87
        }
      ]
    },
    {
      "cell_type": "markdown",
      "source": [
        "# 第82章：Scipy.optimize"
      ],
      "metadata": {
        "id": "WHqwquIzCw8Z"
      }
    },
    {
      "cell_type": "code",
      "source": [
        "import math\n",
        "from scipy import optimize\n",
        "\n",
        "f = lambda x: math.exp(x) - 3 * x\n",
        "\n",
        "optimize.bisect(f, 0, 1)"
      ],
      "metadata": {
        "colab": {
          "base_uri": "https://localhost:8080/",
          "height": 37
        },
        "id": "Np9c58_UCZn3",
        "outputId": "7a6ea46d-64a8-4941-d8aa-164a42f6d35f"
      },
      "execution_count": null,
      "outputs": [
        {
          "output_type": "display_data",
          "data": {
            "text/plain": [
              "<IPython.core.display.HTML object>"
            ],
            "text/html": [
              "<script src='https://cdnjs.cloudflare.com/ajax/libs/mathjax/2.7.3/latest.js?config=default'></script>"
            ]
          },
          "metadata": {}
        },
        {
          "output_type": "execute_result",
          "data": {
            "text/plain": [
              "0.619061286737633"
            ],
            "text/latex": "$\\displaystyle 0.619061286737633$"
          },
          "metadata": {},
          "execution_count": 89
        }
      ]
    },
    {
      "cell_type": "code",
      "source": [
        "import math\n",
        "from scipy import optimize\n",
        "\n",
        "f = lambda x: math.exp(x) - 3 * x\n",
        "\n",
        "optimize.newton(f, 0)"
      ],
      "metadata": {
        "colab": {
          "base_uri": "https://localhost:8080/",
          "height": 37
        },
        "id": "CDCn5jG0DEcx",
        "outputId": "9d78e4f2-2e3a-4c3d-c29a-2bdeee172ee3"
      },
      "execution_count": null,
      "outputs": [
        {
          "output_type": "display_data",
          "data": {
            "text/plain": [
              "<IPython.core.display.HTML object>"
            ],
            "text/html": [
              "<script src='https://cdnjs.cloudflare.com/ajax/libs/mathjax/2.7.3/latest.js?config=default'></script>"
            ]
          },
          "metadata": {}
        },
        {
          "output_type": "execute_result",
          "data": {
            "text/plain": [
              "0.6190612867359452"
            ],
            "text/latex": "$\\displaystyle 0.619061286735945$"
          },
          "metadata": {},
          "execution_count": 91
        }
      ]
    },
    {
      "cell_type": "markdown",
      "source": [
        "# 第83章：Scipy.integrate"
      ],
      "metadata": {
        "id": "50wX0vrgDeiR"
      }
    },
    {
      "cell_type": "code",
      "source": [
        "import math\n",
        "from scipy import integrate\n",
        "\n",
        "f = lambda x: 4 / (x**2 + 1)\n",
        "\n",
        "integrate.quad(f, 0, 1)"
      ],
      "metadata": {
        "colab": {
          "base_uri": "https://localhost:8080/",
          "height": 38
        },
        "id": "HHvPBCWHDQXl",
        "outputId": "d2947af2-6fe2-46a6-eda2-15f999eeae09"
      },
      "execution_count": null,
      "outputs": [
        {
          "output_type": "display_data",
          "data": {
            "text/plain": [
              "<IPython.core.display.HTML object>"
            ],
            "text/html": [
              "<script src='https://cdnjs.cloudflare.com/ajax/libs/mathjax/2.7.3/latest.js?config=default'></script>"
            ]
          },
          "metadata": {}
        },
        {
          "output_type": "execute_result",
          "data": {
            "text/plain": [
              "(3.1415926535897936, 3.4878684980086326e-14)"
            ],
            "text/latex": "$\\displaystyle \\left( 3.14159265358979, \\  3.48786849800863 \\cdot 10^{-14}\\right)$"
          },
          "metadata": {},
          "execution_count": 92
        }
      ]
    },
    {
      "cell_type": "markdown",
      "source": [
        "# 第84章：Scipy.interpolate\n",
        "\n",
        "https://qiita.com/maskot1977/items/913ef108ff1e2ba5b63f"
      ],
      "metadata": {
        "id": "ZZu0ncu9D-ck"
      }
    },
    {
      "cell_type": "code",
      "source": [],
      "metadata": {
        "id": "yUx1W5y0DvyX"
      },
      "execution_count": null,
      "outputs": []
    }
  ]
}