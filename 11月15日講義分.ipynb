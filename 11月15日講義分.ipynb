{
  "nbformat": 4,
  "nbformat_minor": 0,
  "metadata": {
    "colab": {
      "provenance": [],
      "authorship_tag": "ABX9TyM/3md7Uz4w/KwF440CJmtX",
      "include_colab_link": true
    },
    "kernelspec": {
      "name": "python3",
      "display_name": "Python 3"
    },
    "language_info": {
      "name": "python"
    }
  },
  "cells": [
    {
      "cell_type": "markdown",
      "metadata": {
        "id": "view-in-github",
        "colab_type": "text"
      },
      "source": [
        "<a href=\"https://colab.research.google.com/github/maskot1977/ComputerExercises2022/blob/IL0h70f453GkRGzF/11%E6%9C%8815%E6%97%A5%E8%AC%9B%E7%BE%A9%E5%88%86.ipynb\" target=\"_parent\"><img src=\"https://colab.research.google.com/assets/colab-badge.svg\" alt=\"Open In Colab\"/></a>"
      ]
    },
    {
      "cell_type": "markdown",
      "source": [
        "# 第47章：ナップサック問題"
      ],
      "metadata": {
        "id": "9P3OVUYacx1L"
      }
    },
    {
      "cell_type": "code",
      "source": [
        "def Q47(i, w):\n",
        "    if i == n:\n",
        "        return 0\n",
        "    elif w < W[i]:\n",
        "        return Q47(i + 1, w)\n",
        "    else:\n",
        "        return max(\n",
        "            Q47(i + 1, w),\n",
        "            Q47(i + 1, w - W[i]) + V[i]\n",
        "        )"
      ],
      "metadata": {
        "id": "UnTR8RJpdlgp"
      },
      "execution_count": null,
      "outputs": []
    },
    {
      "cell_type": "code",
      "execution_count": null,
      "metadata": {
        "id": "K8JxiemQcZ1G"
      },
      "outputs": [],
      "source": [
        "n =  5\n",
        "W_capacity =  175\n",
        "W =  [95, 56, 65, 54, 32]\n",
        "V =  [79, 9, 57, 55, 27]"
      ]
    },
    {
      "cell_type": "code",
      "source": [
        "Q47(0, W_capacity)"
      ],
      "metadata": {
        "colab": {
          "base_uri": "https://localhost:8080/"
        },
        "id": "y2eO7QgVgzUA",
        "outputId": "151345a6-072b-4600-fc6a-5a35afb80eef"
      },
      "execution_count": null,
      "outputs": [
        {
          "output_type": "execute_result",
          "data": {
            "text/plain": [
              "139"
            ]
          },
          "metadata": {},
          "execution_count": 6
        }
      ]
    },
    {
      "cell_type": "code",
      "source": [
        "n =  10\n",
        "W_capacity =  492\n",
        "W =  [53, 64, 82, 93, 76, 67, 10, 6, 82, 91]\n",
        "V =  [80, 16, 30, 68, 31, 19, 50, 64, 20, 96]"
      ],
      "metadata": {
        "id": "sUtQxewUhIiu"
      },
      "execution_count": null,
      "outputs": []
    },
    {
      "cell_type": "code",
      "source": [
        "Q47(0, W_capacity)"
      ],
      "metadata": {
        "colab": {
          "base_uri": "https://localhost:8080/"
        },
        "id": "lsWDfBQFh0x5",
        "outputId": "258024f9-f468-48d8-bcfa-2c5dd0a8274c"
      },
      "execution_count": null,
      "outputs": [
        {
          "output_type": "execute_result",
          "data": {
            "text/plain": [
              "438"
            ]
          },
          "metadata": {},
          "execution_count": 8
        }
      ]
    },
    {
      "cell_type": "code",
      "source": [
        "n =  20\n",
        "W_capacity =  1371\n",
        "W =  [30, 31, 100, 83, 52, 97, 34, 70, 96, 13, 70, 89, 79, 51, 31, 93, 73, 10, 77, 31]\n",
        "V =  [31, 58, 49, 75, 1, 57, 8, 1, 35, 22, 82, 28, 61, 46, 68, 10, 32, 84, 19, 16]"
      ],
      "metadata": {
        "id": "jZgP6r30h2a1"
      },
      "execution_count": null,
      "outputs": []
    },
    {
      "cell_type": "code",
      "source": [
        "Q47(0, W_capacity)"
      ],
      "metadata": {
        "colab": {
          "base_uri": "https://localhost:8080/"
        },
        "id": "9ShT-vJvh5PQ",
        "outputId": "348c8f91-ceb4-42f5-fcb5-7a2376837991"
      },
      "execution_count": null,
      "outputs": [
        {
          "output_type": "execute_result",
          "data": {
            "text/plain": [
              "783"
            ]
          },
          "metadata": {},
          "execution_count": 10
        }
      ]
    },
    {
      "cell_type": "code",
      "source": [
        "def Q47_better(i, w):\n",
        "    if memo[i][w] >= 0:\n",
        "        return memo[i][w]\n",
        "\n",
        "    if i == n:\n",
        "        ret = 0\n",
        "    elif w < W[i]:\n",
        "        ret = Q47_better(i + 1, w)\n",
        "    else:\n",
        "        ret = max(\n",
        "            Q47_better(i + 1, w),\n",
        "            Q47_better(i + 1, w - W[i]) + V[i]\n",
        "        )\n",
        "    memo[i][w] = ret\n",
        "    return ret"
      ],
      "metadata": {
        "id": "iw9Qq9bIiJjF"
      },
      "execution_count": null,
      "outputs": []
    },
    {
      "cell_type": "code",
      "source": [
        "memo = [[-1 for _ in range(W_capacity + 1)] for _ in range(len(W) + 1)]"
      ],
      "metadata": {
        "id": "mwHrg1YujImS"
      },
      "execution_count": null,
      "outputs": []
    },
    {
      "cell_type": "code",
      "source": [
        "%%timeit\n",
        "Q47(0, W_capacity)"
      ],
      "metadata": {
        "colab": {
          "base_uri": "https://localhost:8080/"
        },
        "id": "6kLj2bUXh7mB",
        "outputId": "ae2d689b-a4f8-4236-d665-c742ae76fbd5"
      },
      "execution_count": null,
      "outputs": [
        {
          "output_type": "stream",
          "name": "stdout",
          "text": [
            "645 ms ± 5.88 ms per loop (mean ± std. dev. of 7 runs, 1 loop each)\n"
          ]
        }
      ]
    },
    {
      "cell_type": "code",
      "source": [
        "%%timeit\n",
        "memo = [[-1 for _ in range(W_capacity + 1)] for _ in range(len(W) + 1)]\n",
        "Q47_better(0, W_capacity)"
      ],
      "metadata": {
        "colab": {
          "base_uri": "https://localhost:8080/"
        },
        "id": "z9Ngyk8-i5MR",
        "outputId": "2ca00d88-bea6-4b1a-c455-92555c4597bd"
      },
      "execution_count": null,
      "outputs": [
        {
          "output_type": "stream",
          "name": "stdout",
          "text": [
            "236 ns ± 6.32 ns per loop (mean ± std. dev. of 7 runs, 1000000 loops each)\n"
          ]
        }
      ]
    },
    {
      "cell_type": "code",
      "source": [
        "n =  80\n",
        "W_capacity =  1371\n",
        "W =  [7, 32, 92, 96, 96, 77, 49, 84, 80, 22, 14, 87, 4, 61, 27, 90, 23, 98, 59, 80, 25, 45, 14, 46, 41, 72, 86, 40, 27, 97, 96, 52, 86, 85, 55, 48, 92, 69, 57, 89, 2, 63, 20, 80, 98, 85, 31, 86, 65, 87, 94, 27, 95, 43, 27, 24, 65, 9, 81, 53, 36, 43, 14, 98, 85, 9, 66, 45, 49, 10, 68, 19, 5, 61, 53, 76, 75, 75, 55, 36]\n",
        "V =  [71, 6, 45, 90, 41, 89, 5, 57, 19, 78, 79, 100, 9, 45, 84, 41, 90, 18, 100, 34, 60, 6, 7, 82, 64, 40, 17, 44, 85, 94, 33, 90, 36, 50, 46, 66, 6, 57, 36, 4, 15, 50, 23, 94, 99, 26, 33, 95, 16, 45, 6, 93, 37, 89, 13, 52, 4, 92, 86, 10, 41, 12, 85, 43, 98, 92, 57, 38, 75, 61, 66, 1, 74, 61, 91, 33, 35, 96, 13, 17]"
      ],
      "metadata": {
        "id": "zR342Dl2jAYh"
      },
      "execution_count": null,
      "outputs": []
    },
    {
      "cell_type": "code",
      "source": [
        "%%timeit\n",
        "memo = [[-1 for _ in range(W_capacity + 1)] for _ in range(len(W) + 1)]\n",
        "Q47_better(0, W_capacity)"
      ],
      "metadata": {
        "colab": {
          "base_uri": "https://localhost:8080/"
        },
        "id": "eeDWQBP_jwap",
        "outputId": "d4a39a59-5c02-4a71-8caf-1f11cfc73757"
      },
      "execution_count": null,
      "outputs": [
        {
          "output_type": "stream",
          "name": "stdout",
          "text": [
            "4.73 ms ± 114 µs per loop (mean ± std. dev. of 7 runs, 100 loops each)\n"
          ]
        }
      ]
    },
    {
      "cell_type": "code",
      "source": [
        "Q47_better(0, W_capacity)"
      ],
      "metadata": {
        "colab": {
          "base_uri": "https://localhost:8080/"
        },
        "id": "TRnUsPwujyj3",
        "outputId": "ca20d57e-0e09-4084-f491-50880da87787"
      },
      "execution_count": null,
      "outputs": [
        {
          "output_type": "execute_result",
          "data": {
            "text/plain": [
              "783"
            ]
          },
          "metadata": {},
          "execution_count": 23
        }
      ]
    },
    {
      "cell_type": "markdown",
      "source": [
        "# 第48章：個数制限なしナップサック問題"
      ],
      "metadata": {
        "id": "njmvghULku7e"
      }
    },
    {
      "cell_type": "code",
      "source": [
        "def Q48():\n",
        "    memo = [[0 for _ in range(W_capacity + 1)] for _ in range(len(W) + 1)]\n",
        "    for i in range(len(W)):\n",
        "        for w in range(W_capacity + 1):\n",
        "            if w < W[i]:\n",
        "                memo[i + 1][w] = memo[i][w]\n",
        "            else:\n",
        "                memo[i + 1][w] = max(\n",
        "                    memo[i][w],\n",
        "                    memo[i + 1][w - W[i]] + V[i]\n",
        "                )\n",
        "    return memo[len(W)][W_capacity]"
      ],
      "metadata": {
        "id": "IykxzKMpj3Bx"
      },
      "execution_count": null,
      "outputs": []
    },
    {
      "cell_type": "code",
      "source": [
        "n = 3\n",
        "W_capacity = 7\n",
        "W = [3, 4, 2]\n",
        "V = [4, 5, 3]\n",
        "Q48()"
      ],
      "metadata": {
        "colab": {
          "base_uri": "https://localhost:8080/"
        },
        "id": "Q1lo-X21lUFD",
        "outputId": "bae2d1e2-5b4e-4403-8ee7-5a397bd13ce2"
      },
      "execution_count": null,
      "outputs": [
        {
          "output_type": "execute_result",
          "data": {
            "text/plain": [
              "10"
            ]
          },
          "metadata": {},
          "execution_count": 36
        }
      ]
    },
    {
      "cell_type": "code",
      "source": [
        "n =  10\n",
        "W_capacity =  867\n",
        "W =  [28, 92, 30, 1, 40, 33, 96, 30, 38, 86]\n",
        "V =  [6, 77, 53, 91, 47, 33, 28, 28, 78, 36]\n",
        "Q48()"
      ],
      "metadata": {
        "colab": {
          "base_uri": "https://localhost:8080/"
        },
        "id": "-dXIiQazlpCT",
        "outputId": "745bbf4f-0e19-4d18-f765-2fbe269d5a11"
      },
      "execution_count": null,
      "outputs": [
        {
          "output_type": "execute_result",
          "data": {
            "text/plain": [
              "78897"
            ]
          },
          "metadata": {},
          "execution_count": 37
        }
      ]
    },
    {
      "cell_type": "code",
      "source": [
        "n =  20\n",
        "W_capacity = 1272\n",
        "W =  [10, 87, 38, 74, 19, 93, 34, 24, 63, 12, 31, 99, 45, 4, 22, 81, 50, 75, 36, 20]\n",
        "V =  [1, 96, 33, 97, 58, 31, 68, 60, 23, 60, 27, 7, 24, 70, 60, 73, 11, 88, 87, 71]\n",
        "Q48()"
      ],
      "metadata": {
        "colab": {
          "base_uri": "https://localhost:8080/"
        },
        "id": "tCMiR9-2mAD5",
        "outputId": "bda7348c-c821-4733-cd44-68d444ea49a3"
      },
      "execution_count": null,
      "outputs": [
        {
          "output_type": "execute_result",
          "data": {
            "text/plain": [
              "22260"
            ]
          },
          "metadata": {},
          "execution_count": 38
        }
      ]
    },
    {
      "cell_type": "markdown",
      "source": [
        "# 第49章：最長共通部分列問題"
      ],
      "metadata": {
        "id": "kwZ6ej_ZmwPr"
      }
    },
    {
      "cell_type": "code",
      "source": [
        "def Q49(X, Y):\n",
        "    memo = [[0 for _ in range(len(Y) + 1)] for _ in range(len(X) + 1)]\n",
        "    for i in range(len(X)):\n",
        "        for j in range(len(Y)):\n",
        "            if X[i] == Y[j]:\n",
        "                memo[i + 1][j + 1] = memo[i][j] + 1\n",
        "            else:\n",
        "                memo[i + 1][j + 1] = max(\n",
        "                    memo[i][j + 1],\n",
        "                    memo[i + 1][j]\n",
        "                    )\n",
        "    return memo[len(X)][len(Y)]"
      ],
      "metadata": {
        "id": "tAv7NRurmjDR"
      },
      "execution_count": null,
      "outputs": []
    },
    {
      "cell_type": "code",
      "source": [
        "s = \"pencil\"\n",
        "t = \"penguin\"\n",
        "Q49(s, t)"
      ],
      "metadata": {
        "colab": {
          "base_uri": "https://localhost:8080/"
        },
        "id": "05rSrNNcngCh",
        "outputId": "e0695837-c802-4517-b5c9-1bf2b2b95f90"
      },
      "execution_count": null,
      "outputs": [
        {
          "output_type": "execute_result",
          "data": {
            "text/plain": [
              "4"
            ]
          },
          "metadata": {},
          "execution_count": 47
        }
      ]
    },
    {
      "cell_type": "code",
      "source": [
        "s = \"dreamingly\"\n",
        "t = \"dreadfully\"\n",
        "Q49(s, t)"
      ],
      "metadata": {
        "colab": {
          "base_uri": "https://localhost:8080/"
        },
        "id": "TIK1P0LPn10q",
        "outputId": "0e4cf8a0-4273-4aa5-ddbf-e58294b05df0"
      },
      "execution_count": null,
      "outputs": [
        {
          "output_type": "execute_result",
          "data": {
            "text/plain": [
              "6"
            ]
          },
          "metadata": {},
          "execution_count": 48
        }
      ]
    },
    {
      "cell_type": "markdown",
      "source": [
        "# 第50章：整列"
      ],
      "metadata": {
        "id": "vGhbrR32pae7"
      }
    },
    {
      "cell_type": "code",
      "source": [
        "!wget https://raw.githubusercontent.com/maskot1977/ipython_notebook/master/toydata/islands.txt"
      ],
      "metadata": {
        "colab": {
          "base_uri": "https://localhost:8080/"
        },
        "id": "WivjGbjcoUaO",
        "outputId": "ca6b8eeb-647d-428e-8591-c12451c626f1"
      },
      "execution_count": null,
      "outputs": [
        {
          "output_type": "stream",
          "name": "stdout",
          "text": [
            "--2022-11-15 00:17:32--  https://raw.githubusercontent.com/maskot1977/ipython_notebook/master/toydata/islands.txt\n",
            "Resolving raw.githubusercontent.com (raw.githubusercontent.com)... 185.199.108.133, 185.199.111.133, 185.199.110.133, ...\n",
            "Connecting to raw.githubusercontent.com (raw.githubusercontent.com)|185.199.108.133|:443... connected.\n",
            "HTTP request sent, awaiting response... 200 OK\n",
            "Length: 671 [text/plain]\n",
            "Saving to: ‘islands.txt’\n",
            "\n",
            "\rislands.txt           0%[                    ]       0  --.-KB/s               \rislands.txt         100%[===================>]     671  --.-KB/s    in 0s      \n",
            "\n",
            "2022-11-15 00:17:33 (39.8 MB/s) - ‘islands.txt’ saved [671/671]\n",
            "\n"
          ]
        }
      ]
    },
    {
      "cell_type": "code",
      "source": [
        "data = []\n",
        "for line in open(\"islands.txt\"):\n",
        "    c = line.split(\"\\t\")\n",
        "    data.append([c[0], int(c[1])])"
      ],
      "metadata": {
        "id": "udVx49YrpfJ-"
      },
      "execution_count": null,
      "outputs": []
    },
    {
      "cell_type": "code",
      "source": [
        "data"
      ],
      "metadata": {
        "id": "qXz3GPAdppt_",
        "colab": {
          "base_uri": "https://localhost:8080/"
        },
        "outputId": "4d5be0c6-a8ab-4aa0-a063-dc5e726140b1"
      },
      "execution_count": null,
      "outputs": [
        {
          "output_type": "execute_result",
          "data": {
            "text/plain": [
              "[['Africa', 11506],\n",
              " ['Antarctica', 5500],\n",
              " ['Asia', 16988],\n",
              " ['Australia', 2968],\n",
              " ['Axel Heiberg', 16],\n",
              " ['Baffin', 184],\n",
              " ['Banks', 23],\n",
              " ['Borneo', 280],\n",
              " ['Britain', 84],\n",
              " ['Celebes', 73],\n",
              " ['Celon', 25],\n",
              " ['Cuba', 43],\n",
              " ['Devon', 21],\n",
              " ['Ellesmere', 82],\n",
              " ['Europe', 3745],\n",
              " ['Greenland', 840],\n",
              " ['Hainan', 13],\n",
              " ['Hispaniola', 30],\n",
              " ['Hokkaido', 30],\n",
              " ['Honshu', 89],\n",
              " ['Iceland', 40],\n",
              " ['Ireland', 33],\n",
              " ['Java', 49],\n",
              " ['Kyushu', 14],\n",
              " ['Luzon', 42],\n",
              " ['Madagascar', 227],\n",
              " ['Melville', 16],\n",
              " ['Mindanao', 36],\n",
              " ['Moluccas', 29],\n",
              " ['New Britain', 15],\n",
              " ['New Guinea', 306],\n",
              " ['New Zealand (N)', 44],\n",
              " ['New Zealand (S)', 58],\n",
              " ['Newfoundland', 43],\n",
              " ['North America', 9390],\n",
              " ['Novaya Zemlya', 32],\n",
              " ['Prince of Wales', 13],\n",
              " ['Sakhalin', 29],\n",
              " ['South America', 6795],\n",
              " ['Southampton', 16],\n",
              " ['Spitsbergen', 15],\n",
              " ['Sumatra', 183],\n",
              " ['Taiwan', 14],\n",
              " ['Tasmania', 26],\n",
              " ['Tierra del Fuego', 19],\n",
              " ['Timor', 13],\n",
              " ['Vancouver', 12],\n",
              " ['Victoria', 82]]"
            ]
          },
          "metadata": {},
          "execution_count": 67
        }
      ]
    },
    {
      "cell_type": "code",
      "source": [
        "def bubble_sort(data):\n",
        "    for i in range(len(data)):\n",
        "        for j in range(len(data) - 1, i, -1):\n",
        "            if data[j - 1][1] < data[j][1]:\n",
        "                data[j - 1][0], data[j][0] = data[j][0], data[j - 1][0]\n",
        "                data[j - 1][1], data[j][1] = data[j][1], data[j - 1][1]\n",
        "    return data"
      ],
      "metadata": {
        "id": "0muIt1DRqCdX"
      },
      "execution_count": null,
      "outputs": []
    },
    {
      "cell_type": "code",
      "source": [
        "%%timeit\n",
        "data = []\n",
        "for line in open(\"islands.txt\"):\n",
        "    c = line.split(\"\\t\")\n",
        "    data.append([c[0], int(c[1])])\n",
        "bubble_sort(data)"
      ],
      "metadata": {
        "colab": {
          "base_uri": "https://localhost:8080/"
        },
        "id": "PI5Xh5AhrPls",
        "outputId": "62beb5d9-d044-4ffc-99c7-9809191a8969"
      },
      "execution_count": null,
      "outputs": [
        {
          "output_type": "stream",
          "name": "stdout",
          "text": [
            "400 µs ± 11.3 µs per loop (mean ± std. dev. of 7 runs, 1000 loops each)\n"
          ]
        }
      ]
    },
    {
      "cell_type": "code",
      "source": [
        "data"
      ],
      "metadata": {
        "colab": {
          "base_uri": "https://localhost:8080/"
        },
        "id": "wZIjlCLxrTdU",
        "outputId": "b6f08620-0cd3-4c65-93af-3a4b516af457"
      },
      "execution_count": null,
      "outputs": [
        {
          "output_type": "execute_result",
          "data": {
            "text/plain": [
              "[['Asia', 16988],\n",
              " ['Africa', 11506],\n",
              " ['North America', 9390],\n",
              " ['South America', 6795],\n",
              " ['Antarctica', 5500],\n",
              " ['Europe', 3745],\n",
              " ['Australia', 2968],\n",
              " ['Greenland', 840],\n",
              " ['New Guinea', 306],\n",
              " ['Borneo', 280],\n",
              " ['Madagascar', 227],\n",
              " ['Baffin', 184],\n",
              " ['Sumatra', 183],\n",
              " ['Honshu', 89],\n",
              " ['Britain', 84],\n",
              " ['Ellesmere', 82],\n",
              " ['Victoria', 82],\n",
              " ['Celebes', 73],\n",
              " ['New Zealand (S)', 58],\n",
              " ['Java', 49],\n",
              " ['New Zealand (N)', 44],\n",
              " ['Cuba', 43],\n",
              " ['Newfoundland', 43],\n",
              " ['Luzon', 42],\n",
              " ['Iceland', 40],\n",
              " ['Mindanao', 36],\n",
              " ['Ireland', 33],\n",
              " ['Novaya Zemlya', 32],\n",
              " ['Hispaniola', 30],\n",
              " ['Hokkaido', 30],\n",
              " ['Moluccas', 29],\n",
              " ['Sakhalin', 29],\n",
              " ['Tasmania', 26],\n",
              " ['Celon', 25],\n",
              " ['Banks', 23],\n",
              " ['Devon', 21],\n",
              " ['Tierra del Fuego', 19],\n",
              " ['Axel Heiberg', 16],\n",
              " ['Melville', 16],\n",
              " ['Southampton', 16],\n",
              " ['New Britain', 15],\n",
              " ['Spitsbergen', 15],\n",
              " ['Kyushu', 14],\n",
              " ['Taiwan', 14],\n",
              " ['Hainan', 13],\n",
              " ['Prince of Wales', 13],\n",
              " ['Timor', 13],\n",
              " ['Vancouver', 12]]"
            ]
          },
          "metadata": {},
          "execution_count": 63
        }
      ]
    },
    {
      "cell_type": "code",
      "source": [
        "data = []\n",
        "for line in open(\"islands.txt\"):\n",
        "    c = line.split(\"\\t\")\n",
        "    data.append([c[0], int(c[1])])"
      ],
      "metadata": {
        "id": "n1R-Di42rVJI"
      },
      "execution_count": null,
      "outputs": []
    },
    {
      "cell_type": "code",
      "source": [
        "data"
      ],
      "metadata": {
        "colab": {
          "base_uri": "https://localhost:8080/"
        },
        "id": "VCtR-kRDrWQP",
        "outputId": "fc2c727a-84c5-4f6b-8b1e-5d3f572d639f"
      },
      "execution_count": null,
      "outputs": [
        {
          "output_type": "execute_result",
          "data": {
            "text/plain": [
              "[['Africa', 11506],\n",
              " ['Antarctica', 5500],\n",
              " ['Asia', 16988],\n",
              " ['Australia', 2968],\n",
              " ['Axel Heiberg', 16],\n",
              " ['Baffin', 184],\n",
              " ['Banks', 23],\n",
              " ['Borneo', 280],\n",
              " ['Britain', 84],\n",
              " ['Celebes', 73],\n",
              " ['Celon', 25],\n",
              " ['Cuba', 43],\n",
              " ['Devon', 21],\n",
              " ['Ellesmere', 82],\n",
              " ['Europe', 3745],\n",
              " ['Greenland', 840],\n",
              " ['Hainan', 13],\n",
              " ['Hispaniola', 30],\n",
              " ['Hokkaido', 30],\n",
              " ['Honshu', 89],\n",
              " ['Iceland', 40],\n",
              " ['Ireland', 33],\n",
              " ['Java', 49],\n",
              " ['Kyushu', 14],\n",
              " ['Luzon', 42],\n",
              " ['Madagascar', 227],\n",
              " ['Melville', 16],\n",
              " ['Mindanao', 36],\n",
              " ['Moluccas', 29],\n",
              " ['New Britain', 15],\n",
              " ['New Guinea', 306],\n",
              " ['New Zealand (N)', 44],\n",
              " ['New Zealand (S)', 58],\n",
              " ['Newfoundland', 43],\n",
              " ['North America', 9390],\n",
              " ['Novaya Zemlya', 32],\n",
              " ['Prince of Wales', 13],\n",
              " ['Sakhalin', 29],\n",
              " ['South America', 6795],\n",
              " ['Southampton', 16],\n",
              " ['Spitsbergen', 15],\n",
              " ['Sumatra', 183],\n",
              " ['Taiwan', 14],\n",
              " ['Tasmania', 26],\n",
              " ['Tierra del Fuego', 19],\n",
              " ['Timor', 13],\n",
              " ['Vancouver', 12],\n",
              " ['Victoria', 82]]"
            ]
          },
          "metadata": {},
          "execution_count": 75
        }
      ]
    },
    {
      "cell_type": "code",
      "source": [
        "def selection_sort(data):\n",
        "    for i in range(0, len(data) - 1):\n",
        "        max_ = i\n",
        "        for j in range(i + 1, len(data)):\n",
        "            if data[max_][1] < data[j][1]:\n",
        "                max_ = j\n",
        "        data[max_], data[i] = data[i], data[max_]\n",
        "    return data"
      ],
      "metadata": {
        "id": "4aFr_c64rYBy"
      },
      "execution_count": null,
      "outputs": []
    },
    {
      "cell_type": "code",
      "source": [
        "%%timeit\n",
        "data = []\n",
        "for line in open(\"islands.txt\"):\n",
        "    c = line.split(\"\\t\")\n",
        "    data.append([c[0], int(c[1])])\n",
        "selection_sort(data)"
      ],
      "metadata": {
        "colab": {
          "base_uri": "https://localhost:8080/"
        },
        "id": "dbZr5KOSrZRv",
        "outputId": "a4f2eccb-f0c1-4602-de46-b3e0c2af737d"
      },
      "execution_count": null,
      "outputs": [
        {
          "output_type": "stream",
          "name": "stdout",
          "text": [
            "298 µs ± 81.3 µs per loop (mean ± std. dev. of 7 runs, 1000 loops each)\n"
          ]
        }
      ]
    },
    {
      "cell_type": "code",
      "source": [
        "def insertion_sort(data):\n",
        "    for i in range(len(data) - 1):\n",
        "        j = i + 1\n",
        "        while i >= 0:\n",
        "            if data[j][1] > data[i][1]:\n",
        "                data[i], data[j] = data[j], data[i]\n",
        "                i -= 1\n",
        "                j -= 1\n",
        "            else:\n",
        "                break\n",
        "    return data"
      ],
      "metadata": {
        "id": "wgjO-MHPuHvu"
      },
      "execution_count": null,
      "outputs": []
    },
    {
      "cell_type": "code",
      "source": [
        "%%timeit\n",
        "data = []\n",
        "for line in open(\"islands.txt\"):\n",
        "    c = line.split(\"\\t\")\n",
        "    data.append([c[0], int(c[1])])\n",
        "insertion_sort(data)"
      ],
      "metadata": {
        "colab": {
          "base_uri": "https://localhost:8080/"
        },
        "id": "C9vjydcauiR_",
        "outputId": "59433a8c-e7cf-465a-daf1-4c34919fe1c0"
      },
      "execution_count": null,
      "outputs": [
        {
          "output_type": "stream",
          "name": "stdout",
          "text": [
            "198 µs ± 1.73 µs per loop (mean ± std. dev. of 7 runs, 10000 loops each)\n"
          ]
        }
      ]
    },
    {
      "cell_type": "code",
      "source": [
        "def quick_sort(data):\n",
        "    bigger = []\n",
        "    smaller = []\n",
        "    pivots = []\n",
        "    if len(data) <= 1:\n",
        "        return data\n",
        "    \n",
        "    pivot = data[0][1]\n",
        "    for i in range(len(data)):\n",
        "        if data[i][1] > pivot:\n",
        "            bigger.append(data[i])\n",
        "        elif data[i][1] < pivot:\n",
        "            smaller.append(data[i])\n",
        "        else:\n",
        "            pivots.append(data[i])\n",
        "    \n",
        "    bigger = quick_sort(bigger)\n",
        "    smaller = quick_sort(smaller)\n",
        "\n",
        "    return bigger + pivots + smaller"
      ],
      "metadata": {
        "id": "tFaIM7FpvBWk"
      },
      "execution_count": null,
      "outputs": []
    },
    {
      "cell_type": "code",
      "source": [
        "%%timeit\n",
        "data = []\n",
        "for line in open(\"islands.txt\"):\n",
        "    c = line.split(\"\\t\")\n",
        "    data.append([c[0], int(c[1])])\n",
        "quick_sort(data)"
      ],
      "metadata": {
        "colab": {
          "base_uri": "https://localhost:8080/"
        },
        "id": "nTCa4bLxv6MR",
        "outputId": "79002789-f71d-495c-9c35-2698ee93088a"
      },
      "execution_count": null,
      "outputs": [
        {
          "output_type": "stream",
          "name": "stdout",
          "text": [
            "166 µs ± 6.72 µs per loop (mean ± std. dev. of 7 runs, 1000 loops each)\n"
          ]
        }
      ]
    },
    {
      "cell_type": "markdown",
      "source": [
        "# 第51章：二次元ユークリッド座標の回転行列"
      ],
      "metadata": {
        "id": "OcQVJGvfwbjv"
      }
    },
    {
      "cell_type": "code",
      "source": [
        "import math\n",
        "def rotation(P, t):\n",
        "    t = t * math.pi / 180\n",
        "    a = [[math.cos(t), -math.sin(t)],\n",
        "         [math.sin(t), math.cos(t)]]\n",
        "    ax = [\n",
        "        P[0] * a[0][0] + P[1] * a[0][1],\n",
        "        P[0] * a[1][0] + P[1] * a[1][1]\n",
        "    ]\n",
        "    return ax"
      ],
      "metadata": {
        "id": "emZ6HFJxwbUG"
      },
      "execution_count": null,
      "outputs": []
    },
    {
      "cell_type": "code",
      "source": [
        "P = [1, 0]\n",
        "t = 45\n",
        "rotation(P, t)"
      ],
      "metadata": {
        "colab": {
          "base_uri": "https://localhost:8080/"
        },
        "id": "2UhTrv6fxM8F",
        "outputId": "e567c685-4f3a-4fa5-f81e-b8d94ddde1c6"
      },
      "execution_count": null,
      "outputs": [
        {
          "output_type": "execute_result",
          "data": {
            "text/plain": [
              "[0.7071067811865476, 0.7071067811865475]"
            ]
          },
          "metadata": {},
          "execution_count": 89
        }
      ]
    },
    {
      "cell_type": "code",
      "source": [
        "P = [0, 1]\n",
        "t = 30\n",
        "rotation(P, t)"
      ],
      "metadata": {
        "colab": {
          "base_uri": "https://localhost:8080/"
        },
        "id": "Kf2aDCy4xV46",
        "outputId": "31ebd358-6b20-43de-af55-5b96a9e59118"
      },
      "execution_count": null,
      "outputs": [
        {
          "output_type": "execute_result",
          "data": {
            "text/plain": [
              "[-0.49999999999999994, 0.8660254037844387]"
            ]
          },
          "metadata": {},
          "execution_count": 90
        }
      ]
    },
    {
      "cell_type": "markdown",
      "source": [
        "# 第52章：正多角形"
      ],
      "metadata": {
        "id": "-0KKG6zgwYYZ"
      }
    },
    {
      "cell_type": "code",
      "source": [
        "def polygon(P0, n):\n",
        "    angle = 360 / n\n",
        "    P = [P0]\n",
        "    for i in range(n):\n",
        "        x = rotation(P[i], angle)\n",
        "        P.append(x)\n",
        "    return P"
      ],
      "metadata": {
        "id": "xJ_gSUEzxl9M"
      },
      "execution_count": null,
      "outputs": []
    },
    {
      "cell_type": "code",
      "source": [
        "import matplotlib.pyplot as plt\n",
        "P = [0, 1]\n",
        "n = 5\n",
        "points = polygon(P, n)\n",
        "plt.figure(figsize=(4,4))\n",
        "plt.plot([p[0] for p in points], [p[1] for p in points])\n",
        "plt.show()"
      ],
      "metadata": {
        "colab": {
          "base_uri": "https://localhost:8080/",
          "height": 265
        },
        "id": "tjjqifjUyBXL",
        "outputId": "b5b19f1e-72aa-46c6-b046-107eb50a6a4b"
      },
      "execution_count": null,
      "outputs": [
        {
          "output_type": "display_data",
          "data": {
            "text/plain": [
              "<Figure size 288x288 with 1 Axes>"
            ],
            "image/png": "[encoded data removed]"
          },
          "metadata": {
            "needs_background": "light"
          }
        }
      ]
    },
    {
      "cell_type": "code",
      "source": [
        "import matplotlib.pyplot as plt\n",
        "P = [0, 1]\n",
        "n = 7\n",
        "points = polygon(P, n)\n",
        "plt.figure(figsize=(4,4))\n",
        "plt.plot([p[0] for p in points], [p[1] for p in points])\n",
        "plt.show()"
      ],
      "metadata": {
        "colab": {
          "base_uri": "https://localhost:8080/",
          "height": 265
        },
        "id": "-haNsYyvynsD",
        "outputId": "851c0616-2193-4dfc-ebd0-f39d43a25e8a"
      },
      "execution_count": null,
      "outputs": [
        {
          "output_type": "display_data",
          "data": {
            "text/plain": [
              "<Figure size 288x288 with 1 Axes>"
            ],
            "image/png": "[encoded data removed]"
          },
          "metadata": {
            "needs_background": "light"
          }
        }
      ]
    },
    {
      "cell_type": "markdown",
      "source": [
        "# 第53章：芒星図形"
      ],
      "metadata": {
        "id": "fDHBCXBGxlvI"
      }
    },
    {
      "cell_type": "code",
      "source": [
        "def star(P0, n):\n",
        "    angle = 360 / n\n",
        "    P = [P0]\n",
        "    for i in range(n):\n",
        "        x = rotation(P[i], angle * 2)\n",
        "        P.append(x)\n",
        "    return P"
      ],
      "metadata": {
        "id": "ycY_XEa5zCaV"
      },
      "execution_count": null,
      "outputs": []
    },
    {
      "cell_type": "code",
      "source": [
        "import matplotlib.pyplot as plt\n",
        "P = [0, 1]\n",
        "n = 5\n",
        "points = star(P, n)\n",
        "plt.figure(figsize=(4,4))\n",
        "plt.plot([p[0] for p in points], [p[1] for p in points])\n",
        "plt.show()"
      ],
      "metadata": {
        "colab": {
          "base_uri": "https://localhost:8080/",
          "height": 265
        },
        "id": "dvDn_LUIzS2j",
        "outputId": "2232c4eb-07bd-405e-bcda-0d9e5c230953"
      },
      "execution_count": null,
      "outputs": [
        {
          "output_type": "display_data",
          "data": {
            "text/plain": [
              "<Figure size 288x288 with 1 Axes>"
            ],
            "image/png": "[encoded data removed]"
          },
          "metadata": {
            "needs_background": "light"
          }
        }
      ]
    },
    {
      "cell_type": "code",
      "source": [
        "def star2(P0, n, m):\n",
        "    angle = 360 / n\n",
        "    P = [P0]\n",
        "    for i in range(n):\n",
        "        x = rotation(P[i], angle * m)\n",
        "        P.append(x)\n",
        "    return P"
      ],
      "metadata": {
        "id": "P-wAdr8UzgBJ"
      },
      "execution_count": null,
      "outputs": []
    },
    {
      "cell_type": "code",
      "source": [
        "import matplotlib.pyplot as plt\n",
        "P = [0, 1]\n",
        "n = 19\n",
        "m = 10\n",
        "points = star2(P, n, m)\n",
        "plt.figure(figsize=(4,4))\n",
        "plt.plot([p[0] for p in points], [p[1] for p in points])\n",
        "plt.show()"
      ],
      "metadata": {
        "colab": {
          "base_uri": "https://localhost:8080/",
          "height": 265
        },
        "id": "vKovGByCzov8",
        "outputId": "b611c0b9-d890-4805-e2ae-de5f2b82db20"
      },
      "execution_count": null,
      "outputs": [
        {
          "output_type": "display_data",
          "data": {
            "text/plain": [
              "<Figure size 288x288 with 1 Axes>"
            ],
            "image/png": "[encoded data removed]"
          },
          "metadata": {
            "needs_background": "light"
          }
        }
      ]
    },
    {
      "cell_type": "code",
      "source": [
        "import matplotlib.pyplot as plt\n",
        "P = [0, 1]\n",
        "n = 19\n",
        "\n",
        "plt.figure(figsize=(4,4))\n",
        "for m in [2, 3, 4, 5, 6, 7, 8, 9, 10]:\n",
        "    points = star2(P, n, m)\n",
        "    plt.plot([p[0] for p in points], [p[1] for p in points])\n",
        "plt.show()"
      ],
      "metadata": {
        "colab": {
          "base_uri": "https://localhost:8080/",
          "height": 265
        },
        "id": "EtFY5Nvt0dNN",
        "outputId": "7a466303-21e6-4532-abba-f61f1471ebcd"
      },
      "execution_count": null,
      "outputs": [
        {
          "output_type": "display_data",
          "data": {
            "text/plain": [
              "<Figure size 288x288 with 1 Axes>"
            ],
            "image/png": "[encoded data removed]"
          },
          "metadata": {
            "needs_background": "light"
          }
        }
      ]
    },
    {
      "cell_type": "markdown",
      "source": [
        "# 第54章：二分探索"
      ],
      "metadata": {
        "id": "2dJd0pI_rO9m"
      }
    },
    {
      "cell_type": "code",
      "source": [
        "def Q54(a, k):\n",
        "    lower = -1\n",
        "    upper = len(a)\n",
        "    while (upper - lower) > 1:\n",
        "        mid = int((lower + upper) / 2)\n",
        "        if a[mid] >= k:\n",
        "            upper = mid\n",
        "        else:\n",
        "            lower = mid\n",
        "    return upper"
      ],
      "metadata": {
        "id": "A3EcbZBZq6IR"
      },
      "execution_count": null,
      "outputs": []
    },
    {
      "cell_type": "code",
      "source": [
        "n =  8\n",
        "a =  [3, 4, 4, 4, 7, 9, 10, 10]\n",
        "k =  8\n",
        "Q54(a, k)"
      ],
      "metadata": {
        "colab": {
          "base_uri": "https://localhost:8080/"
        },
        "id": "KM06kjKd1YSV",
        "outputId": "852cb037-3e3e-4e9d-ec61-a0ea2ebd8c67"
      },
      "execution_count": null,
      "outputs": [
        {
          "output_type": "execute_result",
          "data": {
            "text/plain": [
              "5"
            ]
          },
          "metadata": {},
          "execution_count": 110
        }
      ]
    },
    {
      "cell_type": "code",
      "source": [
        "n =  8\n",
        "a =  [3, 4, 4, 4, 7, 9, 10, 10]\n",
        "k =  4\n",
        "Q54(a, k)"
      ],
      "metadata": {
        "colab": {
          "base_uri": "https://localhost:8080/"
        },
        "id": "HoHQ14bA1vCC",
        "outputId": "49c33036-9dc6-4dea-b244-ac55689cbcf1"
      },
      "execution_count": null,
      "outputs": [
        {
          "output_type": "execute_result",
          "data": {
            "text/plain": [
              "1"
            ]
          },
          "metadata": {},
          "execution_count": 111
        }
      ]
    },
    {
      "cell_type": "code",
      "source": [
        "n =  8\n",
        "a =  [3, 4, 4, 4, 7, 9, 10, 10]\n",
        "k =  0\n",
        "Q54(a, k)"
      ],
      "metadata": {
        "colab": {
          "base_uri": "https://localhost:8080/"
        },
        "id": "sn9hY9-i1yyE",
        "outputId": "85378da0-119a-4804-b1b1-e4d8268e24ec"
      },
      "execution_count": null,
      "outputs": [
        {
          "output_type": "execute_result",
          "data": {
            "text/plain": [
              "0"
            ]
          },
          "metadata": {},
          "execution_count": 112
        }
      ]
    },
    {
      "cell_type": "code",
      "source": [],
      "metadata": {
        "id": "PXiDZZkE120j"
      },
      "execution_count": null,
      "outputs": []
    }
  ]
}