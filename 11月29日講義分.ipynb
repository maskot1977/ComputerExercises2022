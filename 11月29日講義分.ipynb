{
  "cells": [
    {
      "cell_type": "markdown",
      "metadata": {
        "id": "view-in-github",
        "colab_type": "text"
      },
      "source": [
        "<a href=\"https://colab.research.google.com/github/maskot1977/ComputerExercises2022/blob/Zxg4E0BLDFHSpCM8/11%E6%9C%8829%E6%97%A5%E8%AC%9B%E7%BE%A9%E5%88%86.ipynb\" target=\"_parent\"><img src=\"https://colab.research.google.com/assets/colab-badge.svg\" alt=\"Open In Colab\"/></a>"
      ]
    },
    {
      "cell_type": "markdown",
      "metadata": {
        "id": "KRcjAGbIi2_B"
      },
      "source": [
        "# 第５５章"
      ]
    },
    {
      "cell_type": "code",
      "execution_count": null,
      "metadata": {
        "id": "81Tuo8C0fQWp"
      },
      "outputs": [],
      "source": [
        "import math\n",
        "def get_num(x, k, L): # 長さ x を決めた時に何本得られるか\n",
        "    num = 0\n",
        "    for l in L:\n",
        "        num += math.floor(l / x)\n",
        "    return num"
      ]
    },
    {
      "cell_type": "code",
      "execution_count": null,
      "metadata": {
        "colab": {
          "base_uri": "https://localhost:8080/"
        },
        "id": "DwhVVdgPmH17",
        "outputId": "62bb9bb7-5131-4c6b-da05-da6187221255"
      },
      "outputs": [
        {
          "data": {
            "text/plain": [
              "1"
            ]
          },
          "execution_count": 68,
          "metadata": {},
          "output_type": "execute_result"
        }
      ],
      "source": [
        "n =  3\n",
        "k =  2\n",
        "L =  [7.47, 6.66, 4.11]\n",
        "get_num(7, k, L)"
      ]
    },
    {
      "cell_type": "code",
      "execution_count": null,
      "metadata": {
        "id": "TmCNWPRxmqMj"
      },
      "outputs": [],
      "source": [
        "def q55(k, L):\n",
        "    lower = 0\n",
        "    upper = sum(L) / k\n",
        "    for _ in range(1000):\n",
        "        mid = (upper + lower)/2\n",
        "        if get_num(mid, k, L) >= k:\n",
        "            lower = mid\n",
        "        else:\n",
        "            upper = mid\n",
        "    return math.floor(mid * 100)/100\n"
      ]
    },
    {
      "cell_type": "code",
      "execution_count": null,
      "metadata": {
        "colab": {
          "base_uri": "https://localhost:8080/"
        },
        "id": "NWwEzN8inDrp",
        "outputId": "9c3581e1-0946-4f60-c161-43913d9d238c"
      },
      "outputs": [
        {
          "data": {
            "text/plain": [
              "6.66"
            ]
          },
          "execution_count": 70,
          "metadata": {},
          "output_type": "execute_result"
        }
      ],
      "source": [
        "n =  3\n",
        "k =  2\n",
        "L =  [7.47, 6.66, 4.11]\n",
        "q55(k, L)"
      ]
    },
    {
      "cell_type": "code",
      "execution_count": null,
      "metadata": {
        "colab": {
          "base_uri": "https://localhost:8080/"
        },
        "id": "j-BHKaxxntlm",
        "outputId": "430a9014-5cc4-4440-b746-c11a3fe537e0"
      },
      "outputs": [
        {
          "data": {
            "text/plain": [
              "2.04"
            ]
          },
          "execution_count": 71,
          "metadata": {},
          "output_type": "execute_result"
        }
      ],
      "source": [
        "n =  4\n",
        "k =  5\n",
        "L =  [2.86, 2.69, 2.05, 5.23]\n",
        "q55(k, L)"
      ]
    },
    {
      "cell_type": "code",
      "execution_count": null,
      "metadata": {
        "colab": {
          "base_uri": "https://localhost:8080/"
        },
        "id": "kKLjCXavn67a",
        "outputId": "f5832f52-758c-4276-c2b5-f16fe993d75e"
      },
      "outputs": [
        {
          "data": {
            "text/plain": [
              "3.16"
            ]
          },
          "execution_count": 72,
          "metadata": {},
          "output_type": "execute_result"
        }
      ],
      "source": [
        "n =  5\n",
        "k =  9\n",
        "L =  [6.33, 3.18, 6.92, 9.38, 8.96]\n",
        "q55(k, L)"
      ]
    },
    {
      "cell_type": "markdown",
      "metadata": {
        "id": "3iNbBHAcoaEN"
      },
      "source": [
        "# 第56章：連立一次方程式"
      ]
    },
    {
      "cell_type": "code",
      "execution_count": null,
      "metadata": {
        "id": "brk9LGO0n-Rk"
      },
      "outputs": [],
      "source": [
        "A = [\n",
        "    [1, 5, 1, -1],\n",
        "    [3, 2, 7, 1],\n",
        "    [4, 1, 3, -2],\n",
        "    [1, 6, 4, 3]\n",
        "]\n",
        "b = [5, 8, 7, 13]"
      ]
    },
    {
      "cell_type": "code",
      "execution_count": null,
      "metadata": {
        "id": "MwcckFPQpANF"
      },
      "outputs": [],
      "source": [
        "def q56(A, b):\n",
        "    for i in range(len(A) - 1):\n",
        "        for j in range(i + 1, len(A)):\n",
        "            if i == j:\n",
        "                coeff = 1\n",
        "            else:\n",
        "                coeff = A[j][i] / A[i][i]\n",
        "            \n",
        "            for k in range(len(A[j])):\n",
        "                A[j][k] -= A[i][k] * coeff\n",
        "            \n",
        "            b[j] -= b[i] * coeff\n",
        "    \n",
        "    for i in range(len(A) - 1, 0, -1):\n",
        "        b[i] /= A[i][i]\n",
        "        if k in range(len(A[i])):\n",
        "            if i == k:\n",
        "                A[i][k] = 1\n",
        "            else:\n",
        "                A[i][k] /= A[i][i]\n",
        "        \n",
        "        for j in range(i):\n",
        "            b[j] -= b[i] * A[j][i]\n",
        "            A[j][i] = 0\n",
        "\n",
        "    return A, b"
      ]
    },
    {
      "cell_type": "code",
      "execution_count": null,
      "metadata": {
        "colab": {
          "base_uri": "https://localhost:8080/"
        },
        "id": "0Y5qZqhNqjks",
        "outputId": "636b58f5-aa6f-4a80-ad55-f78bde73dd97"
      },
      "outputs": [
        {
          "data": {
            "text/plain": [
              "([[1, 0, 0, 0],\n",
              "  [0.0, -13.0, 0, -0.0],\n",
              "  [0.0, 0.0, -6.846153846153846, -0.0],\n",
              "  [0.0, 0.0, 0.0, 1]],\n",
              " [3.5, 1.0, -0.9999999999999999, 2.5])"
            ]
          },
          "execution_count": 75,
          "metadata": {},
          "output_type": "execute_result"
        }
      ],
      "source": [
        "q56(A, b)"
      ]
    },
    {
      "cell_type": "code",
      "execution_count": null,
      "metadata": {
        "id": "awj1VjqOqnaA"
      },
      "outputs": [],
      "source": [
        "# バグが取れない"
      ]
    },
    {
      "cell_type": "markdown",
      "metadata": {
        "id": "j7rBNklxuDir"
      },
      "source": [
        "# 第59章：行列計算用ライブラリnumpy"
      ]
    },
    {
      "cell_type": "code",
      "execution_count": null,
      "metadata": {
        "id": "ICscKWVMsX10"
      },
      "outputs": [],
      "source": [
        "import numpy as np\n",
        "\n",
        "A = np.array(\n",
        "    [[1, 2], [1, -3]]\n",
        ")\n",
        "B = np.array(\n",
        "    [[1, 2], [2, 5]]\n",
        ")"
      ]
    },
    {
      "cell_type": "code",
      "execution_count": null,
      "metadata": {
        "colab": {
          "base_uri": "https://localhost:8080/"
        },
        "id": "ULbmsu2wufSy",
        "outputId": "8f490c26-72e3-48e4-83e2-335c879d1d8f"
      },
      "outputs": [
        {
          "data": {
            "text/plain": [
              "array([[ 0,  0],\n",
              "       [-1, -8]])"
            ]
          },
          "execution_count": 78,
          "metadata": {},
          "output_type": "execute_result"
        }
      ],
      "source": [
        "A - B"
      ]
    },
    {
      "cell_type": "code",
      "execution_count": null,
      "metadata": {
        "colab": {
          "base_uri": "https://localhost:8080/"
        },
        "id": "HL4oBvEJuk8v",
        "outputId": "910a8675-95b2-4adc-baaf-c39df4e550e7"
      },
      "outputs": [
        {
          "data": {
            "text/plain": [
              "array([[  5,  12],\n",
              "       [ -5, -13]])"
            ]
          },
          "execution_count": 79,
          "metadata": {},
          "output_type": "execute_result"
        }
      ],
      "source": [
        "A @ B"
      ]
    },
    {
      "cell_type": "code",
      "execution_count": null,
      "metadata": {
        "colab": {
          "base_uri": "https://localhost:8080/"
        },
        "id": "b9-fmRXDup3J",
        "outputId": "b55e2835-faba-4363-9164-3fe0f775712f"
      },
      "outputs": [
        {
          "data": {
            "text/plain": [
              "array([[  3,  -4],\n",
              "       [  7, -11]])"
            ]
          },
          "execution_count": 80,
          "metadata": {},
          "output_type": "execute_result"
        }
      ],
      "source": [
        "B @ A"
      ]
    },
    {
      "cell_type": "code",
      "execution_count": null,
      "metadata": {
        "colab": {
          "base_uri": "https://localhost:8080/"
        },
        "id": "J8EOO58su3W3",
        "outputId": "7ef527c1-8514-4ebc-c230-ebac7a2aa1fc"
      },
      "outputs": [
        {
          "data": {
            "text/plain": [
              "array([[  5,  12],\n",
              "       [ -5, -13]])"
            ]
          },
          "execution_count": 81,
          "metadata": {},
          "output_type": "execute_result"
        }
      ],
      "source": [
        "A.dot(B)"
      ]
    },
    {
      "cell_type": "code",
      "execution_count": null,
      "metadata": {
        "colab": {
          "base_uri": "https://localhost:8080/"
        },
        "id": "vm-aiGuPu9V5",
        "outputId": "188afefc-b8f5-4c82-dd74-386eb7a25eb1"
      },
      "outputs": [
        {
          "data": {
            "text/plain": [
              "array([[ 5., -2.],\n",
              "       [-2.,  1.]])"
            ]
          },
          "execution_count": 82,
          "metadata": {},
          "output_type": "execute_result"
        }
      ],
      "source": [
        "np.linalg.inv(B)"
      ]
    },
    {
      "cell_type": "code",
      "execution_count": null,
      "metadata": {
        "colab": {
          "base_uri": "https://localhost:8080/"
        },
        "id": "XqDfhpk3vEfg",
        "outputId": "1d289dd4-9043-4fb6-b5ed-6b50a1f24ad9"
      },
      "outputs": [
        {
          "data": {
            "text/plain": [
              "array([[ 1.,  0.],\n",
              "       [11., -5.]])"
            ]
          },
          "execution_count": 83,
          "metadata": {},
          "output_type": "execute_result"
        }
      ],
      "source": [
        "A @ np.linalg.inv(B)"
      ]
    },
    {
      "cell_type": "code",
      "execution_count": null,
      "metadata": {
        "colab": {
          "base_uri": "https://localhost:8080/"
        },
        "id": "KB8vPZtXvOZU",
        "outputId": "98d6eb27-ac51-4a19-9037-31fc8fd5680d"
      },
      "outputs": [
        {
          "data": {
            "text/plain": [
              "array([[ 2.00000000e+00,  1.00000000e+00, -3.33066907e-16],\n",
              "       [ 6.00000000e+00,  4.00000000e+00, -1.00000000e+00],\n",
              "       [-5.00000000e+00, -3.00000000e+00,  1.00000000e+00]])"
            ]
          },
          "execution_count": 84,
          "metadata": {},
          "output_type": "execute_result"
        }
      ],
      "source": [
        "C = np.array(\n",
        "    [[1, -1, -1], [-1, 2, 2], [2, 1, 2]]\n",
        ")\n",
        "np.linalg.inv(C)"
      ]
    },
    {
      "cell_type": "code",
      "execution_count": null,
      "metadata": {
        "colab": {
          "base_uri": "https://localhost:8080/"
        },
        "id": "P9UfWdR1vdLD",
        "outputId": "ebb6f2ce-5cde-42e2-c0f5-5e1ce6e5acc9"
      },
      "outputs": [
        {
          "name": "stdout",
          "output_type": "stream",
          "text": [
            "固有値 [ 1.44948974 -3.44948974] 固有ベクトル [[ 0.97566304 -0.40997761]\n",
            " [ 0.21927526  0.91209559]]\n"
          ]
        }
      ],
      "source": [
        "w, v = np.linalg.eig(A)\n",
        "print(\"固有値\", w, \"固有ベクトル\", v)"
      ]
    },
    {
      "cell_type": "code",
      "execution_count": null,
      "metadata": {
        "colab": {
          "base_uri": "https://localhost:8080/"
        },
        "id": "dVfB4n7Avp8I",
        "outputId": "344f8f5a-0eda-42ae-efaf-b8f4c72abc76"
      },
      "outputs": [
        {
          "name": "stdout",
          "output_type": "stream",
          "text": [
            "固有値 [0.17157288 5.82842712] 固有ベクトル [[-0.92387953 -0.38268343]\n",
            " [ 0.38268343 -0.92387953]]\n"
          ]
        }
      ],
      "source": [
        "w, v = np.linalg.eig(B)\n",
        "print(\"固有値\", w, \"固有ベクトル\", v)"
      ]
    },
    {
      "cell_type": "code",
      "execution_count": null,
      "metadata": {
        "colab": {
          "base_uri": "https://localhost:8080/"
        },
        "id": "ifF-5gWmvzan",
        "outputId": "731cba82-8881-4c09-99cb-52a59f5b0ee6"
      },
      "outputs": [
        {
          "name": "stdout",
          "output_type": "stream",
          "text": [
            "固有値 [0.16071324+0.j         2.41964338+0.60629073j 2.41964338-0.60629073j] 固有ベクトル [[-0.18175202+0.j         -0.50539199+0.0305654j  -0.50539199-0.0305654j ]\n",
            " [-0.76740476+0.j          0.81723109+0.j          0.81723109-0.j        ]\n",
            " [ 0.61486269+0.j         -0.08122319+0.26302251j -0.08122319-0.26302251j]]\n"
          ]
        }
      ],
      "source": [
        "w, v = np.linalg.eig(C)\n",
        "print(\"固有値\", w, \"固有ベクトル\", v)"
      ]
    },
    {
      "cell_type": "code",
      "execution_count": null,
      "metadata": {
        "id": "VyE-aWD-v1E4"
      },
      "outputs": [],
      "source": [
        "A = np.array([\n",
        "    [3, 2, 7, 1],\n",
        "    [1, 5, 1, -1],\n",
        "    [4, 1, 3, -2],\n",
        "    [1, 6, 4, 3]\n",
        "])\n",
        "b = np.array([8, 5, 7, 13])"
      ]
    },
    {
      "cell_type": "code",
      "execution_count": null,
      "metadata": {
        "colab": {
          "base_uri": "https://localhost:8080/"
        },
        "id": "LOzWsqrLv_6Q",
        "outputId": "84d1cc53-f8f3-4381-eee5-fa6f934d23ee"
      },
      "outputs": [
        {
          "data": {
            "text/plain": [
              "array([ 3.5,  1. , -1. ,  2.5])"
            ]
          },
          "execution_count": 89,
          "metadata": {},
          "output_type": "execute_result"
        }
      ],
      "source": [
        "np.linalg.solve(A, b)"
      ]
    },
    {
      "cell_type": "markdown",
      "metadata": {
        "id": "Hd9GdjMywsNa"
      },
      "source": [
        "# 第60章：線形計画法ライブラリPuLP"
      ]
    },
    {
      "cell_type": "code",
      "execution_count": null,
      "metadata": {
        "colab": {
          "base_uri": "https://localhost:8080/"
        },
        "id": "DQ3LIrojwLRk",
        "outputId": "9d4a0a58-0153-47ee-981e-a0501899155e"
      },
      "outputs": [
        {
          "name": "stdout",
          "output_type": "stream",
          "text": [
            "Looking in indexes: https://pypi.org/simple, https://us-python.pkg.dev/colab-wheels/public/simple/\n",
            "Requirement already satisfied: pulp in /usr/local/lib/python3.7/dist-packages (2.7.0)\n"
          ]
        }
      ],
      "source": [
        "!pip install pulp"
      ]
    },
    {
      "cell_type": "code",
      "execution_count": null,
      "metadata": {
        "id": "FRzNl2vowzv-"
      },
      "outputs": [],
      "source": [
        "import pulp\n",
        "\n",
        "problem = pulp.LpProblem(name='q60', sense=pulp.LpMinimize)"
      ]
    },
    {
      "cell_type": "code",
      "execution_count": null,
      "metadata": {
        "id": "wcG08BzoyHy8"
      },
      "outputs": [],
      "source": [
        "a = pulp.LpVariable('a', lowBound = 0)\n",
        "b = pulp.LpVariable('b', lowBound = 0)\n",
        "c = pulp.LpVariable('c', lowBound = 0)"
      ]
    },
    {
      "cell_type": "code",
      "execution_count": null,
      "metadata": {
        "id": "yDrDZcAYySoi"
      },
      "outputs": [],
      "source": [
        "problem += 40 * a + 20 * b + 50 * c"
      ]
    },
    {
      "cell_type": "code",
      "execution_count": null,
      "metadata": {
        "id": "SR406r1KygPW"
      },
      "outputs": [],
      "source": [
        "problem += 3 * a + 1 * b + 2 * c >= 15\n",
        "problem += 1 * a + 2 * b + 4 * c >= 10"
      ]
    },
    {
      "cell_type": "code",
      "execution_count": null,
      "metadata": {
        "colab": {
          "base_uri": "https://localhost:8080/"
        },
        "id": "VG449FWey2ky",
        "outputId": "7045f454-cda8-4330-9b3e-d96d850daac6"
      },
      "outputs": [
        {
          "data": {
            "text/plain": [
              "q60:\n",
              "MINIMIZE\n",
              "40*a + 20*b + 50*c + 0\n",
              "SUBJECT TO\n",
              "_C1: 3 a + b + 2 c >= 15\n",
              "\n",
              "_C2: a + 2 b + 4 c >= 10\n",
              "\n",
              "VARIABLES\n",
              "a Continuous\n",
              "b Continuous\n",
              "c Continuous"
            ]
          },
          "execution_count": 95,
          "metadata": {},
          "output_type": "execute_result"
        }
      ],
      "source": [
        "problem"
      ]
    },
    {
      "cell_type": "code",
      "execution_count": null,
      "metadata": {
        "id": "vTFcZZEfzDwa"
      },
      "outputs": [],
      "source": [
        "status = problem.solve()"
      ]
    },
    {
      "cell_type": "code",
      "execution_count": null,
      "metadata": {
        "colab": {
          "base_uri": "https://localhost:8080/",
          "height": 35
        },
        "id": "aKBVVdX-zOQ3",
        "outputId": "a7b66308-abe8-4af5-d84e-218bff451010"
      },
      "outputs": [
        {
          "data": {
            "application/vnd.google.colaboratory.intrinsic+json": {
              "type": "string"
            },
            "text/plain": [
              "'Optimal'"
            ]
          },
          "execution_count": 97,
          "metadata": {},
          "output_type": "execute_result"
        }
      ],
      "source": [
        "pulp.LpStatus[status]"
      ]
    },
    {
      "cell_type": "code",
      "execution_count": null,
      "metadata": {
        "colab": {
          "base_uri": "https://localhost:8080/"
        },
        "id": "lPqBn8cpzQzU",
        "outputId": "e22cf97b-f8f4-4061-96a5-c5458b0c4aa6"
      },
      "outputs": [
        {
          "data": {
            "text/plain": [
              "(4.0, 3.0, 0.0)"
            ]
          },
          "execution_count": 98,
          "metadata": {},
          "output_type": "execute_result"
        }
      ],
      "source": [
        "a.value(), b.value(), c.value()"
      ]
    },
    {
      "cell_type": "code",
      "execution_count": null,
      "metadata": {
        "colab": {
          "base_uri": "https://localhost:8080/"
        },
        "id": "Dz00IhoYzavK",
        "outputId": "80843fba-513b-4d9c-df0c-937860dc72ce"
      },
      "outputs": [
        {
          "data": {
            "text/plain": [
              "220.0"
            ]
          },
          "execution_count": 99,
          "metadata": {},
          "output_type": "execute_result"
        }
      ],
      "source": [
        "problem.objective.value()"
      ]
    },
    {
      "cell_type": "markdown",
      "metadata": {
        "id": "mbIouQVf0OcS"
      },
      "source": [
        "# 第61章：正規分布"
      ]
    },
    {
      "cell_type": "code",
      "execution_count": null,
      "metadata": {
        "colab": {
          "base_uri": "https://localhost:8080/",
          "height": 265
        },
        "id": "gNVsplwhziM0",
        "outputId": "3d06e395-6722-4e25-c72d-07c7c820523d"
      },
      "outputs": [
        {
          "data": {
            "image/png": "[encoded data removed]",
            "text/plain": [
              "<Figure size 432x288 with 1 Axes>"
            ]
          },
          "metadata": {},
          "output_type": "display_data"
        }
      ],
      "source": [
        "import random\n",
        "import matplotlib.pyplot as plt\n",
        "sample_size = 10000\n",
        "dist = [random.normalvariate(mu=0, sigma=1) for i in range(sample_size)]\n",
        "plt.hist(dist, bins=40)\n",
        "plt.show()"
      ]
    },
    {
      "cell_type": "code",
      "execution_count": null,
      "metadata": {
        "colab": {
          "base_uri": "https://localhost:8080/"
        },
        "id": "zu_tbuyd0ZgZ",
        "outputId": "a414343f-3dbb-4a97-9942-4b2b0b4dce85"
      },
      "outputs": [
        {
          "data": {
            "text/plain": [
              "0.0213"
            ]
          },
          "execution_count": 101,
          "metadata": {},
          "output_type": "execute_result"
        }
      ],
      "source": [
        "p = sum([1 for n in dist if n >= 2]) / sample_size\n",
        "p"
      ]
    },
    {
      "cell_type": "code",
      "execution_count": null,
      "metadata": {
        "colab": {
          "base_uri": "https://localhost:8080/",
          "height": 265
        },
        "id": "WLIs_jdp1Mig",
        "outputId": "97def9d0-8ae9-4395-c4cd-75029f0b084a"
      },
      "outputs": [
        {
          "data": {
            "image/png": "[encoded data removed]",
            "text/plain": [
              "<Figure size 432x288 with 1 Axes>"
            ]
          },
          "metadata": {},
          "output_type": "display_data"
        }
      ],
      "source": [
        "import random\n",
        "import matplotlib.pyplot as plt\n",
        "sample_size = 10000\n",
        "dist = [random.normalvariate(mu=50, sigma=10) for i in range(sample_size)]\n",
        "plt.hist(dist, bins=40)\n",
        "plt.show()"
      ]
    },
    {
      "cell_type": "code",
      "execution_count": null,
      "metadata": {
        "colab": {
          "base_uri": "https://localhost:8080/"
        },
        "id": "DIrpZz7y1Z4i",
        "outputId": "fbc77919-7985-41d2-9fa1-63d396095f20"
      },
      "outputs": [
        {
          "data": {
            "text/plain": [
              "236"
            ]
          },
          "execution_count": 103,
          "metadata": {},
          "output_type": "execute_result"
        }
      ],
      "source": [
        "sum([1 for n in dist if n >= 70]) "
      ]
    },
    {
      "cell_type": "markdown",
      "metadata": {
        "id": "ezaWPRRU13nq"
      },
      "source": [
        "# 第62章：二項分布"
      ]
    },
    {
      "cell_type": "code",
      "execution_count": null,
      "metadata": {
        "colab": {
          "base_uri": "https://localhost:8080/",
          "height": 265
        },
        "id": "rgbgiKq91i-f",
        "outputId": "e64ea8fb-285f-4550-8db2-1b457d84a74d"
      },
      "outputs": [
        {
          "data": {
            "image/png": "[encoded data removed]",
            "text/plain": [
              "<Figure size 432x288 with 1 Axes>"
            ]
          },
          "metadata": {},
          "output_type": "display_data"
        }
      ],
      "source": [
        "# 数値計算のライブラリをインポートする。\n",
        "import numpy as np\n",
        "import matplotlib.pyplot as plt\n",
        "\n",
        "sample_size = 10000 # 乱数発生回数\n",
        "\n",
        "# 確率pで奇数が出る（確率1-pで偶数が出る）ルーレットをn回プレイしたときに、\n",
        "# 奇数が出る回数の分布\n",
        "dist = [np.random.binomial(n=10, p=0.5) for i in range(sample_size)]\n",
        "plt.hist(dist, bins=40)\n",
        "plt.show()"
      ]
    },
    {
      "cell_type": "code",
      "execution_count": null,
      "metadata": {
        "colab": {
          "base_uri": "https://localhost:8080/"
        },
        "id": "6JwkcNSK2G7L",
        "outputId": "7a0df381-5c9e-46e8-b5ac-128087cb95bb"
      },
      "outputs": [
        {
          "data": {
            "text/plain": [
              "0.368"
            ]
          },
          "execution_count": 105,
          "metadata": {},
          "output_type": "execute_result"
        }
      ],
      "source": [
        "p = sum([1 for n in dist if n >= 6]) / sample_size\n",
        "p"
      ]
    },
    {
      "cell_type": "code",
      "execution_count": null,
      "metadata": {
        "colab": {
          "base_uri": "https://localhost:8080/"
        },
        "id": "EftPbINC2mBS",
        "outputId": "c89cec76-4469-44fd-fe54-714ee44dc16e"
      },
      "outputs": [
        {
          "data": {
            "text/plain": [
              "0.027"
            ]
          },
          "execution_count": 106,
          "metadata": {},
          "output_type": "execute_result"
        }
      ],
      "source": [
        "dist = [np.random.binomial(n=100, p=0.5) for i in range(sample_size)]\n",
        "p = sum([1 for n in dist if n >= 60]) / sample_size\n",
        "p"
      ]
    },
    {
      "cell_type": "code",
      "execution_count": null,
      "metadata": {
        "colab": {
          "base_uri": "https://localhost:8080/"
        },
        "id": "bsM7EUL23Bce",
        "outputId": "a9efe379-d378-4094-93ae-4f18790284ce"
      },
      "outputs": [
        {
          "data": {
            "text/plain": [
              "0.38"
            ]
          },
          "execution_count": 107,
          "metadata": {},
          "output_type": "execute_result"
        }
      ],
      "source": [
        "dist = [np.random.binomial(n=10, p=0.5) for i in range(sample_size)]\n",
        "p = sum([1 for n in dist if n >= 6]) / sample_size\n",
        "p"
      ]
    },
    {
      "cell_type": "code",
      "execution_count": null,
      "metadata": {
        "colab": {
          "base_uri": "https://localhost:8080/",
          "height": 265
        },
        "id": "OlH-1ihj3fXW",
        "outputId": "75b76253-1e1c-4ff6-fe48-de6fec3a4883"
      },
      "outputs": [
        {
          "data": {
            "image/png": "[encoded data removed]",
            "text/plain": [
              "<Figure size 432x288 with 1 Axes>"
            ]
          },
          "metadata": {},
          "output_type": "display_data"
        }
      ],
      "source": [
        "dist = [np.random.binomial(n=20, p=0.05) for i in range(sample_size)]\n",
        "plt.hist(dist, bins=20)\n",
        "plt.show()"
      ]
    },
    {
      "cell_type": "code",
      "execution_count": null,
      "metadata": {
        "colab": {
          "base_uri": "https://localhost:8080/"
        },
        "id": "MWAwimYL3zLr",
        "outputId": "c6b05f37-9064-47bc-e1bb-880ab49e5f9d"
      },
      "outputs": [
        {
          "data": {
            "text/plain": [
              "0.0264"
            ]
          },
          "execution_count": 110,
          "metadata": {},
          "output_type": "execute_result"
        }
      ],
      "source": [
        "dist = [np.random.binomial(n=100, p=0.05) for i in range(sample_size)]\n",
        "p = sum([1 for n in dist if n >= 10]) / sample_size\n",
        "p"
      ]
    },
    {
      "cell_type": "markdown",
      "metadata": {
        "id": "bUs04k0C4b2H"
      },
      "source": [
        "# 第63章：カイ２乗検定"
      ]
    },
    {
      "cell_type": "code",
      "execution_count": null,
      "metadata": {
        "colab": {
          "base_uri": "https://localhost:8080/"
        },
        "id": "e_I6yi_b4G_T",
        "outputId": "fa42198e-a48f-484a-ec60-70a80a86e1a0"
      },
      "outputs": [
        {
          "name": "stdout",
          "output_type": "stream",
          "text": [
            "chi2 値は 12.4\n",
            "確率は 0.029699459203520212\n",
            "有意水準 0.05 で、有意な差があります\n"
          ]
        }
      ],
      "source": [
        "import scipy as sp # 科学計算ライブラリ\n",
        "from scipy import stats # 統計計算ライブラリ\n",
        "\n",
        "significance = 0.05\n",
        "o = [17, 10, 6, 7, 15, 5] # 分布１（ex.実測値）\n",
        "e = [10, 10, 10, 10, 10, 10] # 分布２（ex.理論値）\n",
        "\n",
        "chi2, p = stats.chisquare(o, f_exp = e)\n",
        "\n",
        "print('chi2 値は %(chi2)s' %locals())\n",
        "print('確率は %(p)s' %locals())\n",
        "\n",
        "if p < significance:\n",
        "    print('有意水準 %(significance)s で、有意な差があります' %locals())\n",
        "else:\n",
        "    print('有意水準 %(significance)s で、有意な差がありません' %locals())"
      ]
    },
    {
      "cell_type": "code",
      "execution_count": null,
      "metadata": {
        "colab": {
          "background_save": true,
          "base_uri": "https://localhost:8080/",
          "height": 428
        },
        "id": "ZFIytYkf4ha_",
        "outputId": "17939536-eda1-4e82-edc5-4bb05f46e67b"
      },
      "outputs": [
        {
          "name": "stdout",
          "output_type": "stream",
          "text": [
            "chi2 値は 10.654761904761905\n",
            "確率は 0.004856773490526788\n",
            "有意水準 0.05 で、有意な差があります\n"
          ]
        }
      ],
      "source": [
        "import scipy as sp # 科学計算ライブラリ\n",
        "from scipy import stats # 統計計算ライブラリ\n",
        "\n",
        "significance = 0.05\n",
        "o = [12, 30, 58] # 分布１（ex.実測値）\n",
        "e = [14, 90, 96] # 分布２（ex.理論値）\n",
        "\n",
        "chi2, p = stats.chisquare(o, f_exp = e)\n",
        "\n",
        "print('chi2 値は %(chi2)s' %locals())\n",
        "print('確率は %(p)s' %locals())\n",
        "\n",
        "if p < significance:\n",
        "    print('有意水準 %(significance)s で、有意な差があります' %locals())\n",
        "else:\n",
        "    print('有意水準 %(significance)s で、有意な差がありません' %locals())"
      ]
    },
    {
      "cell_type": "code",
      "execution_count": null,
      "metadata": {
        "id": "UroahRI7493t"
      },
      "outputs": [],
      "source": []
    }
  ],
  "metadata": {
    "colab": {
      "provenance": [],
      "include_colab_link": true
    },
    "kernelspec": {
      "display_name": "Python 3",
      "name": "python3"
    },
    "language_info": {
      "name": "python"
    }
  },
  "nbformat": 4,
  "nbformat_minor": 0
}