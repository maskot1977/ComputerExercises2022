{
  "nbformat": 4,
  "nbformat_minor": 0,
  "metadata": {
    "colab": {
      "provenance": [],
      "collapsed_sections": [],
      "authorship_tag": "ABX9TyN0uuaGXWZ02b0fgTbcE5x6",
      "include_colab_link": true
    },
    "kernelspec": {
      "name": "python3",
      "display_name": "Python 3"
    },
    "language_info": {
      "name": "python"
    }
  },
  "cells": [
    {
      "cell_type": "markdown",
      "metadata": {
        "id": "view-in-github",
        "colab_type": "text"
      },
      "source": [
        "<a href=\"https://colab.research.google.com/github/maskot1977/ComputerExercises2022/blob/21cI22NJS24tda4B/11%E6%9C%881%E6%97%A5%E8%AC%9B%E7%BE%A9%E5%88%86.ipynb\" target=\"_parent\"><img src=\"https://colab.research.google.com/assets/colab-badge.svg\" alt=\"Open In Colab\"/></a>"
      ]
    },
    {
      "cell_type": "markdown",
      "source": [
        "# 第２９章"
      ],
      "metadata": {
        "id": "WbUmov_tXne1"
      }
    },
    {
      "cell_type": "code",
      "execution_count": null,
      "metadata": {
        "colab": {
          "base_uri": "https://localhost:8080/"
        },
        "id": "ZGT_XOmiWsn_",
        "outputId": "1a9b5e7f-9606-4e03-a60b-71fe93babb20"
      },
      "outputs": [
        {
          "output_type": "execute_result",
          "data": {
            "text/plain": [
              "('infection_test.txt', <http.client.HTTPMessage at 0x7f63909bc6d0>)"
            ]
          },
          "metadata": {},
          "execution_count": 1
        }
      ],
      "source": [
        "import urllib.request\n",
        "url = 'https://raw.githubusercontent.com/maskot1977/toydata/main/data/infection_test.txt'\n",
        "urllib.request.urlretrieve(url, 'infection_test.txt') # データのダウンロード"
      ]
    },
    {
      "cell_type": "code",
      "source": [
        "infected = []\n",
        "not_infected = []\n",
        "for i, line in enumerate(open('infection_test.txt')):\n",
        "    if i > 0:\n",
        "        c = line.split(\",\")\n",
        "        if c[1][0] == \"I\":\n",
        "            infected.append(float(c[0]))\n",
        "        else:\n",
        "            not_infected.append(float(c[0]))"
      ],
      "metadata": {
        "id": "vfVXhtyLZTDk"
      },
      "execution_count": null,
      "outputs": []
    },
    {
      "cell_type": "code",
      "source": [
        "import matplotlib.pyplot as plt\n",
        "plt.hist(infected, alpha=0.5, label=\"infected\")\n",
        "plt.hist(not_infected, alpha=0.5, label=\"not infected\")\n",
        "plt.legend()\n",
        "plt.show()"
      ],
      "metadata": {
        "colab": {
          "base_uri": "https://localhost:8080/",
          "height": 265
        },
        "id": "S_3hOkDvZ13M",
        "outputId": "32ce276b-62ba-400e-cc44-022ecf2a7b42"
      },
      "execution_count": null,
      "outputs": [
        {
          "output_type": "display_data",
          "data": {
            "text/plain": [
              "<Figure size 432x288 with 1 Axes>"
            ],
            "image/png": "[encoded data removed]"
          },
          "metadata": {
            "needs_background": "light"
          }
        }
      ]
    },
    {
      "cell_type": "code",
      "source": [
        "T = []\n",
        "ACC = []\n",
        "Precision = []\n",
        "Recall = []\n",
        "F1 = []\n",
        "Specificity = []\n",
        "for x in range(0, 51):\n",
        "    t = x / 5\n",
        "    T.append(t)\n",
        "    TP, FN, FP, TN = 0, 0, 0, 0\n",
        "    for y in infected:\n",
        "        if y >= t:\n",
        "            TP += 1\n",
        "        else:\n",
        "            FN += 1\n",
        "    for y in not_infected:\n",
        "        if y >= t:\n",
        "            FP += 1\n",
        "        else:\n",
        "            TN += 1\n",
        "    ACC.append((TP+TN) / (FP+FN+FP+TN))\n",
        "    p = TP/(TP+FP)\n",
        "    Precision.append(p)\n",
        "    r = TP/(TP+FN)\n",
        "    Recall.append(r)\n",
        "    F1.append(2 * r * p / (p + r))\n",
        "    Specificity.append(FP/(FP+TN))"
      ],
      "metadata": {
        "id": "HIU9O64kbSa0"
      },
      "execution_count": null,
      "outputs": []
    },
    {
      "cell_type": "code",
      "source": [
        "plt.plot(T, ACC, label=\"ACC\")\n",
        "plt.plot(T, Precision, label=\"Precision\")\n",
        "plt.plot(T, Recall, label=\"Recall\")\n",
        "plt.plot(T, F1, label=\"F1\")\n",
        "plt.plot(T, Specificity, label=\"Specificity\")\n",
        "plt.legend()\n",
        "plt.show()"
      ],
      "metadata": {
        "colab": {
          "base_uri": "https://localhost:8080/",
          "height": 265
        },
        "id": "n5I7lB3ycmhz",
        "outputId": "95969f34-1899-4d54-df41-081a6964c26d"
      },
      "execution_count": null,
      "outputs": [
        {
          "output_type": "display_data",
          "data": {
            "text/plain": [
              "<Figure size 432x288 with 1 Axes>"
            ],
            "image/png": "[encoded data removed]"
          },
          "metadata": {
            "needs_background": "light"
          }
        }
      ]
    },
    {
      "cell_type": "code",
      "source": [
        "plt.plot(Recall, Precision)"
      ],
      "metadata": {
        "colab": {
          "base_uri": "https://localhost:8080/",
          "height": 283
        },
        "id": "Kjnl5tSeeZVq",
        "outputId": "6a7bebb9-8a80-46fc-a9d5-ce9cc3b5c80a"
      },
      "execution_count": null,
      "outputs": [
        {
          "output_type": "execute_result",
          "data": {
            "text/plain": [
              "[<matplotlib.lines.Line2D at 0x7f63872bc110>]"
            ]
          },
          "metadata": {},
          "execution_count": 33
        },
        {
          "output_type": "display_data",
          "data": {
            "text/plain": [
              "<Figure size 432x288 with 1 Axes>"
            ],
            "image/png": "[encoded data removed]"
          },
          "metadata": {
            "needs_background": "light"
          }
        }
      ]
    },
    {
      "cell_type": "markdown",
      "source": [
        "# 第３０章"
      ],
      "metadata": {
        "id": "Do8JqIIZgqsD"
      }
    },
    {
      "cell_type": "code",
      "source": [
        "def chapter30(n_infected, acc=0.95):\n",
        "    TP = n_infected * acc / (n_infected * acc + (1-n_infected)*(1-acc))\n",
        "    FN = n_infected * (1-acc) / (n_infected*(1-acc) +(1-n_infected)*acc)\n",
        "    return TP, FN"
      ],
      "metadata": {
        "id": "TSeu1x--fzkF"
      },
      "execution_count": null,
      "outputs": []
    },
    {
      "cell_type": "code",
      "source": [
        "chapter30(0.5)"
      ],
      "metadata": {
        "colab": {
          "base_uri": "https://localhost:8080/"
        },
        "id": "9mVIQMsNheuT",
        "outputId": "36ec680c-b362-40ff-a2da-43036c3ef8e9"
      },
      "execution_count": null,
      "outputs": [
        {
          "output_type": "execute_result",
          "data": {
            "text/plain": [
              "(0.95, 0.050000000000000044)"
            ]
          },
          "metadata": {},
          "execution_count": 40
        }
      ]
    },
    {
      "cell_type": "code",
      "source": [
        "chapter30(0.1)"
      ],
      "metadata": {
        "colab": {
          "base_uri": "https://localhost:8080/"
        },
        "id": "HAS0gkx-hrot",
        "outputId": "d14e9e13-2429-4f2d-950a-3b08f1d3f462"
      },
      "execution_count": null,
      "outputs": [
        {
          "output_type": "execute_result",
          "data": {
            "text/plain": [
              "(0.6785714285714284, 0.005813953488372098)"
            ]
          },
          "metadata": {},
          "execution_count": 41
        }
      ]
    },
    {
      "cell_type": "code",
      "source": [
        "chapter30(0.01)"
      ],
      "metadata": {
        "colab": {
          "base_uri": "https://localhost:8080/"
        },
        "id": "cho7laJ1iDDM",
        "outputId": "d30572e9-5249-4113-ca01-bf9652b8c60c"
      },
      "execution_count": null,
      "outputs": [
        {
          "output_type": "execute_result",
          "data": {
            "text/plain": [
              "(0.16101694915254225, 0.0005313496280552608)"
            ]
          },
          "metadata": {},
          "execution_count": 42
        }
      ]
    },
    {
      "cell_type": "markdown",
      "source": [
        "# 第３１章"
      ],
      "metadata": {
        "id": "0bzp1OA4ihwy"
      }
    },
    {
      "cell_type": "code",
      "source": [
        "X = [0, 1, 2, 3, 4]\n",
        "Y = [5, 6, 7, 8, 9]\n",
        "\n",
        "for x in X:\n",
        "    for y in Y:\n",
        "        print(x, y)"
      ],
      "metadata": {
        "colab": {
          "base_uri": "https://localhost:8080/"
        },
        "id": "GkA8CNCOiGcn",
        "outputId": "84cd9ef6-28ae-4a06-ffa4-6d23c4671e10"
      },
      "execution_count": null,
      "outputs": [
        {
          "output_type": "stream",
          "name": "stdout",
          "text": [
            "0 5\n",
            "0 6\n",
            "0 7\n",
            "0 8\n",
            "0 9\n",
            "1 5\n",
            "1 6\n",
            "1 7\n",
            "1 8\n",
            "1 9\n",
            "2 5\n",
            "2 6\n",
            "2 7\n",
            "2 8\n",
            "2 9\n",
            "3 5\n",
            "3 6\n",
            "3 7\n",
            "3 8\n",
            "3 9\n",
            "4 5\n",
            "4 6\n",
            "4 7\n",
            "4 8\n",
            "4 9\n"
          ]
        }
      ]
    },
    {
      "cell_type": "code",
      "source": [
        "X = [0, 1, 2, 3, 4]\n",
        "Y = [5, 6, 7, 8, 9]\n",
        "\n",
        "for x, y in zip(X, Y):\n",
        "    print(x, y)"
      ],
      "metadata": {
        "colab": {
          "base_uri": "https://localhost:8080/"
        },
        "id": "OGMqgQr-ip2T",
        "outputId": "640852d4-8265-441c-8273-0e222010f0fd"
      },
      "execution_count": null,
      "outputs": [
        {
          "output_type": "stream",
          "name": "stdout",
          "text": [
            "0 5\n",
            "1 6\n",
            "2 7\n",
            "3 8\n",
            "4 9\n"
          ]
        }
      ]
    },
    {
      "cell_type": "code",
      "source": [
        "def chap31(m, k):\n",
        "    for k1 in k:\n",
        "        for k2 in k:\n",
        "            for k3 in k:\n",
        "                for k4 in k:\n",
        "                    if k1 + k2 + k3 + k4 == m:\n",
        "                        return True\n",
        "    return False"
      ],
      "metadata": {
        "id": "iS9d1AmJitMO"
      },
      "execution_count": null,
      "outputs": []
    },
    {
      "cell_type": "code",
      "source": [
        "n = 10\n",
        "m =  36\n",
        "k =  [13, 39, 63, 70, 18, 87, 46, 99, 68, 47]"
      ],
      "metadata": {
        "id": "Uij6FoPejLY4"
      },
      "execution_count": null,
      "outputs": []
    },
    {
      "cell_type": "code",
      "source": [
        "chap31(m, k)"
      ],
      "metadata": {
        "colab": {
          "base_uri": "https://localhost:8080/"
        },
        "id": "ou6RwUc9jZY-",
        "outputId": "b0641ae1-8876-47b2-ae34-a768c8382b5b"
      },
      "execution_count": null,
      "outputs": [
        {
          "output_type": "execute_result",
          "data": {
            "text/plain": [
              "False"
            ]
          },
          "metadata": {},
          "execution_count": 47
        }
      ]
    },
    {
      "cell_type": "code",
      "source": [
        "n = 10\n",
        "m =  66\n",
        "k =  [60, 45, 73, 100, 57, 82, 2, 85, 43, 8]"
      ],
      "metadata": {
        "id": "QtTPVnWMjbfm"
      },
      "execution_count": null,
      "outputs": []
    },
    {
      "cell_type": "code",
      "source": [
        "chap31(m, k)"
      ],
      "metadata": {
        "colab": {
          "base_uri": "https://localhost:8080/"
        },
        "id": "7qbJCDRejecP",
        "outputId": "41bf44dc-e78f-491f-a451-48db295c7e63"
      },
      "execution_count": null,
      "outputs": [
        {
          "output_type": "execute_result",
          "data": {
            "text/plain": [
              "True"
            ]
          },
          "metadata": {},
          "execution_count": 49
        }
      ]
    },
    {
      "cell_type": "code",
      "source": [
        "def chap31_better(m, k):\n",
        "    for k1 in k:\n",
        "        for k2 in k:\n",
        "            if k1 + k2 > m:\n",
        "                continue\n",
        "            for k3 in k:\n",
        "                if k1 + k2 + k3 > m:\n",
        "                    continue\n",
        "                for k4 in k:\n",
        "                    if k1 + k2 + k3 + k4 == m:\n",
        "                        return True\n",
        "    return False"
      ],
      "metadata": {
        "id": "7uqsfdSfjf9k"
      },
      "execution_count": null,
      "outputs": []
    },
    {
      "cell_type": "code",
      "source": [
        "%%timeit\n",
        "n = 10\n",
        "m =  66\n",
        "k =  [60, 45, 73, 100, 57, 82, 2, 85, 43, 8]\n",
        "chap31_better(m, k)"
      ],
      "metadata": {
        "colab": {
          "base_uri": "https://localhost:8080/"
        },
        "id": "0wpxg2uJjwWM",
        "outputId": "8288b773-7b72-45cd-ef88-c65a7c6e679a"
      },
      "execution_count": null,
      "outputs": [
        {
          "output_type": "stream",
          "name": "stdout",
          "text": [
            "1.64 µs ± 9.36 ns per loop (mean ± std. dev. of 7 runs, 1000000 loops each)\n"
          ]
        }
      ]
    },
    {
      "cell_type": "code",
      "source": [
        "%%timeit\n",
        "n = 10\n",
        "m =  66\n",
        "k =  [60, 45, 73, 100, 57, 82, 2, 85, 43, 8]\n",
        "chap31(m, k)"
      ],
      "metadata": {
        "colab": {
          "base_uri": "https://localhost:8080/"
        },
        "id": "O1HO4m6fj9BS",
        "outputId": "1fcd514e-1eb9-4b62-e04f-216362cba9d9"
      },
      "execution_count": null,
      "outputs": [
        {
          "output_type": "stream",
          "name": "stdout",
          "text": [
            "55.1 µs ± 1.4 µs per loop (mean ± std. dev. of 7 runs, 10000 loops each)\n"
          ]
        }
      ]
    },
    {
      "cell_type": "markdown",
      "source": [
        "# 課題32"
      ],
      "metadata": {
        "id": "TbHoqqfdkvxl"
      }
    },
    {
      "cell_type": "code",
      "source": [
        "def chap32(a):\n",
        "    a.sort()\n",
        "    max_ = 0\n",
        "    for x1 in range(len(a)):\n",
        "        for x2 in range(len(a)):\n",
        "            if x2 <= x1:\n",
        "                continue\n",
        "            for x3 in range(len(a)):\n",
        "                if x3 <= x1 or x3 <= x2:\n",
        "                    continue\n",
        "                if a[x3] < a[x1] + a[x2]:\n",
        "                    if max_ < a[x3] + a[x1] + a[x2]:\n",
        "                        max_ = a[x3] + a[x1] + a[x2]\n",
        "    return max_"
      ],
      "metadata": {
        "id": "u2G91YQEkPqv"
      },
      "execution_count": null,
      "outputs": []
    },
    {
      "cell_type": "code",
      "source": [
        "n =  5\n",
        "a =  [28.54, 13.36, 54.82, 13.91, 44.29]\n",
        "chap32(a)"
      ],
      "metadata": {
        "colab": {
          "base_uri": "https://localhost:8080/"
        },
        "id": "QtCmbZg-lFau",
        "outputId": "825d0ed5-9ed0-49f8-9ea0-4ee750df5901"
      },
      "execution_count": null,
      "outputs": [
        {
          "output_type": "execute_result",
          "data": {
            "text/plain": [
              "127.65"
            ]
          },
          "metadata": {},
          "execution_count": 68
        }
      ]
    },
    {
      "cell_type": "code",
      "source": [
        "n =  4\n",
        "a =  [24.73, 53.4, 0.25, 97.89]\n",
        "chap32(a)"
      ],
      "metadata": {
        "colab": {
          "base_uri": "https://localhost:8080/"
        },
        "id": "ZkR56ISYlIVa",
        "outputId": "37e792bf-4edf-4fc1-d114-1eb4eb29b605"
      },
      "execution_count": null,
      "outputs": [
        {
          "output_type": "execute_result",
          "data": {
            "text/plain": [
              "0"
            ]
          },
          "metadata": {},
          "execution_count": 69
        }
      ]
    },
    {
      "cell_type": "code",
      "source": [
        "n =  19\n",
        "a =  [493.13, 615.02, 340.68, 462.98, 988.55, 572.16, 572.91, 963.01, 12.07, 95.51, 733.24, 810.39, 105.99, 574.57, 945.38, 937.82, 976.24, 245.43, 260.06]\n",
        "chap32(a)"
      ],
      "metadata": {
        "colab": {
          "base_uri": "https://localhost:8080/"
        },
        "id": "jNnVfbx5moB0",
        "outputId": "fa4f93f0-41a9-4dbb-dcc2-b222cea6d52e"
      },
      "execution_count": null,
      "outputs": [
        {
          "output_type": "execute_result",
          "data": {
            "text/plain": [
              "2927.8"
            ]
          },
          "metadata": {},
          "execution_count": 70
        }
      ]
    },
    {
      "cell_type": "markdown",
      "source": [
        "# 第３３章"
      ],
      "metadata": {
        "id": "uG8YFe_Cm5qn"
      }
    },
    {
      "cell_type": "code",
      "source": [
        "def chap33(x):\n",
        "    V = [500, 100, 50, 10, 5, 1]\n",
        "    C = [10, 10, 10, 10, 10, 10]\n",
        "    nanmai = 0\n",
        "    for v, c in zip(V, C):\n",
        "        maisu = min(int(x/v), c)\n",
        "        if maisu < 0:\n",
        "            return False\n",
        "        nanmai += maisu\n",
        "        x -= v * maisu\n",
        "        print(v, maisu, x)\n",
        "    if x > 0:\n",
        "        return False\n",
        "    return nanmai"
      ],
      "metadata": {
        "id": "lsrfN8cymsO-"
      },
      "execution_count": null,
      "outputs": []
    },
    {
      "cell_type": "code",
      "source": [
        "x =  1672\n",
        "chap33(x)"
      ],
      "metadata": {
        "colab": {
          "base_uri": "https://localhost:8080/"
        },
        "id": "IcprRUDwoADq",
        "outputId": "65fa3d42-0102-4d28-c9fc-3eb5480a67ca"
      },
      "execution_count": null,
      "outputs": [
        {
          "output_type": "stream",
          "name": "stdout",
          "text": [
            "500 3 172\n",
            "100 1 72\n",
            "50 1 22\n",
            "10 2 2\n",
            "5 0 2\n",
            "1 2 0\n"
          ]
        },
        {
          "output_type": "execute_result",
          "data": {
            "text/plain": [
              "9"
            ]
          },
          "metadata": {},
          "execution_count": 99
        }
      ]
    },
    {
      "cell_type": "code",
      "source": [
        "x =  5549\n",
        "chap33(x)"
      ],
      "metadata": {
        "colab": {
          "base_uri": "https://localhost:8080/"
        },
        "id": "ezMic_fvoDlL",
        "outputId": "173bc367-513e-417f-8aaa-29cdb6397f49"
      },
      "execution_count": null,
      "outputs": [
        {
          "output_type": "stream",
          "name": "stdout",
          "text": [
            "500 10 549\n",
            "100 5 49\n",
            "50 0 49\n",
            "10 4 9\n",
            "5 1 4\n",
            "1 4 0\n"
          ]
        },
        {
          "output_type": "execute_result",
          "data": {
            "text/plain": [
              "24"
            ]
          },
          "metadata": {},
          "execution_count": 100
        }
      ]
    },
    {
      "cell_type": "code",
      "source": [
        "x =  3067\n",
        "chap33(x)"
      ],
      "metadata": {
        "colab": {
          "base_uri": "https://localhost:8080/"
        },
        "id": "IpuMpWtboNwN",
        "outputId": "f253c741-83b0-4db2-a462-353e4419a009"
      },
      "execution_count": null,
      "outputs": [
        {
          "output_type": "stream",
          "name": "stdout",
          "text": [
            "500 6 67\n",
            "100 0 67\n",
            "50 1 17\n",
            "10 1 7\n",
            "5 1 2\n",
            "1 2 0\n"
          ]
        },
        {
          "output_type": "execute_result",
          "data": {
            "text/plain": [
              "11"
            ]
          },
          "metadata": {},
          "execution_count": 101
        }
      ]
    },
    {
      "cell_type": "code",
      "source": [
        "x = 8802\n",
        "chap33(x)"
      ],
      "metadata": {
        "colab": {
          "base_uri": "https://localhost:8080/"
        },
        "id": "DSUADjsho1SM",
        "outputId": "23160d60-5ba3-454a-ac77-d283f7abe093"
      },
      "execution_count": null,
      "outputs": [
        {
          "output_type": "stream",
          "name": "stdout",
          "text": [
            "500 10 3802\n",
            "100 10 2802\n",
            "50 10 2302\n",
            "10 10 2202\n",
            "5 10 2152\n",
            "1 10 2142\n"
          ]
        },
        {
          "output_type": "execute_result",
          "data": {
            "text/plain": [
              "False"
            ]
          },
          "metadata": {},
          "execution_count": 102
        }
      ]
    },
    {
      "cell_type": "code",
      "source": [
        "x =  -124\n",
        "chap33(x)"
      ],
      "metadata": {
        "colab": {
          "base_uri": "https://localhost:8080/"
        },
        "id": "SerkbAE8o444",
        "outputId": "acac35b8-dee3-4130-e702-a98869c186c6"
      },
      "execution_count": null,
      "outputs": [
        {
          "output_type": "stream",
          "name": "stdout",
          "text": [
            "500 0 -124\n"
          ]
        },
        {
          "output_type": "execute_result",
          "data": {
            "text/plain": [
              "False"
            ]
          },
          "metadata": {},
          "execution_count": 103
        }
      ]
    },
    {
      "cell_type": "markdown",
      "source": [
        "# 第３４章"
      ],
      "metadata": {
        "id": "Wj2YmZKfptlz"
      }
    },
    {
      "cell_type": "code",
      "source": [
        "def chap34(n):\n",
        "    result = []\n",
        "    for i in range(2, n):\n",
        "        if n%i == 0:\n",
        "            result.append(i)\n",
        "    return result"
      ],
      "metadata": {
        "id": "VK9IH4f1paYW"
      },
      "execution_count": null,
      "outputs": []
    },
    {
      "cell_type": "code",
      "source": [
        "%%timeit\n",
        "n = 8075\n",
        "chap34(n)"
      ],
      "metadata": {
        "colab": {
          "base_uri": "https://localhost:8080/"
        },
        "id": "It63kSiEp9rT",
        "outputId": "6cda9430-b393-4057-8736-8c59dda27b31"
      },
      "execution_count": null,
      "outputs": [
        {
          "output_type": "stream",
          "name": "stdout",
          "text": [
            "478 µs ± 18.9 µs per loop (mean ± std. dev. of 7 runs, 1000 loops each)\n"
          ]
        }
      ]
    },
    {
      "cell_type": "code",
      "source": [
        "import math\n",
        "def chap34_better(n):\n",
        "    result = []\n",
        "    for i in range(2, int(math.sqrt(n+1))):\n",
        "        if n%i == 0:\n",
        "            result.append(i)\n",
        "            result.append(int(n/i))\n",
        "    return sorted(result)"
      ],
      "metadata": {
        "id": "rGn12GNEqIEh"
      },
      "execution_count": null,
      "outputs": []
    },
    {
      "cell_type": "code",
      "source": [
        "%%timeit\n",
        "n = 8075\n",
        "chap34_better(n)"
      ],
      "metadata": {
        "colab": {
          "base_uri": "https://localhost:8080/"
        },
        "id": "1EJMqvNEqcGt",
        "outputId": "e4f5f8db-68a1-4611-eca8-2c0a83518040"
      },
      "execution_count": null,
      "outputs": [
        {
          "output_type": "stream",
          "name": "stdout",
          "text": [
            "5.77 µs ± 55.2 ns per loop (mean ± std. dev. of 7 runs, 100000 loops each)\n"
          ]
        }
      ]
    },
    {
      "cell_type": "markdown",
      "source": [
        "# 第３５章"
      ],
      "metadata": {
        "id": "VY6umPWsrZPj"
      }
    },
    {
      "cell_type": "code",
      "source": [
        "import math\n",
        "def chap35_better(n):\n",
        "    if n == 1:\n",
        "        return False\n",
        "    for i in range(2, int(math.sqrt(n)+1)): # 講義中に示したコードにバグがありましたので訂正しました\n",
        "        if n%i == 0:\n",
        "            return False\n",
        "    return True"
      ],
      "metadata": {
        "id": "pVJtPpcNqeBk"
      },
      "execution_count": null,
      "outputs": []
    },
    {
      "cell_type": "code",
      "source": [
        "n = 5\n",
        "chap35_better(n)"
      ],
      "metadata": {
        "colab": {
          "base_uri": "https://localhost:8080/"
        },
        "id": "jl6YT-8zCX5_",
        "outputId": "8163dc36-6fc0-47cb-8ff7-f656ace37009"
      },
      "execution_count": null,
      "outputs": [
        {
          "output_type": "execute_result",
          "data": {
            "text/plain": [
              "True"
            ]
          },
          "metadata": {},
          "execution_count": 5
        }
      ]
    },
    {
      "cell_type": "code",
      "source": [
        "n = 53\n",
        "chap35_better(n)\n"
      ],
      "metadata": {
        "colab": {
          "base_uri": "https://localhost:8080/"
        },
        "id": "gr3L72_frsnj",
        "outputId": "e01dedc5-a715-49dd-bab2-2647b4f82812"
      },
      "execution_count": null,
      "outputs": [
        {
          "output_type": "execute_result",
          "data": {
            "text/plain": [
              "True"
            ]
          },
          "metadata": {},
          "execution_count": 119
        }
      ]
    },
    {
      "cell_type": "code",
      "source": [
        "n = 12357\n",
        "chap35_better(n)"
      ],
      "metadata": {
        "colab": {
          "base_uri": "https://localhost:8080/"
        },
        "id": "ua3AOt-8r7HU",
        "outputId": "c9b2fc80-0e00-436f-d7e8-8fbf1a4b03dc"
      },
      "execution_count": null,
      "outputs": [
        {
          "output_type": "execute_result",
          "data": {
            "text/plain": [
              "False"
            ]
          },
          "metadata": {},
          "execution_count": 120
        }
      ]
    },
    {
      "cell_type": "code",
      "source": [
        "n = 941471\n",
        "chap35_better(n)"
      ],
      "metadata": {
        "colab": {
          "base_uri": "https://localhost:8080/"
        },
        "id": "6sg2M2_Lr-uw",
        "outputId": "70d6d555-810b-452c-bbc2-13fbb6bc31a9"
      },
      "execution_count": null,
      "outputs": [
        {
          "output_type": "execute_result",
          "data": {
            "text/plain": [
              "True"
            ]
          },
          "metadata": {},
          "execution_count": 121
        }
      ]
    },
    {
      "cell_type": "markdown",
      "source": [
        "# 第３６章"
      ],
      "metadata": {
        "id": "Fcq0-AfrsMjZ"
      }
    },
    {
      "cell_type": "code",
      "source": [
        "import math\n",
        "def chap36_better(n):\n",
        "    result = []\n",
        "    for i in range(2, int(math.sqrt(n+1))):\n",
        "        while n%i == 0:\n",
        "            result.append(i)\n",
        "            n /= i\n",
        "    if n != 1:\n",
        "        result.append(int(n))\n",
        "    return sorted(result)"
      ],
      "metadata": {
        "id": "TjvRZR1lsA6r"
      },
      "execution_count": null,
      "outputs": []
    },
    {
      "cell_type": "code",
      "source": [
        "n = 60\n",
        "chap36_better(n)"
      ],
      "metadata": {
        "colab": {
          "base_uri": "https://localhost:8080/"
        },
        "id": "Vtz5qOBYseIa",
        "outputId": "4ee800df-4b00-4851-a02f-f7f6bf3e6fb7"
      },
      "execution_count": null,
      "outputs": [
        {
          "output_type": "execute_result",
          "data": {
            "text/plain": [
              "[2, 2, 3, 5]"
            ]
          },
          "metadata": {},
          "execution_count": 130
        }
      ]
    },
    {
      "cell_type": "code",
      "source": [
        "n = 136\n",
        "chap36_better(n)"
      ],
      "metadata": {
        "colab": {
          "base_uri": "https://localhost:8080/"
        },
        "id": "XNFhJn--skkv",
        "outputId": "86b42b6c-d233-4c04-89be-5590317fe853"
      },
      "execution_count": null,
      "outputs": [
        {
          "output_type": "execute_result",
          "data": {
            "text/plain": [
              "[2, 2, 2, 17]"
            ]
          },
          "metadata": {},
          "execution_count": 131
        }
      ]
    },
    {
      "cell_type": "code",
      "source": [
        "n = 8075\n",
        "chap36_better(n)"
      ],
      "metadata": {
        "colab": {
          "base_uri": "https://localhost:8080/"
        },
        "id": "rUw1c1oKsqPq",
        "outputId": "d3c1b46a-0bd1-4d6c-c859-661051c08d56"
      },
      "execution_count": null,
      "outputs": [
        {
          "output_type": "execute_result",
          "data": {
            "text/plain": [
              "[5, 5, 17, 19]"
            ]
          },
          "metadata": {},
          "execution_count": 132
        }
      ]
    },
    {
      "cell_type": "markdown",
      "source": [
        "# 第３７章"
      ],
      "metadata": {
        "id": "m8HhGZOvtRnA"
      }
    },
    {
      "cell_type": "code",
      "source": [
        "def chap37(n):\n",
        "    is_prime = [True for _ in range(n+1)]\n",
        "    is_prime[0] = False\n",
        "    is_prime[1] = False\n",
        "    result = []\n",
        "    for i in range(2, n+1):\n",
        "        if is_prime[i]:\n",
        "            result.append(i)\n",
        "            j = i * 2\n",
        "            while j <= n:\n",
        "                is_prime[j] = False\n",
        "                j += i\n",
        "    return len(result)"
      ],
      "metadata": {
        "id": "Zu0EdM3WtGzd"
      },
      "execution_count": null,
      "outputs": []
    },
    {
      "cell_type": "code",
      "source": [
        "n = 10\n",
        "chap37(n)"
      ],
      "metadata": {
        "colab": {
          "base_uri": "https://localhost:8080/"
        },
        "id": "dY9-Vz9utt9j",
        "outputId": "cc67d326-631b-4017-d12a-267a6b181ee7"
      },
      "execution_count": null,
      "outputs": [
        {
          "output_type": "execute_result",
          "data": {
            "text/plain": [
              "4"
            ]
          },
          "metadata": {},
          "execution_count": 143
        }
      ]
    },
    {
      "cell_type": "code",
      "source": [
        "n = 100\n",
        "chap37(n)"
      ],
      "metadata": {
        "colab": {
          "base_uri": "https://localhost:8080/"
        },
        "id": "JxFQENtQtwdR",
        "outputId": "e15f1d42-0562-4cc3-d933-4972e08e2067"
      },
      "execution_count": null,
      "outputs": [
        {
          "output_type": "execute_result",
          "data": {
            "text/plain": [
              "25"
            ]
          },
          "metadata": {},
          "execution_count": 144
        }
      ]
    },
    {
      "cell_type": "code",
      "source": [
        "n = 1000\n",
        "chap37(n)"
      ],
      "metadata": {
        "colab": {
          "base_uri": "https://localhost:8080/"
        },
        "id": "4N7ujRV7u-z7",
        "outputId": "d39bd8f5-cbf5-48ac-af8b-6848cad7e4a9"
      },
      "execution_count": null,
      "outputs": [
        {
          "output_type": "execute_result",
          "data": {
            "text/plain": [
              "168"
            ]
          },
          "metadata": {},
          "execution_count": 145
        }
      ]
    },
    {
      "cell_type": "markdown",
      "source": [
        "# 第３８章"
      ],
      "metadata": {
        "id": "KC5T2__zvOOf"
      }
    },
    {
      "cell_type": "code",
      "source": [
        "def gcd(a, b):\n",
        "    if b == 0:\n",
        "        return a\n",
        "    return gcd(b, a%b)"
      ],
      "metadata": {
        "id": "ZECcgk_WvGpr"
      },
      "execution_count": null,
      "outputs": []
    },
    {
      "cell_type": "code",
      "source": [
        "def chap38(P, Q):\n",
        "    return gcd(abs(P[0] - Q[0]), abs(P[1] - Q[1])) - 1"
      ],
      "metadata": {
        "id": "q6wdQi-YvZj5"
      },
      "execution_count": null,
      "outputs": []
    },
    {
      "cell_type": "code",
      "source": [
        "x1 =  -2\n",
        "y1 =  -9\n",
        "x2 =  6\n",
        "y2 =  7"
      ],
      "metadata": {
        "id": "HIjMHiOhvuvN"
      },
      "execution_count": null,
      "outputs": []
    },
    {
      "cell_type": "code",
      "source": [
        "P = [x1, y1]\n",
        "Q = [x2, y2]\n",
        "chap38(P, Q)"
      ],
      "metadata": {
        "colab": {
          "base_uri": "https://localhost:8080/"
        },
        "id": "qyT2tXT9v7eJ",
        "outputId": "8c4ec89d-2ac5-4461-a7fa-cfc958568b2b"
      },
      "execution_count": null,
      "outputs": [
        {
          "output_type": "execute_result",
          "data": {
            "text/plain": [
              "7"
            ]
          },
          "metadata": {},
          "execution_count": 150
        }
      ]
    },
    {
      "cell_type": "code",
      "source": [],
      "metadata": {
        "id": "cA0DCMaOwCoA"
      },
      "execution_count": null,
      "outputs": []
    }
  ]
}